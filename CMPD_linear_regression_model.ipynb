{
 "cells": [
  {
   "cell_type": "code",
   "execution_count": 1,
   "id": "bdad5efe",
   "metadata": {},
   "outputs": [],
   "source": [
    "#Add Imports\n",
    "import numpy as np\n",
    "import pandas as pd\n",
    "from pathlib import Path\n",
    "import matplotlib.pyplot as plt\n",
    "from sklearn.linear_model import LinearRegression"
   ]
  },
  {
   "cell_type": "code",
   "execution_count": 2,
   "id": "15996cd6",
   "metadata": {},
   "outputs": [],
   "source": [
    "#Load CSV file\n",
    "cmpd_violent_crimes = pd.read_csv('cmpd_violent_cleaned_data_df')"
   ]
  },
  {
   "cell_type": "code",
   "execution_count": 3,
   "id": "b795b53d",
   "metadata": {},
   "outputs": [],
   "source": [
    "#Check File\n"
   ]
  },
  {
   "cell_type": "code",
   "execution_count": 4,
   "id": "62395494",
   "metadata": {},
   "outputs": [],
   "source": [
    "#Change Unnamed:0.1 to a datetime\n",
    "cmpd_violent_crimes.rename(columns={\"Unnamed: 0.1\":\"Date\"},inplace=True)\n",
    "cmpd_violent_crimes['Date'] = pd.to_datetime(cmpd_violent_crimes['Date'], format='%m/%d/%Y')\n",
    "\n",
    "#Loc to get all rows that have a date on or after Jan 2022 (test)\n",
    "#Before Jan 2022 is the train\n",
    "test = cmpd_violent_crimes[cmpd_violent_crimes['Date'] >= pd.Timestamp('1/1/2022')]\n",
    "train = cmpd_violent_crimes[cmpd_violent_crimes['Date'] < pd.Timestamp('1/1/2022')]\n",
    "\n",
    "\n",
    "train = train.iloc[:,2:14] # check this index, should be 14?\n",
    "test = test.iloc[:,2:14]\n",
    "\n",
    "#cmpd_violent_crimes = cmpd_violent_crimes.iloc[:,2:15]\n"
   ]
  },
  {
   "cell_type": "code",
   "execution_count": 5,
   "id": "04544ce2",
   "metadata": {},
   "outputs": [
    {
     "data": {
      "text/plain": [
       "(84, 12)"
      ]
     },
     "execution_count": 5,
     "metadata": {},
     "output_type": "execute_result"
    }
   ],
   "source": [
    "#Using the describe function\n",
    "train.shape"
   ]
  },
  {
   "cell_type": "code",
   "execution_count": 6,
   "id": "ae7adacd",
   "metadata": {},
   "outputs": [
    {
     "data": {
      "text/html": [
       "<div>\n",
       "<style scoped>\n",
       "    .dataframe tbody tr th:only-of-type {\n",
       "        vertical-align: middle;\n",
       "    }\n",
       "\n",
       "    .dataframe tbody tr th {\n",
       "        vertical-align: top;\n",
       "    }\n",
       "\n",
       "    .dataframe thead th {\n",
       "        text-align: right;\n",
       "    }\n",
       "</style>\n",
       "<table border=\"1\" class=\"dataframe\">\n",
       "  <thead>\n",
       "    <tr style=\"text-align: right;\">\n",
       "      <th></th>\n",
       "      <th>Aggravated Assault-Fists,Feet, etc.</th>\n",
       "      <th>Aggravated Assault-Gun</th>\n",
       "      <th>Aggravated Assault-Knife</th>\n",
       "      <th>Aggravated Assault-Other Weapon</th>\n",
       "      <th>Armed Robbery</th>\n",
       "      <th>Attempted Rape</th>\n",
       "      <th>Homicide</th>\n",
       "      <th>Non-Fatal Gunshot Injury</th>\n",
       "      <th>Rape</th>\n",
       "      <th>Strong Arm Robbery</th>\n",
       "      <th>Violent Crime</th>\n",
       "      <th>Grand Total</th>\n",
       "    </tr>\n",
       "  </thead>\n",
       "  <tbody>\n",
       "    <tr>\n",
       "      <th>0</th>\n",
       "      <td>11</td>\n",
       "      <td>237</td>\n",
       "      <td>41</td>\n",
       "      <td>40</td>\n",
       "      <td>99</td>\n",
       "      <td>0.0</td>\n",
       "      <td>8</td>\n",
       "      <td>20</td>\n",
       "      <td>21</td>\n",
       "      <td>34</td>\n",
       "      <td>491</td>\n",
       "      <td>1002</td>\n",
       "    </tr>\n",
       "    <tr>\n",
       "      <th>1</th>\n",
       "      <td>3</td>\n",
       "      <td>134</td>\n",
       "      <td>40</td>\n",
       "      <td>46</td>\n",
       "      <td>67</td>\n",
       "      <td>1.0</td>\n",
       "      <td>5</td>\n",
       "      <td>16</td>\n",
       "      <td>25</td>\n",
       "      <td>25</td>\n",
       "      <td>346</td>\n",
       "      <td>708</td>\n",
       "    </tr>\n",
       "    <tr>\n",
       "      <th>2</th>\n",
       "      <td>8</td>\n",
       "      <td>141</td>\n",
       "      <td>48</td>\n",
       "      <td>52</td>\n",
       "      <td>78</td>\n",
       "      <td>3.0</td>\n",
       "      <td>4</td>\n",
       "      <td>13</td>\n",
       "      <td>26</td>\n",
       "      <td>48</td>\n",
       "      <td>408</td>\n",
       "      <td>829</td>\n",
       "    </tr>\n",
       "    <tr>\n",
       "      <th>3</th>\n",
       "      <td>12</td>\n",
       "      <td>132</td>\n",
       "      <td>54</td>\n",
       "      <td>57</td>\n",
       "      <td>84</td>\n",
       "      <td>2.0</td>\n",
       "      <td>6</td>\n",
       "      <td>15</td>\n",
       "      <td>18</td>\n",
       "      <td>42</td>\n",
       "      <td>407</td>\n",
       "      <td>829</td>\n",
       "    </tr>\n",
       "    <tr>\n",
       "      <th>4</th>\n",
       "      <td>10</td>\n",
       "      <td>174</td>\n",
       "      <td>71</td>\n",
       "      <td>71</td>\n",
       "      <td>113</td>\n",
       "      <td>2.0</td>\n",
       "      <td>1</td>\n",
       "      <td>27</td>\n",
       "      <td>24</td>\n",
       "      <td>60</td>\n",
       "      <td>526</td>\n",
       "      <td>1079</td>\n",
       "    </tr>\n",
       "  </tbody>\n",
       "</table>\n",
       "</div>"
      ],
      "text/plain": [
       "   Aggravated Assault-Fists,Feet, etc.  Aggravated Assault-Gun  \\\n",
       "0                                   11                     237   \n",
       "1                                    3                     134   \n",
       "2                                    8                     141   \n",
       "3                                   12                     132   \n",
       "4                                   10                     174   \n",
       "\n",
       "   Aggravated Assault-Knife  Aggravated Assault-Other Weapon  Armed Robbery  \\\n",
       "0                        41                               40             99   \n",
       "1                        40                               46             67   \n",
       "2                        48                               52             78   \n",
       "3                        54                               57             84   \n",
       "4                        71                               71            113   \n",
       "\n",
       "   Attempted Rape  Homicide  Non-Fatal Gunshot Injury  Rape  \\\n",
       "0             0.0         8                        20    21   \n",
       "1             1.0         5                        16    25   \n",
       "2             3.0         4                        13    26   \n",
       "3             2.0         6                        15    18   \n",
       "4             2.0         1                        27    24   \n",
       "\n",
       "   Strong Arm Robbery  Violent Crime  Grand Total  \n",
       "0                  34            491         1002  \n",
       "1                  25            346          708  \n",
       "2                  48            408          829  \n",
       "3                  42            407          829  \n",
       "4                  60            526         1079  "
      ]
     },
     "execution_count": 6,
     "metadata": {},
     "output_type": "execute_result"
    }
   ],
   "source": [
    "#Acquire Data types\n",
    "\n",
    "# cmpd_violent_crimes.info()\n",
    "train.head()\n"
   ]
  },
  {
   "cell_type": "code",
   "execution_count": 7,
   "id": "8d8cb488",
   "metadata": {},
   "outputs": [
    {
     "data": {
      "text/plain": [
       "<bound method DataFrame.info of     Aggravated Assault-Fists,Feet, etc.  Aggravated Assault-Gun  \\\n",
       "0                                    11                     237   \n",
       "1                                     3                     134   \n",
       "2                                     8                     141   \n",
       "3                                    12                     132   \n",
       "4                                    10                     174   \n",
       "..                                  ...                     ...   \n",
       "79                                   14                     343   \n",
       "80                                    5                     317   \n",
       "81                                   10                     310   \n",
       "82                                    8                     330   \n",
       "83                                   12                     307   \n",
       "\n",
       "    Aggravated Assault-Knife  Aggravated Assault-Other Weapon  Armed Robbery  \\\n",
       "0                         41                               40             99   \n",
       "1                         40                               46             67   \n",
       "2                         48                               52             78   \n",
       "3                         54                               57             84   \n",
       "4                         71                               71            113   \n",
       "..                       ...                              ...            ...   \n",
       "79                        51                               70             88   \n",
       "80                        42                               52             71   \n",
       "81                        44                               65             86   \n",
       "82                        41                               54             76   \n",
       "83                        30                               48             88   \n",
       "\n",
       "    Attempted Rape  Homicide  Non-Fatal Gunshot Injury  Rape  \\\n",
       "0              0.0         8                        20    21   \n",
       "1              1.0         5                        16    25   \n",
       "2              3.0         4                        13    26   \n",
       "3              2.0         6                        15    18   \n",
       "4              2.0         1                        27    24   \n",
       "..             ...       ...                       ...   ...   \n",
       "79             1.0         5                        32    23   \n",
       "80             4.0         7                        39    18   \n",
       "81             1.0        15                        43    35   \n",
       "82             1.0         6                        31    30   \n",
       "83             1.0        10                        41    22   \n",
       "\n",
       "    Strong Arm Robbery  Violent Crime  Grand Total  \n",
       "0                   34            491         1002  \n",
       "1                   25            346          708  \n",
       "2                   48            408          829  \n",
       "3                   42            407          829  \n",
       "4                   60            526         1079  \n",
       "..                 ...            ...          ...  \n",
       "79                  31            626         1284  \n",
       "80                  47            563         1165  \n",
       "81                  39            605         1253  \n",
       "82                  35            581         1193  \n",
       "83                  52            570         1181  \n",
       "\n",
       "[84 rows x 12 columns]>"
      ]
     },
     "execution_count": 7,
     "metadata": {},
     "output_type": "execute_result"
    }
   ],
   "source": [
    "train.info"
   ]
  },
  {
   "cell_type": "code",
   "execution_count": 8,
   "id": "e0bdbdf5",
   "metadata": {},
   "outputs": [],
   "source": [
    "#Create the test independent and dependent values\n",
    "\n",
    "\n",
    "# TODO: add more features for x's\n",
    "x_train = train.iloc[:,2].values.reshape(-1,1)\n",
    "y_train = train.iloc[:,11].values.reshape(-1,1) # check the index, should be 12?\n",
    "\n",
    "x_test = test.iloc[:,2].values.reshape(-1,1)\n",
    "y_test = test.iloc[:,11].values.reshape(-1,1)\n"
   ]
  },
  {
   "cell_type": "code",
   "execution_count": 9,
   "id": "643417e4",
   "metadata": {},
   "outputs": [],
   "source": [
    "#Creating variables\n",
    "#Decision tree regression or SVR (Look into)\n",
    "# TODO: try chaning out model\n",
    "Violent_linear_regressor = LinearRegression()"
   ]
  },
  {
   "cell_type": "code",
   "execution_count": 10,
   "id": "79c6acd9",
   "metadata": {},
   "outputs": [
    {
     "data": {
      "text/plain": [
       "LinearRegression()"
      ]
     },
     "execution_count": 10,
     "metadata": {},
     "output_type": "execute_result"
    }
   ],
   "source": [
    "#Fitting model\n",
    "\n",
    "Violent_linear_regressor.fit(x_train,y_train)"
   ]
  },
  {
   "cell_type": "code",
   "execution_count": 11,
   "id": "b7c903f9",
   "metadata": {},
   "outputs": [],
   "source": [
    "#Plot variable created\n",
    "\n",
    "r_squared = Violent_linear_regressor.score(x_test,y_test)\n",
    "\n",
    "crime_pred = Violent_linear_regressor.predict(x_test)"
   ]
  },
  {
   "cell_type": "code",
   "execution_count": 12,
   "id": "ec3f80bd",
   "metadata": {},
   "outputs": [
    {
     "data": {
      "text/plain": [
       "0.31137181414278947"
      ]
     },
     "execution_count": 12,
     "metadata": {},
     "output_type": "execute_result"
    }
   ],
   "source": [
    "r_squared"
   ]
  },
  {
   "cell_type": "code",
   "execution_count": 13,
   "id": "b5f7f0d2",
   "metadata": {},
   "outputs": [
    {
     "data": {
      "text/plain": [
       "array([[1127.07804878],\n",
       "       [1153.07065055],\n",
       "       [1159.56880099],\n",
       "       [1257.04105762],\n",
       "       [1205.05585409],\n",
       "       [1211.55400453],\n",
       "       [1205.05585409],\n",
       "       [1250.54290718],\n",
       "       [1101.08544701],\n",
       "       [1120.57989834],\n",
       "       [1016.60949126],\n",
       "       [1127.07804878]])"
      ]
     },
     "execution_count": 13,
     "metadata": {},
     "output_type": "execute_result"
    }
   ],
   "source": [
    "crime_pred"
   ]
  },
  {
   "cell_type": "code",
   "execution_count": 21,
   "id": "76fa3576",
   "metadata": {},
   "outputs": [
    {
     "data": {
      "image/png": "[encoded data removed]",
      "text/plain": [
       "<Figure size 640x480 with 1 Axes>"
      ]
     },
     "metadata": {},
     "output_type": "display_data"
    }
   ],
   "source": [
    "#Ploting Linear Regression on a Scatter plot\n",
    "plt.title(\"Test CMPD Crimes Prior to 2022\")\n",
    "plt.xlabel(\"Months\")\n",
    "plt.ylabel(\"Number of Gun Assualt\")\n",
    "plt.scatter(x_test, y_test)\n",
    "plt.plot(x_test, crime_pred, color='red')\n",
    "plt.show()"
   ]
  },
  {
   "cell_type": "code",
   "execution_count": 15,
   "id": "56aba224",
   "metadata": {},
   "outputs": [],
   "source": [
    "train_r_squared = Violent_linear_regressor.score(x_train,y_train)\n",
    "\n",
    "train_crime_pred = Violent_linear_regressor.predict(x_train)"
   ]
  },
  {
   "cell_type": "code",
   "execution_count": 16,
   "id": "2fc89c88",
   "metadata": {},
   "outputs": [
    {
     "data": {
      "text/plain": [
       "0.08106020480213394"
      ]
     },
     "execution_count": 16,
     "metadata": {},
     "output_type": "execute_result"
    }
   ],
   "source": [
    "train_r_squared"
   ]
  },
  {
   "cell_type": "code",
   "execution_count": 17,
   "id": "be1ca264",
   "metadata": {},
   "outputs": [
    {
     "data": {
      "text/plain": [
       "array([[1133.57619922],\n",
       "       [1127.07804878],\n",
       "       [1179.06325232],\n",
       "       [1218.05215497],\n",
       "       [1328.52071249],\n",
       "       [1296.02996028],\n",
       "       [1172.56510188],\n",
       "       [1198.55770364],\n",
       "       [1153.07065055],\n",
       "       [1211.55400453],\n",
       "       [1114.0817479 ],\n",
       "       [1120.57989834],\n",
       "       [1146.57250011],\n",
       "       [1127.07804878],\n",
       "       [1172.56510188],\n",
       "       [1192.0595532 ],\n",
       "       [1159.56880099],\n",
       "       [1315.5244116 ],\n",
       "       [1276.53550895],\n",
       "       [1185.56140276],\n",
       "       [1192.0595532 ],\n",
       "       [1140.07434966],\n",
       "       [1218.05215497],\n",
       "       [1185.56140276],\n",
       "       [1120.57989834],\n",
       "       [1224.55030541],\n",
       "       [1172.56510188],\n",
       "       [1179.06325232],\n",
       "       [1276.53550895],\n",
       "       [1133.57619922],\n",
       "       [1205.05585409],\n",
       "       [1159.56880099],\n",
       "       [1153.07065055],\n",
       "       [1218.05215497],\n",
       "       [1127.07804878],\n",
       "       [1107.58359745],\n",
       "       [1153.07065055],\n",
       "       [1107.58359745],\n",
       "       [1127.07804878],\n",
       "       [1062.09654436],\n",
       "       [1185.56140276],\n",
       "       [1140.07434966],\n",
       "       [1140.07434966],\n",
       "       [1244.04475674],\n",
       "       [1153.07065055],\n",
       "       [1068.5946948 ],\n",
       "       [1062.09654436],\n",
       "       [1146.57250011],\n",
       "       [1185.56140276],\n",
       "       [1146.57250011],\n",
       "       [1198.55770364],\n",
       "       [1120.57989834],\n",
       "       [1237.5466063 ],\n",
       "       [1244.04475674],\n",
       "       [1276.53550895],\n",
       "       [1107.58359745],\n",
       "       [1166.06695143],\n",
       "       [1081.59099569],\n",
       "       [1192.0595532 ],\n",
       "       [1140.07434966],\n",
       "       [1127.07804878],\n",
       "       [1146.57250011],\n",
       "       [1276.53550895],\n",
       "       [1114.0817479 ],\n",
       "       [1081.59099569],\n",
       "       [1309.02626116],\n",
       "       [1244.04475674],\n",
       "       [1205.05585409],\n",
       "       [1159.56880099],\n",
       "       [1192.0595532 ],\n",
       "       [1218.05215497],\n",
       "       [1224.55030541],\n",
       "       [1153.07065055],\n",
       "       [1166.06695143],\n",
       "       [1153.07065055],\n",
       "       [1068.5946948 ],\n",
       "       [1218.05215497],\n",
       "       [1166.06695143],\n",
       "       [1146.57250011],\n",
       "       [1198.55770364],\n",
       "       [1140.07434966],\n",
       "       [1153.07065055],\n",
       "       [1133.57619922],\n",
       "       [1062.09654436]])"
      ]
     },
     "execution_count": 17,
     "metadata": {},
     "output_type": "execute_result"
    }
   ],
   "source": [
    "train_crime_pred"
   ]
  },
  {
   "cell_type": "code",
   "execution_count": 18,
   "id": "e7967d71",
   "metadata": {},
   "outputs": [],
   "source": [
    "#Testing set\n",
    "\n",
    "# Delete this, don't use\n",
    "\n",
    "# from sklearn.model_selection import train_test_split\n",
    "\n",
    "# x_train, x_test,y_train, y_test = train_test_split(x,y,random_state=1,stratify=y)\n",
    "\n",
    "# x_train.shape"
   ]
  },
  {
   "cell_type": "code",
   "execution_count": 20,
   "id": "c1b7c45f",
   "metadata": {},
   "outputs": [
    {
     "data": {
      "image/png": "[encoded data removed]",
      "text/plain": [
       "<Figure size 640x480 with 1 Axes>"
      ]
     },
     "metadata": {},
     "output_type": "display_data"
    }
   ],
   "source": [
    "#Ploting Linear Regression on a Scatter plot\n",
    "plt.title(\"Train CMPD Crimes After to 2022\")\n",
    "plt.xlabel(\"Months\")\n",
    "plt.ylabel(\"Number of Gun Assault\")\n",
    "plt.scatter(x_train, y_train)\n",
    "plt.plot(x_train, train_crime_pred, color='red')\n",
    "plt.show()"
   ]
  },
  {
   "cell_type": "code",
   "execution_count": null,
   "id": "d60abcce",
   "metadata": {},
   "outputs": [],
   "source": []
  }
 ],
 "metadata": {
  "kernelspec": {
   "display_name": "mlenv",
   "language": "python",
   "name": "mlenv"
  },
  "language_info": {
   "codemirror_mode": {
    "name": "ipython",
    "version": 3
   },
   "file_extension": ".py",
   "mimetype": "text/x-python",
   "name": "python",
   "nbconvert_exporter": "python",
   "pygments_lexer": "ipython3",
   "version": "3.7.13"
  }
 },
 "nbformat": 4,
 "nbformat_minor": 5
}
