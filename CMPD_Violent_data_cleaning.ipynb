{
 "cells": [
  {
   "cell_type": "code",
   "execution_count": 1,
   "id": "638153bb",
   "metadata": {},
   "outputs": [],
   "source": [
    "%matplotlib inline\n",
    "\n",
    "# Dependencies\n",
    "\n",
    "import matplotlib.pyplot as plt\n",
    "import numpy as np\n",
    "import pandas as pd\n",
    "\n",
    "# Files to load\n",
    "cmpd_data_to_load = \"CMPD_Violent_Crime.csv\""
   ]
  },
  {
   "cell_type": "code",
   "execution_count": 2,
   "id": "2619130f",
   "metadata": {},
   "outputs": [
    {
     "data": {
      "text/html": [
       "<div>\n",
       "<style scoped>\n",
       "    .dataframe tbody tr th:only-of-type {\n",
       "        vertical-align: middle;\n",
       "    }\n",
       "\n",
       "    .dataframe tbody tr th {\n",
       "        vertical-align: top;\n",
       "    }\n",
       "\n",
       "    .dataframe thead th {\n",
       "        text-align: right;\n",
       "    }\n",
       "</style>\n",
       "<table border=\"1\" class=\"dataframe\">\n",
       "  <thead>\n",
       "    <tr style=\"text-align: right;\">\n",
       "      <th></th>\n",
       "      <th>Unnamed: 0</th>\n",
       "      <th>Aggravated Assault-Fists,Feet, etc.</th>\n",
       "      <th>Aggravated Assault-Gun</th>\n",
       "      <th>Aggravated Assault-Knife</th>\n",
       "      <th>Aggravated Assault-Other Weapon</th>\n",
       "      <th>Armed Robbery</th>\n",
       "      <th>Attempted Rape</th>\n",
       "      <th>Homicide</th>\n",
       "      <th>Non-Fatal Gunshot Injury</th>\n",
       "      <th>Rape</th>\n",
       "      <th>Strong Arm Robbery</th>\n",
       "      <th>Violent Crime</th>\n",
       "      <th>Grand Total</th>\n",
       "      <th>Grand Total (T+1)</th>\n",
       "    </tr>\n",
       "  </thead>\n",
       "  <tbody>\n",
       "    <tr>\n",
       "      <th>0</th>\n",
       "      <td>1/1/2015</td>\n",
       "      <td>11</td>\n",
       "      <td>237</td>\n",
       "      <td>41</td>\n",
       "      <td>40</td>\n",
       "      <td>99</td>\n",
       "      <td>NaN</td>\n",
       "      <td>8</td>\n",
       "      <td>20</td>\n",
       "      <td>21</td>\n",
       "      <td>34</td>\n",
       "      <td>491</td>\n",
       "      <td>1002</td>\n",
       "      <td>708.0</td>\n",
       "    </tr>\n",
       "    <tr>\n",
       "      <th>1</th>\n",
       "      <td>2/1/2015</td>\n",
       "      <td>3</td>\n",
       "      <td>134</td>\n",
       "      <td>40</td>\n",
       "      <td>46</td>\n",
       "      <td>67</td>\n",
       "      <td>1.0</td>\n",
       "      <td>5</td>\n",
       "      <td>16</td>\n",
       "      <td>25</td>\n",
       "      <td>25</td>\n",
       "      <td>346</td>\n",
       "      <td>708</td>\n",
       "      <td>829.0</td>\n",
       "    </tr>\n",
       "    <tr>\n",
       "      <th>2</th>\n",
       "      <td>3/1/2015</td>\n",
       "      <td>8</td>\n",
       "      <td>141</td>\n",
       "      <td>48</td>\n",
       "      <td>52</td>\n",
       "      <td>78</td>\n",
       "      <td>3.0</td>\n",
       "      <td>4</td>\n",
       "      <td>13</td>\n",
       "      <td>26</td>\n",
       "      <td>48</td>\n",
       "      <td>408</td>\n",
       "      <td>829</td>\n",
       "      <td>829.0</td>\n",
       "    </tr>\n",
       "    <tr>\n",
       "      <th>3</th>\n",
       "      <td>4/1/2015</td>\n",
       "      <td>12</td>\n",
       "      <td>132</td>\n",
       "      <td>54</td>\n",
       "      <td>57</td>\n",
       "      <td>84</td>\n",
       "      <td>2.0</td>\n",
       "      <td>6</td>\n",
       "      <td>15</td>\n",
       "      <td>18</td>\n",
       "      <td>42</td>\n",
       "      <td>407</td>\n",
       "      <td>829</td>\n",
       "      <td>1079.0</td>\n",
       "    </tr>\n",
       "    <tr>\n",
       "      <th>4</th>\n",
       "      <td>5/1/2015</td>\n",
       "      <td>10</td>\n",
       "      <td>174</td>\n",
       "      <td>71</td>\n",
       "      <td>71</td>\n",
       "      <td>113</td>\n",
       "      <td>2.0</td>\n",
       "      <td>1</td>\n",
       "      <td>27</td>\n",
       "      <td>24</td>\n",
       "      <td>60</td>\n",
       "      <td>526</td>\n",
       "      <td>1079</td>\n",
       "      <td>862.0</td>\n",
       "    </tr>\n",
       "  </tbody>\n",
       "</table>\n",
       "</div>"
      ],
      "text/plain": [
       "  Unnamed: 0  Aggravated Assault-Fists,Feet, etc.  Aggravated Assault-Gun  \\\n",
       "0   1/1/2015                                   11                     237   \n",
       "1   2/1/2015                                    3                     134   \n",
       "2   3/1/2015                                    8                     141   \n",
       "3   4/1/2015                                   12                     132   \n",
       "4   5/1/2015                                   10                     174   \n",
       "\n",
       "   Aggravated Assault-Knife  Aggravated Assault-Other Weapon  Armed Robbery  \\\n",
       "0                        41                               40             99   \n",
       "1                        40                               46             67   \n",
       "2                        48                               52             78   \n",
       "3                        54                               57             84   \n",
       "4                        71                               71            113   \n",
       "\n",
       "   Attempted Rape  Homicide  Non-Fatal Gunshot Injury  Rape  \\\n",
       "0             NaN         8                        20    21   \n",
       "1             1.0         5                        16    25   \n",
       "2             3.0         4                        13    26   \n",
       "3             2.0         6                        15    18   \n",
       "4             2.0         1                        27    24   \n",
       "\n",
       "   Strong Arm Robbery  Violent Crime  Grand Total  Grand Total (T+1)  \n",
       "0                  34            491         1002              708.0  \n",
       "1                  25            346          708              829.0  \n",
       "2                  48            408          829              829.0  \n",
       "3                  42            407          829             1079.0  \n",
       "4                  60            526         1079              862.0  "
      ]
     },
     "execution_count": 2,
     "metadata": {},
     "output_type": "execute_result"
    }
   ],
   "source": [
    "# Read the city data file and store it in a pandas DataFrame.\n",
    "cmpd_violent_data_df = pd.read_csv(cmpd_data_to_load)\n",
    "cmpd_violent_data_df.head(5)"
   ]
  },
  {
   "cell_type": "code",
   "execution_count": 3,
   "id": "38f7d9f9",
   "metadata": {},
   "outputs": [
    {
     "data": {
      "text/plain": [
       "Unnamed: 0                             96\n",
       "Aggravated Assault-Fists,Feet, etc.    96\n",
       "Aggravated Assault-Gun                 96\n",
       "Aggravated Assault-Knife               96\n",
       "Aggravated Assault-Other Weapon        96\n",
       "Armed Robbery                          96\n",
       "Attempted Rape                         74\n",
       "Homicide                               96\n",
       "Non-Fatal Gunshot Injury               96\n",
       "Rape                                   96\n",
       "Strong Arm Robbery                     96\n",
       "Violent Crime                          96\n",
       "Grand Total                            96\n",
       "Grand Total (T+1)                      95\n",
       "dtype: int64"
      ]
     },
     "execution_count": 3,
     "metadata": {},
     "output_type": "execute_result"
    }
   ],
   "source": [
    "# Get the columns and the rows that are not null.\n",
    "cmpd_violent_data_df.count()"
   ]
  },
  {
   "cell_type": "code",
   "execution_count": 4,
   "id": "af7095fd",
   "metadata": {},
   "outputs": [
    {
     "data": {
      "text/plain": [
       "Unnamed: 0                              0\n",
       "Aggravated Assault-Fists,Feet, etc.     0\n",
       "Aggravated Assault-Gun                  0\n",
       "Aggravated Assault-Knife                0\n",
       "Aggravated Assault-Other Weapon         0\n",
       "Armed Robbery                           0\n",
       "Attempted Rape                         22\n",
       "Homicide                                0\n",
       "Non-Fatal Gunshot Injury                0\n",
       "Rape                                    0\n",
       "Strong Arm Robbery                      0\n",
       "Violent Crime                           0\n",
       "Grand Total                             0\n",
       "Grand Total (T+1)                       1\n",
       "dtype: int64"
      ]
     },
     "execution_count": 4,
     "metadata": {},
     "output_type": "execute_result"
    }
   ],
   "source": [
    "# Get the columns and the rows that are not null.\n",
    "cmpd_violent_data_df.isnull().sum()"
   ]
  },
  {
   "cell_type": "code",
   "execution_count": 5,
   "id": "ee779dd8",
   "metadata": {},
   "outputs": [
    {
     "data": {
      "text/plain": [
       "0"
      ]
     },
     "execution_count": 5,
     "metadata": {},
     "output_type": "execute_result"
    }
   ],
   "source": [
    "# Check for duplicated rows\n",
    "cmpd_violent_data_df.duplicated().sum()"
   ]
  },
  {
   "cell_type": "code",
   "execution_count": 6,
   "id": "32b6584e",
   "metadata": {},
   "outputs": [
    {
     "data": {
      "text/plain": [
       "Unnamed: 0                              object\n",
       "Aggravated Assault-Fists,Feet, etc.      int64\n",
       "Aggravated Assault-Gun                   int64\n",
       "Aggravated Assault-Knife                 int64\n",
       "Aggravated Assault-Other Weapon          int64\n",
       "Armed Robbery                            int64\n",
       "Attempted Rape                         float64\n",
       "Homicide                                 int64\n",
       "Non-Fatal Gunshot Injury                 int64\n",
       "Rape                                     int64\n",
       "Strong Arm Robbery                       int64\n",
       "Violent Crime                            int64\n",
       "Grand Total                              int64\n",
       "Grand Total (T+1)                      float64\n",
       "dtype: object"
      ]
     },
     "execution_count": 6,
     "metadata": {},
     "output_type": "execute_result"
    }
   ],
   "source": [
    "# Get the data types of each column.\n",
    "cmpd_violent_data_df.dtypes"
   ]
  },
  {
   "cell_type": "code",
   "execution_count": 8,
   "id": "ebc64068",
   "metadata": {},
   "outputs": [
    {
     "data": {
      "text/plain": [
       "Unnamed: 0                             96\n",
       "Aggravated Assault-Fists,Feet, etc.    96\n",
       "Aggravated Assault-Gun                 96\n",
       "Aggravated Assault-Knife               96\n",
       "Aggravated Assault-Other Weapon        96\n",
       "Armed Robbery                          96\n",
       "Attempted Rape                         74\n",
       "Homicide                               96\n",
       "Non-Fatal Gunshot Injury               96\n",
       "Rape                                   96\n",
       "Strong Arm Robbery                     96\n",
       "Violent Crime                          96\n",
       "Grand Total                            96\n",
       "Grand Total (T+1)                      95\n",
       "dtype: int64"
      ]
     },
     "execution_count": 8,
     "metadata": {},
     "output_type": "execute_result"
    }
   ],
   "source": [
    "#df raw count\n",
    "cmpd_violent_data_df.count()"
   ]
  },
  {
   "cell_type": "code",
   "execution_count": 10,
   "id": "09619029",
   "metadata": {},
   "outputs": [
    {
     "data": {
      "text/plain": [
       "Unnamed: 0                              0\n",
       "Aggravated Assault-Fists,Feet, etc.     0\n",
       "Aggravated Assault-Gun                  0\n",
       "Aggravated Assault-Knife                0\n",
       "Aggravated Assault-Other Weapon         0\n",
       "Armed Robbery                           0\n",
       "Attempted Rape                         22\n",
       "Homicide                                0\n",
       "Non-Fatal Gunshot Injury                0\n",
       "Rape                                    0\n",
       "Strong Arm Robbery                      0\n",
       "Violent Crime                           0\n",
       "Grand Total                             0\n",
       "Grand Total (T+1)                       1\n",
       "dtype: int64"
      ]
     },
     "execution_count": 10,
     "metadata": {},
     "output_type": "execute_result"
    }
   ],
   "source": [
    "# Get the columns and the rows that are null.\n",
    "cmpd_violent_data_df.isnull().sum()"
   ]
  },
  {
   "cell_type": "code",
   "execution_count": 12,
   "id": "5c00a82e",
   "metadata": {},
   "outputs": [],
   "source": [
    "cmpd_violent_data_df['Attempted Rape'] = cmpd_violent_data_df['Attempted Rape'].fillna(0)"
   ]
  },
  {
   "cell_type": "code",
   "execution_count": 14,
   "id": "13a2a866",
   "metadata": {},
   "outputs": [
    {
     "data": {
      "text/plain": [
       "Unnamed: 0                             96\n",
       "Aggravated Assault-Fists,Feet, etc.    96\n",
       "Aggravated Assault-Gun                 96\n",
       "Aggravated Assault-Knife               96\n",
       "Aggravated Assault-Other Weapon        96\n",
       "Armed Robbery                          96\n",
       "Attempted Rape                         96\n",
       "Homicide                               96\n",
       "Non-Fatal Gunshot Injury               96\n",
       "Rape                                   96\n",
       "Strong Arm Robbery                     96\n",
       "Violent Crime                          96\n",
       "Grand Total                            96\n",
       "Grand Total (T+1)                      95\n",
       "dtype: int64"
      ]
     },
     "execution_count": 14,
     "metadata": {},
     "output_type": "execute_result"
    }
   ],
   "source": [
    "cmpd_violent_data_df.count()"
   ]
  },
  {
   "cell_type": "code",
   "execution_count": null,
   "id": "e37dd651",
   "metadata": {},
   "outputs": [],
   "source": []
  }
 ],
 "metadata": {
  "kernelspec": {
   "display_name": "Python 3 (ipykernel)",
   "language": "python",
   "name": "python3"
  },
  "language_info": {
   "codemirror_mode": {
    "name": "ipython",
    "version": 3
   },
   "file_extension": ".py",
   "mimetype": "text/x-python",
   "name": "python",
   "nbconvert_exporter": "python",
   "pygments_lexer": "ipython3",
   "version": "3.9.12"
  }
 },
 "nbformat": 4,
 "nbformat_minor": 5
}
