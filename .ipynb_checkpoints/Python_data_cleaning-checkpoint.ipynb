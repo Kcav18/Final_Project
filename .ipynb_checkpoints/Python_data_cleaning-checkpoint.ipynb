{
 "cells": [
  {
   "cell_type": "code",
   "execution_count": 769,
   "id": "5d879cf3",
   "metadata": {},
   "outputs": [],
   "source": [
    "import pandas as pd\n",
    "import os\n"
   ]
  },
  {
   "cell_type": "code",
   "execution_count": null,
   "id": "27261938",
   "metadata": {},
   "outputs": [],
   "source": []
  },
  {
   "cell_type": "code",
   "execution_count": 770,
   "id": "29c484ab",
   "metadata": {},
   "outputs": [
    {
     "name": "stderr",
     "output_type": "stream",
     "text": [
      "/var/folders/fc/jt_jz5j96gb_rplryksrw2_80000gn/T/ipykernel_46696/887012545.py:2: DtypeWarning: Columns (7) have mixed types. Specify dtype option on import or set low_memory=False.\n",
      "  df = pd.read_csv('CMPD_Incidents.csv')\n"
     ]
    }
   ],
   "source": [
    "import pandas as pd\n",
    "df = pd.read_csv('CMPD_Incidents.csv')\n"
   ]
  },
  {
   "cell_type": "code",
   "execution_count": 771,
   "id": "04553b5b",
   "metadata": {},
   "outputs": [
    {
     "data": {
      "text/plain": [
       "pandas.core.series.Series"
      ]
     },
     "execution_count": 771,
     "metadata": {},
     "output_type": "execute_result"
    }
   ],
   "source": [
    "type(df['DATE_INCIDENT_BEGAN'])\n",
    "\n"
   ]
  },
  {
   "cell_type": "code",
   "execution_count": 105,
   "id": "19fbf9b4",
   "metadata": {},
   "outputs": [
    {
     "data": {
      "text/plain": [
       "0         2023/01/30 00:00:00+00\n",
       "1         2023/01/30 00:00:00+00\n",
       "2         2023/01/30 00:00:00+00\n",
       "3         2023/01/30 00:00:00+00\n",
       "4         2023/01/30 00:00:00+00\n",
       "                   ...          \n",
       "557708    2017/01/01 00:00:00+00\n",
       "557709    2017/01/01 00:00:00+00\n",
       "557710    2017/01/01 00:00:00+00\n",
       "557711    2017/01/01 00:00:00+00\n",
       "557712    2017/01/01 00:00:00+00\n",
       "Name: DATE_INCIDENT_BEGAN, Length: 557713, dtype: object"
      ]
     },
     "execution_count": 105,
     "metadata": {},
     "output_type": "execute_result"
    }
   ],
   "source": [
    "df['DATE_INCIDENT_BEGAN'] = df['DATE_INCIDENT_BEGAN'].replace('01/30/2023', '01/30/23')\n",
    "df['DATE_INCIDENT_BEGAN']"
   ]
  },
  {
   "cell_type": "code",
   "execution_count": 106,
   "id": "922cbf99",
   "metadata": {},
   "outputs": [],
   "source": [
    "df['DATE_INCIDENT_BEGAN'].replace('01/29/2023', '01/29/23')"
   ]
  },
  {
   "cell_type": "code",
   "execution_count": 107,
   "id": "fc453208",
   "metadata": {},
   "outputs": [],
   "source": [
    "df['DATE_INCIDENT_BEGAN'] = df['DATE_INCIDENT_BEGAN'].replace('2023/01/28 00:00:00+00', '01/28/2023')"
   ]
  },
  {
   "cell_type": "code",
   "execution_count": 108,
   "id": "ca9a7162",
   "metadata": {},
   "outputs": [],
   "source": [
    "df['DATE_INCIDENT_BEGAN'] = df['DATE_INCIDENT_BEGAN'].replace('2023/01/27 00:00:00+00', '01/27/23')"
   ]
  },
  {
   "cell_type": "code",
   "execution_count": 109,
   "id": "eebed4ef",
   "metadata": {},
   "outputs": [],
   "source": [
    "df['DATE_INCIDENT_BEGAN'] = df['DATE_INCIDENT_BEGAN'].replace('2023/01/26 00:00:00+00', '01/26/23')"
   ]
  },
  {
   "cell_type": "code",
   "execution_count": 110,
   "id": "72f968d0",
   "metadata": {},
   "outputs": [],
   "source": [
    "df['DATE_INCIDENT_BEGAN'] = df['DATE_INCIDENT_BEGAN'].replace('2023/01/25 00:00:00+00', '01/25/23')"
   ]
  },
  {
   "cell_type": "code",
   "execution_count": 111,
   "id": "50edbaa7",
   "metadata": {},
   "outputs": [],
   "source": [
    "df['DATE_INCIDENT_BEGAN'] = df['DATE_INCIDENT_BEGAN'].replace('2023/01/24 00:00:00+00', '01/24/23')"
   ]
  },
  {
   "cell_type": "code",
   "execution_count": 112,
   "id": "006f7405",
   "metadata": {},
   "outputs": [],
   "source": [
    "df['DATE_INCIDENT_BEGAN'] = df['DATE_INCIDENT_BEGAN'].replace('2023/01/23 00:00:00+00', '01/23/23')"
   ]
  },
  {
   "cell_type": "code",
   "execution_count": 113,
   "id": "6999d2ae",
   "metadata": {},
   "outputs": [],
   "source": [
    "df['DATE_INCIDENT_BEGAN'] = df['DATE_INCIDENT_BEGAN'].replace('2023/01/22 00:00:00+00', '01/22/23')"
   ]
  },
  {
   "cell_type": "code",
   "execution_count": 114,
   "id": "d573da37",
   "metadata": {},
   "outputs": [],
   "source": [
    "df['DATE_INCIDENT_BEGAN'] = df['DATE_INCIDENT_BEGAN'].replace('2023/01/21 00:00:00+00', '01/21/23')"
   ]
  },
  {
   "cell_type": "code",
   "execution_count": 115,
   "id": "4bf20e19",
   "metadata": {},
   "outputs": [],
   "source": [
    "df['DATE_INCIDENT_BEGAN'] = df['DATE_INCIDENT_BEGAN'].replace('2023/01/20 00:00:00+00', '01/20/23')"
   ]
  },
  {
   "cell_type": "code",
   "execution_count": 116,
   "id": "201c96d4",
   "metadata": {},
   "outputs": [],
   "source": [
    "df['DATE_INCIDENT_BEGAN'] = df['DATE_INCIDENT_BEGAN'].replace('2023/01/19 00:00:00+00', '01/19/23')"
   ]
  },
  {
   "cell_type": "code",
   "execution_count": 117,
   "id": "08bfc508",
   "metadata": {},
   "outputs": [],
   "source": [
    "df['DATE_INCIDENT_BEGAN'] = df['DATE_INCIDENT_BEGAN'].replace('2023/01/18 00:00:00+00', '01/18/23')"
   ]
  },
  {
   "cell_type": "code",
   "execution_count": 118,
   "id": "c1f09562",
   "metadata": {},
   "outputs": [],
   "source": [
    "df['DATE_INCIDENT_BEGAN'] = df['DATE_INCIDENT_BEGAN'].replace('2023/01/17 00:00:00+00', '01/17/23')"
   ]
  },
  {
   "cell_type": "code",
   "execution_count": 119,
   "id": "ad0b0581",
   "metadata": {},
   "outputs": [],
   "source": [
    "df['DATE_INCIDENT_BEGAN'] = df['DATE_INCIDENT_BEGAN'].replace('2023/01/16 00:00:00+00', '01/16/23')"
   ]
  },
  {
   "cell_type": "code",
   "execution_count": 120,
   "id": "f89591ea",
   "metadata": {},
   "outputs": [],
   "source": [
    "df['DATE_INCIDENT_BEGAN'] = df['DATE_INCIDENT_BEGAN'].replace('2023/01/15 00:00:00+00', '01/15/23')"
   ]
  },
  {
   "cell_type": "code",
   "execution_count": 121,
   "id": "e40ca123",
   "metadata": {},
   "outputs": [],
   "source": [
    "df['DATE_INCIDENT_BEGAN'] = df['DATE_INCIDENT_BEGAN'].replace('2023/01/14 00:00:00+00', '01/14/23')"
   ]
  },
  {
   "cell_type": "code",
   "execution_count": 122,
   "id": "7e2922c6",
   "metadata": {},
   "outputs": [],
   "source": [
    "df['DATE_INCIDENT_BEGAN'] = df['DATE_INCIDENT_BEGAN'].replace('2023/01/13 00:00:00+00', '01/13/23')"
   ]
  },
  {
   "cell_type": "code",
   "execution_count": 123,
   "id": "86a52d66",
   "metadata": {},
   "outputs": [],
   "source": [
    "df['DATE_INCIDENT_BEGAN'] = df['DATE_INCIDENT_BEGAN'].replace('2023/01/12 00:00:00+00', '01/12/23')"
   ]
  },
  {
   "cell_type": "code",
   "execution_count": 124,
   "id": "eebcbe15",
   "metadata": {},
   "outputs": [],
   "source": [
    "df['DATE_INCIDENT_BEGAN'] = df['DATE_INCIDENT_BEGAN'].replace('2023/01/11 00:00:00+00', '01/11/23')"
   ]
  },
  {
   "cell_type": "code",
   "execution_count": 125,
   "id": "5eab283d",
   "metadata": {},
   "outputs": [],
   "source": [
    "df['DATE_INCIDENT_BEGAN'] = df['DATE_INCIDENT_BEGAN'].replace('2023/01/10 00:00:00+00', '01/10/23')"
   ]
  },
  {
   "cell_type": "code",
   "execution_count": 126,
   "id": "c484794f",
   "metadata": {},
   "outputs": [],
   "source": [
    "df['DATE_INCIDENT_BEGAN'] = df['DATE_INCIDENT_BEGAN'].replace('2023/01/09 00:00:00+00', '1/9/23')"
   ]
  },
  {
   "cell_type": "code",
   "execution_count": 127,
   "id": "ae168faa",
   "metadata": {},
   "outputs": [],
   "source": [
    "df['DATE_INCIDENT_BEGAN'] = df['DATE_INCIDENT_BEGAN'].replace('2023/01/08 00:00:00+00', '1/8/23')"
   ]
  },
  {
   "cell_type": "code",
   "execution_count": 128,
   "id": "10726157",
   "metadata": {},
   "outputs": [],
   "source": [
    "df['DATE_INCIDENT_BEGAN'] = df['DATE_INCIDENT_BEGAN'].replace('2023/01/07 00:00:00+00', '1/7/23')"
   ]
  },
  {
   "cell_type": "code",
   "execution_count": 129,
   "id": "601e8db9",
   "metadata": {},
   "outputs": [],
   "source": [
    "df['DATE_INCIDENT_BEGAN'] = df['DATE_INCIDENT_BEGAN'].replace('2023/01/06 00:00:00+00', '1/6/23')"
   ]
  },
  {
   "cell_type": "code",
   "execution_count": 130,
   "id": "9b45db89",
   "metadata": {},
   "outputs": [],
   "source": [
    "df['DATE_INCIDENT_BEGAN'] = df['DATE_INCIDENT_BEGAN'].replace('2023/01/05 00:00:00+00', '1/5/23')"
   ]
  },
  {
   "cell_type": "code",
   "execution_count": 131,
   "id": "0e59c0b9",
   "metadata": {},
   "outputs": [],
   "source": [
    "df['DATE_INCIDENT_BEGAN'] = df['DATE_INCIDENT_BEGAN'].replace('2023/01/04 00:00:00+00', '1/4/23')"
   ]
  },
  {
   "cell_type": "code",
   "execution_count": 132,
   "id": "0bdf8eb2",
   "metadata": {},
   "outputs": [],
   "source": [
    "df['DATE_INCIDENT_BEGAN'] = df['DATE_INCIDENT_BEGAN'].replace('2023/01/03 00:00:00+00', '1/3/23')"
   ]
  },
  {
   "cell_type": "code",
   "execution_count": 133,
   "id": "d6d03fcb",
   "metadata": {},
   "outputs": [],
   "source": [
    "df['DATE_INCIDENT_BEGAN'] = df['DATE_INCIDENT_BEGAN'].replace('2023/01/02 00:00:00+00', '1/2/23')"
   ]
  },
  {
   "cell_type": "code",
   "execution_count": 134,
   "id": "83a35dac",
   "metadata": {},
   "outputs": [],
   "source": [
    "df['DATE_INCIDENT_BEGAN'] = df['DATE_INCIDENT_BEGAN'].replace('2023/01/01 00:00:00+00', '1/1/23')"
   ]
  },
  {
   "cell_type": "code",
   "execution_count": 135,
   "id": "3284ce8b",
   "metadata": {},
   "outputs": [],
   "source": [
    "df['DATE_INCIDENT_BEGAN'] = df['DATE_INCIDENT_BEGAN'].replace('12/31/23', '12/31/22')"
   ]
  },
  {
   "cell_type": "code",
   "execution_count": 136,
   "id": "693ed9d4",
   "metadata": {},
   "outputs": [],
   "source": [
    "df['DATE_INCIDENT_BEGAN'] = df['DATE_INCIDENT_BEGAN'].replace('12/30/23', '12/30/22')"
   ]
  },
  {
   "cell_type": "code",
   "execution_count": 137,
   "id": "453a8d08",
   "metadata": {},
   "outputs": [],
   "source": [
    "df['DATE_INCIDENT_BEGAN'] = df['DATE_INCIDENT_BEGAN'].replace('2022/12/30 00:00:00+00', '12/30/22')"
   ]
  },
  {
   "cell_type": "code",
   "execution_count": 138,
   "id": "96549567",
   "metadata": {},
   "outputs": [],
   "source": [
    "df['DATE_INCIDENT_BEGAN'] = df['DATE_INCIDENT_BEGAN'].replace('2022/12/29 00:00:00+00', '12/29/22')"
   ]
  },
  {
   "cell_type": "code",
   "execution_count": 139,
   "id": "a9d04855",
   "metadata": {},
   "outputs": [],
   "source": [
    "df['DATE_INCIDENT_BEGAN'] = df['DATE_INCIDENT_BEGAN'].replace('2022/12/28 00:00:00+00', '12/28/22')"
   ]
  },
  {
   "cell_type": "code",
   "execution_count": 140,
   "id": "d45f7b14",
   "metadata": {},
   "outputs": [],
   "source": [
    "df['DATE_INCIDENT_BEGAN'] = df['DATE_INCIDENT_BEGAN'].replace('2022/12/27 00:00:00+00', '12/27/22')"
   ]
  },
  {
   "cell_type": "code",
   "execution_count": 141,
   "id": "eb30c4af",
   "metadata": {},
   "outputs": [],
   "source": [
    "df['DATE_INCIDENT_BEGAN'] = df['DATE_INCIDENT_BEGAN'].replace('2022/12/26 00:00:00+00', '12/26/22')"
   ]
  },
  {
   "cell_type": "code",
   "execution_count": 142,
   "id": "b325e610",
   "metadata": {},
   "outputs": [],
   "source": [
    "df['DATE_INCIDENT_BEGAN'] = df['DATE_INCIDENT_BEGAN'].replace('2022/12/25 00:00:00+00', '12/25/22')"
   ]
  },
  {
   "cell_type": "code",
   "execution_count": 143,
   "id": "2decb5cf",
   "metadata": {},
   "outputs": [],
   "source": [
    "df['DATE_INCIDENT_BEGAN'] = df['DATE_INCIDENT_BEGAN'].replace('2022/12/24 00:00:00+00', '12/24/22')"
   ]
  },
  {
   "cell_type": "code",
   "execution_count": 144,
   "id": "9274c45e",
   "metadata": {},
   "outputs": [],
   "source": [
    "df['DATE_INCIDENT_BEGAN'] =df['DATE_INCIDENT_BEGAN'].replace('2022/12/23 00:00:00+00', '12/23/22')"
   ]
  },
  {
   "cell_type": "code",
   "execution_count": 145,
   "id": "ebf2ab2f",
   "metadata": {},
   "outputs": [],
   "source": [
    "df['DATE_INCIDENT_BEGAN'] =df['DATE_INCIDENT_BEGAN'].replace('2022/12/22 00:00:00+00', '12/22/22')"
   ]
  },
  {
   "cell_type": "code",
   "execution_count": 146,
   "id": "1ed572d8",
   "metadata": {},
   "outputs": [],
   "source": [
    "df['DATE_INCIDENT_BEGAN'] =df['DATE_INCIDENT_BEGAN'].replace('2022/12/21 00:00:00+00', '12/21/22')"
   ]
  },
  {
   "cell_type": "code",
   "execution_count": 147,
   "id": "b4f31813",
   "metadata": {},
   "outputs": [],
   "source": [
    "df['DATE_INCIDENT_BEGAN'] =df['DATE_INCIDENT_BEGAN'].replace('2022/12/20 00:00:00+00', '12/20/22')"
   ]
  },
  {
   "cell_type": "code",
   "execution_count": 148,
   "id": "47b29b37",
   "metadata": {},
   "outputs": [],
   "source": [
    "df['DATE_INCIDENT_BEGAN'] =df['DATE_INCIDENT_BEGAN'].replace('2022/12/19 00:00:00+00', '12/19/22')"
   ]
  },
  {
   "cell_type": "code",
   "execution_count": 149,
   "id": "5ca2db87",
   "metadata": {},
   "outputs": [],
   "source": [
    "df['DATE_INCIDENT_BEGAN'] =df['DATE_INCIDENT_BEGAN'].replace('2022/12/18 00:00:00+00', '12/18/22')"
   ]
  },
  {
   "cell_type": "code",
   "execution_count": 150,
   "id": "f4947943",
   "metadata": {},
   "outputs": [],
   "source": [
    "df['DATE_INCIDENT_BEGAN'] =df['DATE_INCIDENT_BEGAN'].replace('2022/12/17 00:00:00+00', '12/17/22')"
   ]
  },
  {
   "cell_type": "code",
   "execution_count": 151,
   "id": "42af1a8d",
   "metadata": {},
   "outputs": [],
   "source": [
    "df['DATE_INCIDENT_BEGAN'] =df['DATE_INCIDENT_BEGAN'].replace('2022/12/16 00:00:00+00', '12/16/22')"
   ]
  },
  {
   "cell_type": "code",
   "execution_count": 152,
   "id": "4a276e9f",
   "metadata": {},
   "outputs": [],
   "source": [
    "df['DATE_INCIDENT_BEGAN'] =df['DATE_INCIDENT_BEGAN'].replace('2022/12/15 00:00:00+00', '12/15/22')"
   ]
  },
  {
   "cell_type": "code",
   "execution_count": 153,
   "id": "6413169c",
   "metadata": {},
   "outputs": [],
   "source": [
    "df['DATE_INCIDENT_BEGAN'] =df['DATE_INCIDENT_BEGAN'].replace('2022/12/14 00:00:00+00', '12/14/22')"
   ]
  },
  {
   "cell_type": "code",
   "execution_count": 154,
   "id": "4010ea03",
   "metadata": {},
   "outputs": [],
   "source": [
    "df['DATE_INCIDENT_BEGAN'] =df['DATE_INCIDENT_BEGAN'].replace('2022/12/13 00:00:00+00', '12/13/22')"
   ]
  },
  {
   "cell_type": "code",
   "execution_count": 155,
   "id": "574533c2",
   "metadata": {},
   "outputs": [],
   "source": [
    "df['DATE_INCIDENT_BEGAN'] =df['DATE_INCIDENT_BEGAN'].replace('2022/12/12 00:00:00+00', '12/12/22')"
   ]
  },
  {
   "cell_type": "code",
   "execution_count": 156,
   "id": "6156f939",
   "metadata": {},
   "outputs": [],
   "source": [
    "df['DATE_INCIDENT_BEGAN'] =df['DATE_INCIDENT_BEGAN'].replace('2022/12/11 00:00:00+00', '12/11/22')"
   ]
  },
  {
   "cell_type": "code",
   "execution_count": 157,
   "id": "e80abd4c",
   "metadata": {},
   "outputs": [],
   "source": [
    "df['DATE_INCIDENT_BEGAN'] =df['DATE_INCIDENT_BEGAN'].replace('2022/12/10 00:00:00+00', '12/10/22')"
   ]
  },
  {
   "cell_type": "code",
   "execution_count": 158,
   "id": "fbd7ece9",
   "metadata": {},
   "outputs": [],
   "source": [
    "df['DATE_INCIDENT_BEGAN'] =df['DATE_INCIDENT_BEGAN'].replace('2022/12/09 00:00:00+00', '12/09/22')"
   ]
  },
  {
   "cell_type": "code",
   "execution_count": 159,
   "id": "ace1b64a",
   "metadata": {},
   "outputs": [],
   "source": [
    "df['DATE_INCIDENT_BEGAN'] =df['DATE_INCIDENT_BEGAN'].replace('2022/12/08 00:00:00+00', '12/08/22')"
   ]
  },
  {
   "cell_type": "code",
   "execution_count": 160,
   "id": "35beea42",
   "metadata": {},
   "outputs": [],
   "source": [
    "df['DATE_INCIDENT_BEGAN'] = df['DATE_INCIDENT_BEGAN'].replace('2022/12/07 00:00:00+00', '12/07/22')"
   ]
  },
  {
   "cell_type": "code",
   "execution_count": 161,
   "id": "d2333a95",
   "metadata": {},
   "outputs": [],
   "source": [
    "df['DATE_INCIDENT_BEGAN'] = df['DATE_INCIDENT_BEGAN'].replace('2022/12/06 00:00:00+00', '12/06/22')"
   ]
  },
  {
   "cell_type": "code",
   "execution_count": 162,
   "id": "a6de8f66",
   "metadata": {},
   "outputs": [],
   "source": [
    "df['DATE_INCIDENT_BEGAN'] = df['DATE_INCIDENT_BEGAN'].replace('2022/12/05 00:00:00+00', '12/05/22')"
   ]
  },
  {
   "cell_type": "code",
   "execution_count": 163,
   "id": "21a33baa",
   "metadata": {},
   "outputs": [],
   "source": [
    "df['DATE_INCIDENT_BEGAN'] = df['DATE_INCIDENT_BEGAN'].replace('2022/12/04 00:00:00+00', '12/04/22')"
   ]
  },
  {
   "cell_type": "code",
   "execution_count": 164,
   "id": "e02bec2c",
   "metadata": {},
   "outputs": [],
   "source": [
    "df['DATE_INCIDENT_BEGAN'] = df['DATE_INCIDENT_BEGAN'].replace('2022/12/03 00:00:00+00', '12/03/22')"
   ]
  },
  {
   "cell_type": "code",
   "execution_count": 165,
   "id": "da25cd07",
   "metadata": {},
   "outputs": [],
   "source": [
    "df['DATE_INCIDENT_BEGAN'] = df['DATE_INCIDENT_BEGAN'].replace('2022/12/02 00:00:00+00', '12/02/22')"
   ]
  },
  {
   "cell_type": "code",
   "execution_count": 166,
   "id": "bc6822fc",
   "metadata": {},
   "outputs": [],
   "source": [
    "df['DATE_INCIDENT_BEGAN'] = df['DATE_INCIDENT_BEGAN'].replace('2022/12/01 00:00:00+00', '12/01/22')"
   ]
  },
  {
   "cell_type": "code",
   "execution_count": 167,
   "id": "f8aa155d",
   "metadata": {},
   "outputs": [],
   "source": [
    "df['DATE_INCIDENT_BEGAN'] = df['DATE_INCIDENT_BEGAN'].replace('2022/11/30 00:00:00+00', '11/30/22')"
   ]
  },
  {
   "cell_type": "code",
   "execution_count": 168,
   "id": "a9da0598",
   "metadata": {},
   "outputs": [],
   "source": [
    "df['DATE_INCIDENT_BEGAN'] = df['DATE_INCIDENT_BEGAN'].replace('2022/11/29 00:00:00+00', '11/29/22')"
   ]
  },
  {
   "cell_type": "code",
   "execution_count": 169,
   "id": "9f1df35a",
   "metadata": {},
   "outputs": [],
   "source": [
    "df['DATE_INCIDENT_BEGAN'] = df['DATE_INCIDENT_BEGAN'].replace('2022/11/28 00:00:00+00', '11/28/22')"
   ]
  },
  {
   "cell_type": "code",
   "execution_count": 170,
   "id": "5b50da8a",
   "metadata": {},
   "outputs": [],
   "source": [
    "df['DATE_INCIDENT_BEGAN'] = df['DATE_INCIDENT_BEGAN'].replace('2022/11/27 00:00:00+00', '11/27/22')"
   ]
  },
  {
   "cell_type": "code",
   "execution_count": 171,
   "id": "946252ef",
   "metadata": {},
   "outputs": [],
   "source": [
    "df['DATE_INCIDENT_BEGAN'] = df['DATE_INCIDENT_BEGAN'].replace('2022/11/26 00:00:00+00', '11/26/22')"
   ]
  },
  {
   "cell_type": "code",
   "execution_count": 172,
   "id": "3ed57884",
   "metadata": {},
   "outputs": [],
   "source": [
    "df['DATE_INCIDENT_BEGAN'] = df['DATE_INCIDENT_BEGAN'].replace('2022/11/25 00:00:00+00', '11/25/22')"
   ]
  },
  {
   "cell_type": "code",
   "execution_count": 174,
   "id": "e4bcfd06",
   "metadata": {},
   "outputs": [],
   "source": [
    "df['DATE_INCIDENT_BEGAN'] = df['DATE_INCIDENT_BEGAN'].replace('2022/11/24 00:00:00+00', '11/24/22')"
   ]
  },
  {
   "cell_type": "code",
   "execution_count": 175,
   "id": "840bc985",
   "metadata": {},
   "outputs": [],
   "source": [
    "df['DATE_INCIDENT_BEGAN'] = df['DATE_INCIDENT_BEGAN'].replace('2022/11/23 00:00:00+00', '11/23/22')"
   ]
  },
  {
   "cell_type": "code",
   "execution_count": 176,
   "id": "796c8529",
   "metadata": {},
   "outputs": [],
   "source": [
    "df['DATE_INCIDENT_BEGAN'] = df['DATE_INCIDENT_BEGAN'].replace('2022/11/22 00:00:00+00', '11/22/22')"
   ]
  },
  {
   "cell_type": "code",
   "execution_count": 177,
   "id": "9fa0951a",
   "metadata": {},
   "outputs": [],
   "source": [
    "df['DATE_INCIDENT_BEGAN'] = df['DATE_INCIDENT_BEGAN'].replace('2022/11/21 00:00:00+00', '11/21/22')"
   ]
  },
  {
   "cell_type": "code",
   "execution_count": 178,
   "id": "9ca8b1b3",
   "metadata": {},
   "outputs": [],
   "source": [
    "df['DATE_INCIDENT_BEGAN'] = df['DATE_INCIDENT_BEGAN'].replace('2022/11/20 00:00:00+00', '11/20/22')"
   ]
  },
  {
   "cell_type": "code",
   "execution_count": 179,
   "id": "3cd1fed4",
   "metadata": {},
   "outputs": [],
   "source": [
    "df['DATE_INCIDENT_BEGAN'] = df['DATE_INCIDENT_BEGAN'].replace('2022/11/19 00:00:00+00', '11/19/22')"
   ]
  },
  {
   "cell_type": "code",
   "execution_count": 180,
   "id": "c3814bde",
   "metadata": {},
   "outputs": [],
   "source": [
    "df['DATE_INCIDENT_BEGAN'] = df['DATE_INCIDENT_BEGAN'].replace('2022/11/18 00:00:00+00', '11/18/22')"
   ]
  },
  {
   "cell_type": "code",
   "execution_count": 181,
   "id": "8f6595c1",
   "metadata": {},
   "outputs": [],
   "source": [
    "df['DATE_INCIDENT_BEGAN'] = df['DATE_INCIDENT_BEGAN'].replace('2022/11/17 00:00:00+00', '11/17/22')"
   ]
  },
  {
   "cell_type": "code",
   "execution_count": 182,
   "id": "35283f92",
   "metadata": {},
   "outputs": [],
   "source": [
    "df['DATE_INCIDENT_BEGAN'] = df['DATE_INCIDENT_BEGAN'].replace('2022/11/16 00:00:00+00', '11/16/22')"
   ]
  },
  {
   "cell_type": "code",
   "execution_count": 183,
   "id": "7ebe60a9",
   "metadata": {},
   "outputs": [],
   "source": [
    "df['DATE_INCIDENT_BEGAN'] = df['DATE_INCIDENT_BEGAN'].replace('2022/11/15 00:00:00+00', '11/15/22')"
   ]
  },
  {
   "cell_type": "code",
   "execution_count": 184,
   "id": "0d4eadb2",
   "metadata": {},
   "outputs": [],
   "source": [
    "df['DATE_INCIDENT_BEGAN'] = df['DATE_INCIDENT_BEGAN'].replace('2022/11/14 00:00:00+00', '11/14/22')"
   ]
  },
  {
   "cell_type": "code",
   "execution_count": 185,
   "id": "71b34e21",
   "metadata": {},
   "outputs": [],
   "source": [
    "df['DATE_INCIDENT_BEGAN'] = df['DATE_INCIDENT_BEGAN'].replace('2022/11/13 00:00:00+00', '11/13/22')"
   ]
  },
  {
   "cell_type": "code",
   "execution_count": 186,
   "id": "42a53799",
   "metadata": {},
   "outputs": [],
   "source": [
    "df['DATE_INCIDENT_BEGAN'] = df['DATE_INCIDENT_BEGAN'].replace('2022/11/12 00:00:00+00', '11/12/22')"
   ]
  },
  {
   "cell_type": "code",
   "execution_count": 187,
   "id": "a7e16f97",
   "metadata": {},
   "outputs": [],
   "source": [
    "df['DATE_INCIDENT_BEGAN'] = df['DATE_INCIDENT_BEGAN'].replace('2022/11/11 00:00:00+00', '11/11/22')"
   ]
  },
  {
   "cell_type": "code",
   "execution_count": 188,
   "id": "78d0a7f6",
   "metadata": {},
   "outputs": [],
   "source": [
    "df['DATE_INCIDENT_BEGAN'] = df['DATE_INCIDENT_BEGAN'].replace('2022/11/10 00:00:00+00', '11/10/22')"
   ]
  },
  {
   "cell_type": "code",
   "execution_count": 189,
   "id": "9d460ab6",
   "metadata": {},
   "outputs": [],
   "source": [
    "df['DATE_INCIDENT_BEGAN'] = df['DATE_INCIDENT_BEGAN'].replace('2022/11/09 00:00:00+00', '11/09/22')"
   ]
  },
  {
   "cell_type": "code",
   "execution_count": 190,
   "id": "dd1185b3",
   "metadata": {},
   "outputs": [],
   "source": [
    "df['DATE_INCIDENT_BEGAN'] = df['DATE_INCIDENT_BEGAN'].replace('2022/11/08 00:00:00+00', '11/08/22')"
   ]
  },
  {
   "cell_type": "code",
   "execution_count": 192,
   "id": "d5b68300",
   "metadata": {},
   "outputs": [],
   "source": [
    "df['DATE_INCIDENT_BEGAN'] = df['DATE_INCIDENT_BEGAN'].replace('2022/11/07 00:00:00+00', '11/07/22')"
   ]
  },
  {
   "cell_type": "code",
   "execution_count": 193,
   "id": "f0ec1adb",
   "metadata": {},
   "outputs": [],
   "source": [
    "df['DATE_INCIDENT_BEGAN'] = df['DATE_INCIDENT_BEGAN'].replace('2022/11/06 00:00:00+00', '11/06/22')"
   ]
  },
  {
   "cell_type": "code",
   "execution_count": 194,
   "id": "0941d14c",
   "metadata": {},
   "outputs": [],
   "source": [
    "df['DATE_INCIDENT_BEGAN'] = df['DATE_INCIDENT_BEGAN'].replace('2022/11/05 00:00:00+00', '11/05/22')"
   ]
  },
  {
   "cell_type": "code",
   "execution_count": 195,
   "id": "911a5145",
   "metadata": {},
   "outputs": [],
   "source": [
    "df['DATE_INCIDENT_BEGAN'] = df['DATE_INCIDENT_BEGAN'].replace('2022/11/04 00:00:00+00', '11/04/22')"
   ]
  },
  {
   "cell_type": "code",
   "execution_count": 196,
   "id": "73a2715a",
   "metadata": {},
   "outputs": [],
   "source": [
    "df['DATE_INCIDENT_BEGAN'] = df['DATE_INCIDENT_BEGAN'].replace('2022/11/03 00:00:00+00', '11/03/22')"
   ]
  },
  {
   "cell_type": "code",
   "execution_count": 197,
   "id": "393e1b80",
   "metadata": {},
   "outputs": [],
   "source": [
    "df['DATE_INCIDENT_BEGAN'] = df['DATE_INCIDENT_BEGAN'].replace('2022/11/02 00:00:00+00', '11/02/22')"
   ]
  },
  {
   "cell_type": "code",
   "execution_count": 198,
   "id": "b805c6ea",
   "metadata": {},
   "outputs": [],
   "source": [
    "df['DATE_INCIDENT_BEGAN'] = df['DATE_INCIDENT_BEGAN'].replace('2022/11/01 00:00:00+00', '11/01/22')"
   ]
  },
  {
   "cell_type": "code",
   "execution_count": 199,
   "id": "663ce165",
   "metadata": {},
   "outputs": [],
   "source": [
    "df['DATE_INCIDENT_BEGAN'] = df['DATE_INCIDENT_BEGAN'].replace('2022/10/31 00:00:00+00', '10/31/22')"
   ]
  },
  {
   "cell_type": "code",
   "execution_count": 200,
   "id": "9577b205",
   "metadata": {},
   "outputs": [],
   "source": [
    "df['DATE_INCIDENT_BEGAN'] = df['DATE_INCIDENT_BEGAN'].replace('2022/10/30 00:00:00+00', '10/30/22')"
   ]
  },
  {
   "cell_type": "code",
   "execution_count": 201,
   "id": "f4565cc4",
   "metadata": {},
   "outputs": [],
   "source": [
    "df['DATE_INCIDENT_BEGAN'] = df['DATE_INCIDENT_BEGAN'].replace('2022/10/29 00:00:00+00', '10/29/22')"
   ]
  },
  {
   "cell_type": "code",
   "execution_count": 202,
   "id": "a901ef5d",
   "metadata": {},
   "outputs": [],
   "source": [
    "df['DATE_INCIDENT_BEGAN'] = df['DATE_INCIDENT_BEGAN'].replace('2022/10/28 00:00:00+00', '10/28/22')"
   ]
  },
  {
   "cell_type": "code",
   "execution_count": 203,
   "id": "5b4e6762",
   "metadata": {},
   "outputs": [],
   "source": [
    "df['DATE_INCIDENT_BEGAN'] = df['DATE_INCIDENT_BEGAN'].replace('2022/10/27 00:00:00+00', '10/27/22')"
   ]
  },
  {
   "cell_type": "code",
   "execution_count": 204,
   "id": "0cf9c76b",
   "metadata": {},
   "outputs": [],
   "source": [
    "df['DATE_INCIDENT_BEGAN'] = df['DATE_INCIDENT_BEGAN'].replace('2022/10/26 00:00:00+00', '10/26/22')"
   ]
  },
  {
   "cell_type": "code",
   "execution_count": 205,
   "id": "9d118728",
   "metadata": {},
   "outputs": [],
   "source": [
    "df['DATE_INCIDENT_BEGAN'] = df['DATE_INCIDENT_BEGAN'].replace('2022/10/25 00:00:00+00', '10/25/22')"
   ]
  },
  {
   "cell_type": "code",
   "execution_count": 206,
   "id": "69ac4a60",
   "metadata": {},
   "outputs": [],
   "source": [
    "df['DATE_INCIDENT_BEGAN'] = df['DATE_INCIDENT_BEGAN'].replace('2022/10/24 00:00:00+00', '10/24/22')"
   ]
  },
  {
   "cell_type": "code",
   "execution_count": 207,
   "id": "31907f6f",
   "metadata": {},
   "outputs": [],
   "source": [
    "df['DATE_INCIDENT_BEGAN'] = df['DATE_INCIDENT_BEGAN'].replace('2022/10/23 00:00:00+00', '10/23/22')"
   ]
  },
  {
   "cell_type": "code",
   "execution_count": 208,
   "id": "40d8d9ca",
   "metadata": {},
   "outputs": [],
   "source": [
    "df['DATE_INCIDENT_BEGAN'] = df['DATE_INCIDENT_BEGAN'].replace('2022/10/22 00:00:00+00', '10/22/22')"
   ]
  },
  {
   "cell_type": "code",
   "execution_count": 209,
   "id": "cede0eff",
   "metadata": {},
   "outputs": [],
   "source": [
    "df['DATE_INCIDENT_BEGAN'] = df['DATE_INCIDENT_BEGAN'].replace('2022/10/21 00:00:00+00', '10/21/22')"
   ]
  },
  {
   "cell_type": "code",
   "execution_count": 210,
   "id": "7da67038",
   "metadata": {},
   "outputs": [],
   "source": [
    "df['DATE_INCIDENT_BEGAN'] = df['DATE_INCIDENT_BEGAN'].replace('2022/10/20 00:00:00+00', '10/20/22')"
   ]
  },
  {
   "cell_type": "code",
   "execution_count": 211,
   "id": "15d5594b",
   "metadata": {},
   "outputs": [],
   "source": [
    "df['DATE_INCIDENT_BEGAN'] = df['DATE_INCIDENT_BEGAN'].replace('2022/10/19 00:00:00+00', '10/19/22')"
   ]
  },
  {
   "cell_type": "code",
   "execution_count": 212,
   "id": "ccbd5bc7",
   "metadata": {},
   "outputs": [],
   "source": [
    "df['DATE_INCIDENT_BEGAN'] = df['DATE_INCIDENT_BEGAN'].replace('2022/10/18 00:00:00+00', '10/18/22')"
   ]
  },
  {
   "cell_type": "code",
   "execution_count": 213,
   "id": "b8424962",
   "metadata": {},
   "outputs": [],
   "source": [
    "df['DATE_INCIDENT_BEGAN'] = df['DATE_INCIDENT_BEGAN'].replace('2022/10/17 00:00:00+00', '10/17/22')"
   ]
  },
  {
   "cell_type": "code",
   "execution_count": 214,
   "id": "41a32e00",
   "metadata": {},
   "outputs": [],
   "source": [
    "df['DATE_INCIDENT_BEGAN'] = df['DATE_INCIDENT_BEGAN'].replace('2022/10/16 00:00:00+00', '10/16/22')"
   ]
  },
  {
   "cell_type": "code",
   "execution_count": 215,
   "id": "4cf7cafb",
   "metadata": {},
   "outputs": [],
   "source": [
    "df['DATE_INCIDENT_BEGAN'] = df['DATE_INCIDENT_BEGAN'].replace('2022/10/15 00:00:00+00', '10/15/22')"
   ]
  },
  {
   "cell_type": "code",
   "execution_count": 216,
   "id": "191aed1f",
   "metadata": {},
   "outputs": [],
   "source": [
    "df['DATE_INCIDENT_BEGAN'] = df['DATE_INCIDENT_BEGAN'].replace('2022/10/14 00:00:00+00', '10/14/22')"
   ]
  },
  {
   "cell_type": "code",
   "execution_count": 217,
   "id": "7385ea1f",
   "metadata": {},
   "outputs": [],
   "source": [
    "df['DATE_INCIDENT_BEGAN'] = df['DATE_INCIDENT_BEGAN'].replace('2022/10/13 00:00:00+00', '10/13/22')"
   ]
  },
  {
   "cell_type": "code",
   "execution_count": 218,
   "id": "0227ec73",
   "metadata": {},
   "outputs": [],
   "source": [
    "df['DATE_INCIDENT_BEGAN'] = df['DATE_INCIDENT_BEGAN'].replace('2022/10/12 00:00:00+00', '10/12/22')"
   ]
  },
  {
   "cell_type": "code",
   "execution_count": 219,
   "id": "4e12e592",
   "metadata": {},
   "outputs": [],
   "source": [
    "df['DATE_INCIDENT_BEGAN'] = df['DATE_INCIDENT_BEGAN'].replace('2022/10/11 00:00:00+00', '10/11/22')"
   ]
  },
  {
   "cell_type": "code",
   "execution_count": 220,
   "id": "f529b37f",
   "metadata": {},
   "outputs": [],
   "source": [
    "df['DATE_INCIDENT_BEGAN'] = df['DATE_INCIDENT_BEGAN'].replace('2022/10/10 00:00:00+00', '10/10/22')"
   ]
  },
  {
   "cell_type": "code",
   "execution_count": 221,
   "id": "f6a794be",
   "metadata": {},
   "outputs": [],
   "source": [
    "df['DATE_INCIDENT_BEGAN'] = df['DATE_INCIDENT_BEGAN'].replace('2022/10/09 00:00:00+00', '10/09/22')"
   ]
  },
  {
   "cell_type": "code",
   "execution_count": 222,
   "id": "4697a50d",
   "metadata": {},
   "outputs": [],
   "source": [
    "df['DATE_INCIDENT_BEGAN'] = df['DATE_INCIDENT_BEGAN'].replace('2022/10/08 00:00:00+00', '10/08/22')"
   ]
  },
  {
   "cell_type": "code",
   "execution_count": 223,
   "id": "be28a4dc",
   "metadata": {},
   "outputs": [],
   "source": [
    "df['DATE_INCIDENT_BEGAN'] = df['DATE_INCIDENT_BEGAN'].replace('2022/10/07 00:00:00+00', '10/07/22')"
   ]
  },
  {
   "cell_type": "code",
   "execution_count": 224,
   "id": "0c2fbdeb",
   "metadata": {},
   "outputs": [],
   "source": [
    "df['DATE_INCIDENT_BEGAN'] = df['DATE_INCIDENT_BEGAN'].replace('2022/10/06 00:00:00+00', '10/06/22')"
   ]
  },
  {
   "cell_type": "code",
   "execution_count": 225,
   "id": "4d95525c",
   "metadata": {},
   "outputs": [],
   "source": [
    "df['DATE_INCIDENT_BEGAN'] = df['DATE_INCIDENT_BEGAN'].replace('2022/10/05 00:00:00+00', '10/05/22')"
   ]
  },
  {
   "cell_type": "code",
   "execution_count": 226,
   "id": "fe2c7b12",
   "metadata": {},
   "outputs": [],
   "source": [
    "df['DATE_INCIDENT_BEGAN'] = df['DATE_INCIDENT_BEGAN'].replace('2022/10/04 00:00:00+00', '10/04/22')"
   ]
  },
  {
   "cell_type": "code",
   "execution_count": 227,
   "id": "88e40b96",
   "metadata": {},
   "outputs": [],
   "source": [
    "df['DATE_INCIDENT_BEGAN'] = df['DATE_INCIDENT_BEGAN'].replace('2022/10/03 00:00:00+00', '10/03/22')"
   ]
  },
  {
   "cell_type": "code",
   "execution_count": 228,
   "id": "61d5ffab",
   "metadata": {},
   "outputs": [],
   "source": [
    "df['DATE_INCIDENT_BEGAN'] = df['DATE_INCIDENT_BEGAN'].replace('2022/10/02 00:00:00+00', '10/02/22')"
   ]
  },
  {
   "cell_type": "code",
   "execution_count": 229,
   "id": "939ea7a7",
   "metadata": {},
   "outputs": [],
   "source": [
    "df['DATE_INCIDENT_BEGAN'] = df['DATE_INCIDENT_BEGAN'].replace('2022/10/01 00:00:00+00', '10/01/22')"
   ]
  },
  {
   "cell_type": "code",
   "execution_count": 230,
   "id": "566e3014",
   "metadata": {},
   "outputs": [],
   "source": [
    "df['DATE_INCIDENT_BEGAN'] = df['DATE_INCIDENT_BEGAN'].replace('2022/09/30 00:00:00+00', '09/30/22')"
   ]
  },
  {
   "cell_type": "code",
   "execution_count": 231,
   "id": "cebef17e",
   "metadata": {},
   "outputs": [],
   "source": [
    "df['DATE_INCIDENT_BEGAN'] = df['DATE_INCIDENT_BEGAN'].replace('2022/09/29 00:00:00+00', '09/29/22')"
   ]
  },
  {
   "cell_type": "code",
   "execution_count": 232,
   "id": "2bfa515b",
   "metadata": {},
   "outputs": [],
   "source": [
    "df['DATE_INCIDENT_BEGAN'] = df['DATE_INCIDENT_BEGAN'].replace('2022/09/28 00:00:00+00', '09/28/22')"
   ]
  },
  {
   "cell_type": "code",
   "execution_count": 233,
   "id": "9c1b8d97",
   "metadata": {},
   "outputs": [],
   "source": [
    "df['DATE_INCIDENT_BEGAN'] = df['DATE_INCIDENT_BEGAN'].replace('2022/09/27 00:00:00+00', '09/27/22')"
   ]
  },
  {
   "cell_type": "code",
   "execution_count": 234,
   "id": "2debf903",
   "metadata": {},
   "outputs": [],
   "source": [
    "df['DATE_INCIDENT_BEGAN'] = df['DATE_INCIDENT_BEGAN'].replace('2022/09/26 00:00:00+00', '09/26/22')"
   ]
  },
  {
   "cell_type": "code",
   "execution_count": 235,
   "id": "bd5c29b3",
   "metadata": {},
   "outputs": [],
   "source": [
    "df['DATE_INCIDENT_BEGAN'] = df['DATE_INCIDENT_BEGAN'].replace('2022/09/25 00:00:00+00', '09/25/22')"
   ]
  },
  {
   "cell_type": "code",
   "execution_count": 236,
   "id": "37ee1997",
   "metadata": {},
   "outputs": [],
   "source": [
    "df['DATE_INCIDENT_BEGAN'] = df['DATE_INCIDENT_BEGAN'].replace('2022/09/24 00:00:00+00', '09/24/22')"
   ]
  },
  {
   "cell_type": "code",
   "execution_count": 237,
   "id": "de4d566f",
   "metadata": {},
   "outputs": [],
   "source": [
    "df['DATE_INCIDENT_BEGAN'] = df['DATE_INCIDENT_BEGAN'].replace('2022/09/23 00:00:00+00', '09/23/22')"
   ]
  },
  {
   "cell_type": "code",
   "execution_count": 238,
   "id": "eca9971a",
   "metadata": {},
   "outputs": [],
   "source": [
    "df['DATE_INCIDENT_BEGAN'] = df['DATE_INCIDENT_BEGAN'].replace('2022/09/22 00:00:00+00', '09/22/22')"
   ]
  },
  {
   "cell_type": "code",
   "execution_count": 239,
   "id": "4d6db0bb",
   "metadata": {},
   "outputs": [],
   "source": [
    "df['DATE_INCIDENT_BEGAN'] = df['DATE_INCIDENT_BEGAN'].replace('2022/09/21 00:00:00+00', '09/21/22')"
   ]
  },
  {
   "cell_type": "code",
   "execution_count": 240,
   "id": "b90a99ba",
   "metadata": {},
   "outputs": [],
   "source": [
    "df['DATE_INCIDENT_BEGAN'] = df['DATE_INCIDENT_BEGAN'].replace('2022/09/20 00:00:00+00', '09/20/22')"
   ]
  },
  {
   "cell_type": "code",
   "execution_count": 241,
   "id": "3f533c70",
   "metadata": {},
   "outputs": [],
   "source": [
    "df['DATE_INCIDENT_BEGAN'] = df['DATE_INCIDENT_BEGAN'].replace('2022/09/19 00:00:00+00', '09/19/22')"
   ]
  },
  {
   "cell_type": "code",
   "execution_count": 242,
   "id": "700c2318",
   "metadata": {},
   "outputs": [],
   "source": [
    "df['DATE_INCIDENT_BEGAN'] = df['DATE_INCIDENT_BEGAN'].replace('2022/09/18 00:00:00+00', '09/18/22')"
   ]
  },
  {
   "cell_type": "code",
   "execution_count": 243,
   "id": "b5a6619e",
   "metadata": {},
   "outputs": [],
   "source": [
    "df['DATE_INCIDENT_BEGAN'] = df['DATE_INCIDENT_BEGAN'].replace('2022/09/17 00:00:00+00', '09/17/22')"
   ]
  },
  {
   "cell_type": "code",
   "execution_count": 244,
   "id": "58bd99e3",
   "metadata": {},
   "outputs": [],
   "source": [
    "df['DATE_INCIDENT_BEGAN'] = df['DATE_INCIDENT_BEGAN'].replace('2022/09/16 00:00:00+00', '09/16/22')"
   ]
  },
  {
   "cell_type": "code",
   "execution_count": 245,
   "id": "ccac2a34",
   "metadata": {},
   "outputs": [],
   "source": [
    "df['DATE_INCIDENT_BEGAN'] = df['DATE_INCIDENT_BEGAN'].replace('2022/09/15 00:00:00+00', '09/15/22')"
   ]
  },
  {
   "cell_type": "code",
   "execution_count": 246,
   "id": "01ce77d4",
   "metadata": {},
   "outputs": [],
   "source": [
    "df['DATE_INCIDENT_BEGAN'] = df['DATE_INCIDENT_BEGAN'].replace('2022/09/14 00:00:00+00', '09/14/22')"
   ]
  },
  {
   "cell_type": "code",
   "execution_count": 247,
   "id": "20c31864",
   "metadata": {},
   "outputs": [],
   "source": [
    "df['DATE_INCIDENT_BEGAN'] = df['DATE_INCIDENT_BEGAN'].replace('2022/09/13 00:00:00+00', '09/13/22')"
   ]
  },
  {
   "cell_type": "code",
   "execution_count": 248,
   "id": "2370f673",
   "metadata": {},
   "outputs": [],
   "source": [
    "df['DATE_INCIDENT_BEGAN'] = df['DATE_INCIDENT_BEGAN'].replace('2022/09/12 00:00:00+00', '09/12/22')"
   ]
  },
  {
   "cell_type": "code",
   "execution_count": 249,
   "id": "af20e01c",
   "metadata": {},
   "outputs": [],
   "source": [
    "df['DATE_INCIDENT_BEGAN'] = df['DATE_INCIDENT_BEGAN'].replace('2022/09/11 00:00:00+00', '09/11/22')"
   ]
  },
  {
   "cell_type": "code",
   "execution_count": 250,
   "id": "2915be63",
   "metadata": {},
   "outputs": [],
   "source": [
    "df['DATE_INCIDENT_BEGAN'] = df['DATE_INCIDENT_BEGAN'].replace('2022/09/10 00:00:00+00', '09/10/22')"
   ]
  },
  {
   "cell_type": "code",
   "execution_count": 251,
   "id": "c83617c1",
   "metadata": {},
   "outputs": [],
   "source": [
    "df['DATE_INCIDENT_BEGAN'] = df['DATE_INCIDENT_BEGAN'].replace('2022/09/09 00:00:00+00', '09/09/22')"
   ]
  },
  {
   "cell_type": "code",
   "execution_count": 252,
   "id": "d2f5ea87",
   "metadata": {},
   "outputs": [],
   "source": [
    "df['DATE_INCIDENT_BEGAN'] = df['DATE_INCIDENT_BEGAN'].replace('2022/09/08 00:00:00+00', '09/08/22')"
   ]
  },
  {
   "cell_type": "code",
   "execution_count": 253,
   "id": "11ef8a09",
   "metadata": {},
   "outputs": [],
   "source": [
    "df['DATE_INCIDENT_BEGAN'] = df['DATE_INCIDENT_BEGAN'].replace('2022/09/07 00:00:00+00', '09/07/22')"
   ]
  },
  {
   "cell_type": "code",
   "execution_count": 254,
   "id": "b4870661",
   "metadata": {},
   "outputs": [],
   "source": [
    "df['DATE_INCIDENT_BEGAN'] = df['DATE_INCIDENT_BEGAN'].replace('2022/09/06 00:00:00+00', '09/06/22')"
   ]
  },
  {
   "cell_type": "code",
   "execution_count": 255,
   "id": "77e5d5e2",
   "metadata": {},
   "outputs": [],
   "source": [
    "df['DATE_INCIDENT_BEGAN'] = df['DATE_INCIDENT_BEGAN'].replace('2022/09/05 00:00:00+00', '09/05/22')"
   ]
  },
  {
   "cell_type": "code",
   "execution_count": 256,
   "id": "892210c2",
   "metadata": {},
   "outputs": [],
   "source": [
    "df['DATE_INCIDENT_BEGAN'] = df['DATE_INCIDENT_BEGAN'].replace('2022/09/04 00:00:00+00', '09/04/22')"
   ]
  },
  {
   "cell_type": "code",
   "execution_count": 257,
   "id": "c466d4b0",
   "metadata": {},
   "outputs": [],
   "source": [
    "df['DATE_INCIDENT_BEGAN'] = df['DATE_INCIDENT_BEGAN'].replace('2022/09/03 00:00:00+00', '09/03/22')"
   ]
  },
  {
   "cell_type": "code",
   "execution_count": 258,
   "id": "ec02f6bf",
   "metadata": {},
   "outputs": [],
   "source": [
    "df['DATE_INCIDENT_BEGAN'] = df['DATE_INCIDENT_BEGAN'].replace('2022/09/02 00:00:00+00', '09/02/22')"
   ]
  },
  {
   "cell_type": "code",
   "execution_count": 259,
   "id": "6ed3fcb2",
   "metadata": {},
   "outputs": [],
   "source": [
    "df['DATE_INCIDENT_BEGAN'] = df['DATE_INCIDENT_BEGAN'].replace('2022/09/01 00:00:00+00', '09/01/22')"
   ]
  },
  {
   "cell_type": "code",
   "execution_count": 260,
   "id": "f2d9dcb0",
   "metadata": {},
   "outputs": [],
   "source": [
    "df['DATE_INCIDENT_BEGAN'] = df['DATE_INCIDENT_BEGAN'].replace('2022/08/31 00:00:00+00', '08/31/22')"
   ]
  },
  {
   "cell_type": "code",
   "execution_count": 261,
   "id": "8b6e96a9",
   "metadata": {},
   "outputs": [],
   "source": [
    "df['DATE_INCIDENT_BEGAN'] = df['DATE_INCIDENT_BEGAN'].replace('2022/08/30 00:00:00+00', '08/30/22')"
   ]
  },
  {
   "cell_type": "code",
   "execution_count": 262,
   "id": "6aad28da",
   "metadata": {},
   "outputs": [],
   "source": [
    "df['DATE_INCIDENT_BEGAN'] = df['DATE_INCIDENT_BEGAN'].replace('2022/08/29 00:00:00+00', '08/29/22')"
   ]
  },
  {
   "cell_type": "code",
   "execution_count": 263,
   "id": "f50ac174",
   "metadata": {},
   "outputs": [],
   "source": [
    "df['DATE_INCIDENT_BEGAN'] = df['DATE_INCIDENT_BEGAN'].replace('2022/08/28 00:00:00+00', '08/28/22')"
   ]
  },
  {
   "cell_type": "code",
   "execution_count": 264,
   "id": "6ad14d83",
   "metadata": {},
   "outputs": [],
   "source": [
    "df['DATE_INCIDENT_BEGAN'] = df['DATE_INCIDENT_BEGAN'].replace('2022/08/27 00:00:00+00', '08/27/22')"
   ]
  },
  {
   "cell_type": "code",
   "execution_count": 265,
   "id": "f83c7aa0",
   "metadata": {},
   "outputs": [],
   "source": [
    "df['DATE_INCIDENT_BEGAN'] = df['DATE_INCIDENT_BEGAN'].replace('2022/08/26 00:00:00+00', '08/26/22')"
   ]
  },
  {
   "cell_type": "code",
   "execution_count": 266,
   "id": "f54d87c5",
   "metadata": {},
   "outputs": [],
   "source": [
    "df['DATE_INCIDENT_BEGAN'] = df['DATE_INCIDENT_BEGAN'].replace('2022/08/25 00:00:00+00', '08/25/22')"
   ]
  },
  {
   "cell_type": "code",
   "execution_count": 267,
   "id": "e04a0622",
   "metadata": {},
   "outputs": [],
   "source": [
    "df['DATE_INCIDENT_BEGAN'] = df['DATE_INCIDENT_BEGAN'].replace('2022/08/24 00:00:00+00', '08/24/22')"
   ]
  },
  {
   "cell_type": "code",
   "execution_count": 268,
   "id": "2dd76ac8",
   "metadata": {},
   "outputs": [],
   "source": [
    "df['DATE_INCIDENT_BEGAN'] = df['DATE_INCIDENT_BEGAN'].replace('2022/08/23 00:00:00+00', '08/23/22')"
   ]
  },
  {
   "cell_type": "code",
   "execution_count": 269,
   "id": "79089cc0",
   "metadata": {},
   "outputs": [],
   "source": [
    "df['DATE_INCIDENT_BEGAN'] = df['DATE_INCIDENT_BEGAN'].replace('2022/08/22 00:00:00+00', '08/22/22')"
   ]
  },
  {
   "cell_type": "code",
   "execution_count": 270,
   "id": "bd6e9f48",
   "metadata": {},
   "outputs": [],
   "source": [
    "df['DATE_INCIDENT_BEGAN'] = df['DATE_INCIDENT_BEGAN'].replace('2022/08/21 00:00:00+00', '08/21/22')"
   ]
  },
  {
   "cell_type": "code",
   "execution_count": 271,
   "id": "f064f194",
   "metadata": {},
   "outputs": [],
   "source": [
    "df['DATE_INCIDENT_BEGAN'] = df['DATE_INCIDENT_BEGAN'].replace('2022/08/20 00:00:00+00', '08/20/22')"
   ]
  },
  {
   "cell_type": "code",
   "execution_count": 272,
   "id": "1436296a",
   "metadata": {},
   "outputs": [],
   "source": [
    "df['DATE_INCIDENT_BEGAN'] = df['DATE_INCIDENT_BEGAN'].replace('2022/08/19 00:00:00+00', '08/19/22')"
   ]
  },
  {
   "cell_type": "code",
   "execution_count": 273,
   "id": "75a3eeb4",
   "metadata": {},
   "outputs": [],
   "source": [
    "df['DATE_INCIDENT_BEGAN'] = df['DATE_INCIDENT_BEGAN'].replace('2022/08/18 00:00:00+00', '08/18/22')"
   ]
  },
  {
   "cell_type": "code",
   "execution_count": 274,
   "id": "cacab84f",
   "metadata": {},
   "outputs": [],
   "source": [
    "df['DATE_INCIDENT_BEGAN'] = df['DATE_INCIDENT_BEGAN'].replace('2022/08/17 00:00:00+00', '08/17/22')"
   ]
  },
  {
   "cell_type": "code",
   "execution_count": 275,
   "id": "f7adb1a9",
   "metadata": {},
   "outputs": [],
   "source": [
    "df['DATE_INCIDENT_BEGAN'] = df['DATE_INCIDENT_BEGAN'].replace('2022/08/16 00:00:00+00', '08/16/22')"
   ]
  },
  {
   "cell_type": "code",
   "execution_count": 276,
   "id": "2eb2fb4a",
   "metadata": {},
   "outputs": [],
   "source": [
    "df['DATE_INCIDENT_BEGAN'] = df['DATE_INCIDENT_BEGAN'].replace('2022/08/15 00:00:00+00', '08/15/22')"
   ]
  },
  {
   "cell_type": "code",
   "execution_count": 277,
   "id": "340ef43c",
   "metadata": {},
   "outputs": [],
   "source": [
    "df['DATE_INCIDENT_BEGAN'] = df['DATE_INCIDENT_BEGAN'].replace('2022/08/14 00:00:00+00', '08/14/22')"
   ]
  },
  {
   "cell_type": "code",
   "execution_count": 278,
   "id": "441babfb",
   "metadata": {},
   "outputs": [],
   "source": [
    "df['DATE_INCIDENT_BEGAN'] = df['DATE_INCIDENT_BEGAN'].replace('2022/08/13 00:00:00+00', '08/13/22')"
   ]
  },
  {
   "cell_type": "code",
   "execution_count": 279,
   "id": "576ba4fc",
   "metadata": {},
   "outputs": [],
   "source": [
    "df['DATE_INCIDENT_BEGAN'] = df['DATE_INCIDENT_BEGAN'].replace('2022/08/12 00:00:00+00', '08/12/22')"
   ]
  },
  {
   "cell_type": "code",
   "execution_count": 280,
   "id": "a09921c4",
   "metadata": {},
   "outputs": [],
   "source": [
    "df['DATE_INCIDENT_BEGAN'] = df['DATE_INCIDENT_BEGAN'].replace('2022/08/11 00:00:00+00', '08/11/22')"
   ]
  },
  {
   "cell_type": "code",
   "execution_count": 281,
   "id": "e3736c53",
   "metadata": {},
   "outputs": [],
   "source": [
    "df['DATE_INCIDENT_BEGAN'] = df['DATE_INCIDENT_BEGAN'].replace('2022/08/10 00:00:00+00', '08/10/22')"
   ]
  },
  {
   "cell_type": "code",
   "execution_count": 282,
   "id": "86653548",
   "metadata": {},
   "outputs": [],
   "source": [
    "df['DATE_INCIDENT_BEGAN'] = df['DATE_INCIDENT_BEGAN'].replace('2022/08/09 00:00:00+00', '08/09/22')"
   ]
  },
  {
   "cell_type": "code",
   "execution_count": 283,
   "id": "995e8476",
   "metadata": {},
   "outputs": [],
   "source": [
    "df['DATE_INCIDENT_BEGAN'] = df['DATE_INCIDENT_BEGAN'].replace('2022/08/08 00:00:00+00', '08/08/22')"
   ]
  },
  {
   "cell_type": "code",
   "execution_count": 284,
   "id": "aa87dc8e",
   "metadata": {},
   "outputs": [],
   "source": [
    "df['DATE_INCIDENT_BEGAN'] = df['DATE_INCIDENT_BEGAN'].replace('2022/08/07 00:00:00+00', '08/07/22')"
   ]
  },
  {
   "cell_type": "code",
   "execution_count": 285,
   "id": "4e8c131c",
   "metadata": {},
   "outputs": [],
   "source": [
    "df['DATE_INCIDENT_BEGAN'] = df['DATE_INCIDENT_BEGAN'].replace('2022/08/06 00:00:00+00', '08/06/22')"
   ]
  },
  {
   "cell_type": "code",
   "execution_count": 286,
   "id": "69dc96ff",
   "metadata": {},
   "outputs": [],
   "source": [
    "df['DATE_INCIDENT_BEGAN'] = df['DATE_INCIDENT_BEGAN'].replace('2022/08/05 00:00:00+00', '08/05/22')"
   ]
  },
  {
   "cell_type": "code",
   "execution_count": 287,
   "id": "bf7964bb",
   "metadata": {},
   "outputs": [],
   "source": [
    "df['DATE_INCIDENT_BEGAN'] = df['DATE_INCIDENT_BEGAN'].replace('2022/08/04 00:00:00+00', '08/04/22')"
   ]
  },
  {
   "cell_type": "code",
   "execution_count": 288,
   "id": "1661b659",
   "metadata": {},
   "outputs": [],
   "source": [
    "df['DATE_INCIDENT_BEGAN'] = df['DATE_INCIDENT_BEGAN'].replace('2022/08/03 00:00:00+00', '08/03/22')"
   ]
  },
  {
   "cell_type": "code",
   "execution_count": 289,
   "id": "0aa8acad",
   "metadata": {},
   "outputs": [],
   "source": [
    "df['DATE_INCIDENT_BEGAN'] = df['DATE_INCIDENT_BEGAN'].replace('2022/08/02 00:00:00+00', '08/02/22')"
   ]
  },
  {
   "cell_type": "code",
   "execution_count": 290,
   "id": "090995f7",
   "metadata": {},
   "outputs": [],
   "source": [
    "df['DATE_INCIDENT_BEGAN'] = df['DATE_INCIDENT_BEGAN'].replace('2022/08/01 00:00:00+00', '08/01/22')"
   ]
  },
  {
   "cell_type": "code",
   "execution_count": 291,
   "id": "af21097a",
   "metadata": {},
   "outputs": [],
   "source": [
    "df['DATE_INCIDENT_BEGAN'] = df['DATE_INCIDENT_BEGAN'].replace('2022/07/31 00:00:00+00', '07/31/22')"
   ]
  },
  {
   "cell_type": "code",
   "execution_count": 292,
   "id": "c8cb527e",
   "metadata": {},
   "outputs": [],
   "source": [
    "df['DATE_INCIDENT_BEGAN'] = df['DATE_INCIDENT_BEGAN'].replace('2022/07/30 00:00:00+00', '07/30/22')"
   ]
  },
  {
   "cell_type": "code",
   "execution_count": 293,
   "id": "3bfd5d95",
   "metadata": {},
   "outputs": [],
   "source": [
    "df['DATE_INCIDENT_BEGAN'] = df['DATE_INCIDENT_BEGAN'].replace('2022/07/29 00:00:00+00', '07/29/22')"
   ]
  },
  {
   "cell_type": "code",
   "execution_count": 294,
   "id": "5f846efe",
   "metadata": {},
   "outputs": [],
   "source": [
    "df['DATE_INCIDENT_BEGAN'] = df['DATE_INCIDENT_BEGAN'].replace('2022/07/28 00:00:00+00', '07/28/22')"
   ]
  },
  {
   "cell_type": "code",
   "execution_count": 295,
   "id": "108dcc16",
   "metadata": {},
   "outputs": [],
   "source": [
    "df['DATE_INCIDENT_BEGAN'] = df['DATE_INCIDENT_BEGAN'].replace('2022/07/27 00:00:00+00', '07/27/22')"
   ]
  },
  {
   "cell_type": "code",
   "execution_count": 296,
   "id": "37371d4f",
   "metadata": {},
   "outputs": [],
   "source": [
    "df['DATE_INCIDENT_BEGAN'] = df['DATE_INCIDENT_BEGAN'].replace('2022/07/26 00:00:00+00', '07/26/22')"
   ]
  },
  {
   "cell_type": "code",
   "execution_count": 297,
   "id": "f4577c33",
   "metadata": {},
   "outputs": [],
   "source": [
    "df['DATE_INCIDENT_BEGAN'] = df['DATE_INCIDENT_BEGAN'].replace('2022/07/25 00:00:00+00', '07/25/22')"
   ]
  },
  {
   "cell_type": "code",
   "execution_count": 298,
   "id": "d100133f",
   "metadata": {},
   "outputs": [],
   "source": [
    "df['DATE_INCIDENT_BEGAN'] = df['DATE_INCIDENT_BEGAN'].replace('2022/07/24 00:00:00+00', '07/24/22')"
   ]
  },
  {
   "cell_type": "code",
   "execution_count": 299,
   "id": "27dbde06",
   "metadata": {},
   "outputs": [],
   "source": [
    "df['DATE_INCIDENT_BEGAN'] = df['DATE_INCIDENT_BEGAN'].replace('2022/07/23 00:00:00+00', '07/23/22')"
   ]
  },
  {
   "cell_type": "code",
   "execution_count": 300,
   "id": "f18422a6",
   "metadata": {},
   "outputs": [],
   "source": [
    "df['DATE_INCIDENT_BEGAN'] = df['DATE_INCIDENT_BEGAN'].replace('2022/07/22 00:00:00+00', '07/22/22')"
   ]
  },
  {
   "cell_type": "code",
   "execution_count": 301,
   "id": "8164f0c2",
   "metadata": {},
   "outputs": [],
   "source": [
    "df['DATE_INCIDENT_BEGAN'] = df['DATE_INCIDENT_BEGAN'].replace('2022/07/21 00:00:00+00', '07/21/22')"
   ]
  },
  {
   "cell_type": "code",
   "execution_count": 302,
   "id": "feaaae90",
   "metadata": {},
   "outputs": [],
   "source": [
    "df['DATE_INCIDENT_BEGAN'] = df['DATE_INCIDENT_BEGAN'].replace('2022/07/20 00:00:00+00', '07/20/22')"
   ]
  },
  {
   "cell_type": "code",
   "execution_count": 303,
   "id": "a545af99",
   "metadata": {},
   "outputs": [],
   "source": [
    "df['DATE_INCIDENT_BEGAN'] = df['DATE_INCIDENT_BEGAN'].replace('2022/07/19 00:00:00+00', '07/19/22')"
   ]
  },
  {
   "cell_type": "code",
   "execution_count": 304,
   "id": "eaabf147",
   "metadata": {},
   "outputs": [],
   "source": [
    "df['DATE_INCIDENT_BEGAN'] = df['DATE_INCIDENT_BEGAN'].replace('2022/07/18 00:00:00+00', '07/18/22')"
   ]
  },
  {
   "cell_type": "code",
   "execution_count": 305,
   "id": "16d60265",
   "metadata": {},
   "outputs": [],
   "source": [
    "df['DATE_INCIDENT_BEGAN'] = df['DATE_INCIDENT_BEGAN'].replace('2022/07/17 00:00:00+00', '07/17/22')"
   ]
  },
  {
   "cell_type": "code",
   "execution_count": 307,
   "id": "e384455c",
   "metadata": {},
   "outputs": [],
   "source": [
    "df['DATE_INCIDENT_BEGAN'] = df['DATE_INCIDENT_BEGAN'].replace('07/15/22', '07/16/22')"
   ]
  },
  {
   "cell_type": "code",
   "execution_count": 308,
   "id": "7bb72477",
   "metadata": {},
   "outputs": [],
   "source": [
    "df['DATE_INCIDENT_BEGAN'] = df['DATE_INCIDENT_BEGAN'].replace('2022/07/15 00:00:00+00', '07/15/22')"
   ]
  },
  {
   "cell_type": "code",
   "execution_count": 309,
   "id": "70777e7a",
   "metadata": {},
   "outputs": [],
   "source": [
    "df['DATE_INCIDENT_BEGAN'] = df['DATE_INCIDENT_BEGAN'].replace('2022/07/14 00:00:00+00', '07/14/22')"
   ]
  },
  {
   "cell_type": "code",
   "execution_count": 310,
   "id": "f6f0c35f",
   "metadata": {},
   "outputs": [],
   "source": [
    "df['DATE_INCIDENT_BEGAN'] = df['DATE_INCIDENT_BEGAN'].replace('2022/07/13 00:00:00+00', '07/13/22')"
   ]
  },
  {
   "cell_type": "code",
   "execution_count": 311,
   "id": "7c681aeb",
   "metadata": {},
   "outputs": [],
   "source": [
    "df['DATE_INCIDENT_BEGAN'] = df['DATE_INCIDENT_BEGAN'].replace('2022/07/12 00:00:00+00', '07/12/22')"
   ]
  },
  {
   "cell_type": "code",
   "execution_count": 312,
   "id": "2279eea1",
   "metadata": {},
   "outputs": [],
   "source": [
    "df['DATE_INCIDENT_BEGAN'] = df['DATE_INCIDENT_BEGAN'].replace('2022/07/11 00:00:00+00', '07/11/22')"
   ]
  },
  {
   "cell_type": "code",
   "execution_count": 313,
   "id": "7b88e811",
   "metadata": {},
   "outputs": [],
   "source": [
    "df['DATE_INCIDENT_BEGAN'] = df['DATE_INCIDENT_BEGAN'].replace('2022/07/10 00:00:00+00', '07/10/22')"
   ]
  },
  {
   "cell_type": "code",
   "execution_count": 314,
   "id": "ee392d83",
   "metadata": {},
   "outputs": [],
   "source": [
    "df['DATE_INCIDENT_BEGAN'] = df['DATE_INCIDENT_BEGAN'].replace('2022/07/09 00:00:00+00', '07/09/22')"
   ]
  },
  {
   "cell_type": "code",
   "execution_count": 315,
   "id": "3a2d0893",
   "metadata": {},
   "outputs": [],
   "source": [
    "df['DATE_INCIDENT_BEGAN'] = df['DATE_INCIDENT_BEGAN'].replace('2022/07/08 00:00:00+00', '07/08/22')"
   ]
  },
  {
   "cell_type": "code",
   "execution_count": 316,
   "id": "f8ebb82e",
   "metadata": {},
   "outputs": [],
   "source": [
    "df['DATE_INCIDENT_BEGAN'] = df['DATE_INCIDENT_BEGAN'].replace('2022/07/07 00:00:00+00', '07/07/22')"
   ]
  },
  {
   "cell_type": "code",
   "execution_count": 317,
   "id": "ef279cbe",
   "metadata": {},
   "outputs": [],
   "source": [
    "df['DATE_INCIDENT_BEGAN'] = df['DATE_INCIDENT_BEGAN'].replace('2022/07/06 00:00:00+00', '07/06/22')"
   ]
  },
  {
   "cell_type": "code",
   "execution_count": 318,
   "id": "53d5152c",
   "metadata": {},
   "outputs": [],
   "source": [
    "df['DATE_INCIDENT_BEGAN'] = df['DATE_INCIDENT_BEGAN'].replace('2022/07/05 00:00:00+00', '07/05/22')"
   ]
  },
  {
   "cell_type": "code",
   "execution_count": 319,
   "id": "e4ea720c",
   "metadata": {},
   "outputs": [],
   "source": [
    "df['DATE_INCIDENT_BEGAN'] = df['DATE_INCIDENT_BEGAN'].replace('2022/07/04 00:00:00+00', '07/04/22')"
   ]
  },
  {
   "cell_type": "code",
   "execution_count": 320,
   "id": "26011fe5",
   "metadata": {},
   "outputs": [],
   "source": [
    "df['DATE_INCIDENT_BEGAN'] = df['DATE_INCIDENT_BEGAN'].replace('2022/07/03 00:00:00+00', '07/03/22')"
   ]
  },
  {
   "cell_type": "code",
   "execution_count": 321,
   "id": "7d17b75e",
   "metadata": {},
   "outputs": [],
   "source": [
    "df['DATE_INCIDENT_BEGAN'] = df['DATE_INCIDENT_BEGAN'].replace('2022/07/02 00:00:00+00', '07/02/22')"
   ]
  },
  {
   "cell_type": "code",
   "execution_count": 322,
   "id": "a4835d85",
   "metadata": {},
   "outputs": [],
   "source": [
    "df['DATE_INCIDENT_BEGAN'] = df['DATE_INCIDENT_BEGAN'].replace('2022/07/01 00:00:00+00', '07/01/22')"
   ]
  },
  {
   "cell_type": "code",
   "execution_count": 323,
   "id": "09805ada",
   "metadata": {},
   "outputs": [],
   "source": [
    "df['DATE_INCIDENT_BEGAN'] = df['DATE_INCIDENT_BEGAN'].replace('2022/06/30 00:00:00+00', '06/30/22')"
   ]
  },
  {
   "cell_type": "code",
   "execution_count": 324,
   "id": "6bbc91f9",
   "metadata": {},
   "outputs": [],
   "source": [
    "df['DATE_INCIDENT_BEGAN'] = df['DATE_INCIDENT_BEGAN'].replace('2022/06/29 00:00:00+00', '06/29/22')"
   ]
  },
  {
   "cell_type": "code",
   "execution_count": 325,
   "id": "74f3a2ee",
   "metadata": {},
   "outputs": [],
   "source": [
    "df['DATE_INCIDENT_BEGAN'] = df['DATE_INCIDENT_BEGAN'].replace('2022/06/28 00:00:00+00', '06/28/22')"
   ]
  },
  {
   "cell_type": "code",
   "execution_count": 326,
   "id": "c00edcb2",
   "metadata": {},
   "outputs": [],
   "source": [
    "df['DATE_INCIDENT_BEGAN'] = df['DATE_INCIDENT_BEGAN'].replace('2022/06/27 00:00:00+00', '06/27/22')"
   ]
  },
  {
   "cell_type": "code",
   "execution_count": 327,
   "id": "5b172ffc",
   "metadata": {},
   "outputs": [],
   "source": [
    "df['DATE_INCIDENT_BEGAN'] = df['DATE_INCIDENT_BEGAN'].replace('2022/06/26 00:00:00+00', '06/26/22')"
   ]
  },
  {
   "cell_type": "code",
   "execution_count": 328,
   "id": "88f1d0ae",
   "metadata": {},
   "outputs": [],
   "source": [
    "df['DATE_INCIDENT_BEGAN'] = df['DATE_INCIDENT_BEGAN'].replace('2022/06/25 00:00:00+00', '06/25/22')"
   ]
  },
  {
   "cell_type": "code",
   "execution_count": 329,
   "id": "62d0c341",
   "metadata": {},
   "outputs": [],
   "source": [
    "df['DATE_INCIDENT_BEGAN'] = df['DATE_INCIDENT_BEGAN'].replace('2022/06/24 00:00:00+00', '06/24/22')"
   ]
  },
  {
   "cell_type": "code",
   "execution_count": 330,
   "id": "a9becab7",
   "metadata": {},
   "outputs": [],
   "source": [
    "df['DATE_INCIDENT_BEGAN'] = df['DATE_INCIDENT_BEGAN'].replace('2022/06/23 00:00:00+00', '06/23/22')"
   ]
  },
  {
   "cell_type": "code",
   "execution_count": 331,
   "id": "3ae234cf",
   "metadata": {},
   "outputs": [],
   "source": [
    "df['DATE_INCIDENT_BEGAN'] = df['DATE_INCIDENT_BEGAN'].replace('2022/06/22 00:00:00+00', '06/22/22')"
   ]
  },
  {
   "cell_type": "code",
   "execution_count": 332,
   "id": "25b4cc24",
   "metadata": {},
   "outputs": [],
   "source": [
    "df['DATE_INCIDENT_BEGAN'] = df['DATE_INCIDENT_BEGAN'].replace('2022/06/21 00:00:00+00', '06/21/22')"
   ]
  },
  {
   "cell_type": "code",
   "execution_count": 333,
   "id": "6b81f251",
   "metadata": {},
   "outputs": [],
   "source": [
    "df['DATE_INCIDENT_BEGAN'] = df['DATE_INCIDENT_BEGAN'].replace('2022/06/20 00:00:00+00', '06/20/22')"
   ]
  },
  {
   "cell_type": "code",
   "execution_count": 334,
   "id": "2ce5851c",
   "metadata": {},
   "outputs": [],
   "source": [
    "df['DATE_INCIDENT_BEGAN'] = df['DATE_INCIDENT_BEGAN'].replace('2022/06/19 00:00:00+00', '06/19/22')"
   ]
  },
  {
   "cell_type": "code",
   "execution_count": 335,
   "id": "ad064c04",
   "metadata": {},
   "outputs": [],
   "source": [
    "df['DATE_INCIDENT_BEGAN'] = df['DATE_INCIDENT_BEGAN'].replace('2022/06/18 00:00:00+00', '06/18/22')"
   ]
  },
  {
   "cell_type": "code",
   "execution_count": 336,
   "id": "95623b90",
   "metadata": {},
   "outputs": [],
   "source": [
    "df['DATE_INCIDENT_BEGAN'] = df['DATE_INCIDENT_BEGAN'].replace('2022/06/17 00:00:00+00', '06/17/22')"
   ]
  },
  {
   "cell_type": "code",
   "execution_count": 337,
   "id": "0aadfb93",
   "metadata": {},
   "outputs": [],
   "source": [
    "df['DATE_INCIDENT_BEGAN'] = df['DATE_INCIDENT_BEGAN'].replace('2022/06/16 00:00:00+00', '06/16/22')"
   ]
  },
  {
   "cell_type": "code",
   "execution_count": 338,
   "id": "88954aaf",
   "metadata": {},
   "outputs": [],
   "source": [
    "df['DATE_INCIDENT_BEGAN'] = df['DATE_INCIDENT_BEGAN'].replace('2022/06/15 00:00:00+00', '06/15/22')"
   ]
  },
  {
   "cell_type": "code",
   "execution_count": 339,
   "id": "598c7fc9",
   "metadata": {},
   "outputs": [],
   "source": [
    "df['DATE_INCIDENT_BEGAN'] = df['DATE_INCIDENT_BEGAN'].replace('2022/06/14 00:00:00+00', '06/14/22')"
   ]
  },
  {
   "cell_type": "code",
   "execution_count": 340,
   "id": "9cbedd44",
   "metadata": {},
   "outputs": [],
   "source": [
    "df['DATE_INCIDENT_BEGAN'] = df['DATE_INCIDENT_BEGAN'].replace('2022/06/13 00:00:00+00', '06/13/22')"
   ]
  },
  {
   "cell_type": "code",
   "execution_count": 341,
   "id": "7e326417",
   "metadata": {},
   "outputs": [],
   "source": [
    "df['DATE_INCIDENT_BEGAN'] = df['DATE_INCIDENT_BEGAN'].replace('2022/06/12 00:00:00+00', '06/12/22')"
   ]
  },
  {
   "cell_type": "code",
   "execution_count": 342,
   "id": "f73e75e0",
   "metadata": {},
   "outputs": [],
   "source": [
    "df['DATE_INCIDENT_BEGAN'] = df['DATE_INCIDENT_BEGAN'].replace('2022/06/11 00:00:00+00', '06/11/22')"
   ]
  },
  {
   "cell_type": "code",
   "execution_count": 343,
   "id": "0e1d4a7d",
   "metadata": {},
   "outputs": [],
   "source": [
    "df['DATE_INCIDENT_BEGAN'] = df['DATE_INCIDENT_BEGAN'].replace('2022/06/10 00:00:00+00', '06/10/22')"
   ]
  },
  {
   "cell_type": "code",
   "execution_count": 344,
   "id": "3de2374e",
   "metadata": {},
   "outputs": [],
   "source": [
    "df['DATE_INCIDENT_BEGAN'] = df['DATE_INCIDENT_BEGAN'].replace('2022/06/09 00:00:00+00', '06/09/22')"
   ]
  },
  {
   "cell_type": "code",
   "execution_count": 345,
   "id": "390ad947",
   "metadata": {},
   "outputs": [],
   "source": [
    "df['DATE_INCIDENT_BEGAN'] = df['DATE_INCIDENT_BEGAN'].replace('2022/06/08 00:00:00+00', '06/08/22')"
   ]
  },
  {
   "cell_type": "code",
   "execution_count": 346,
   "id": "909ebbc1",
   "metadata": {},
   "outputs": [],
   "source": [
    "df['DATE_INCIDENT_BEGAN'] = df['DATE_INCIDENT_BEGAN'].replace('2022/06/07 00:00:00+00', '06/07/22')"
   ]
  },
  {
   "cell_type": "code",
   "execution_count": 347,
   "id": "31fbb3c9",
   "metadata": {},
   "outputs": [],
   "source": [
    "df['DATE_INCIDENT_BEGAN'] = df['DATE_INCIDENT_BEGAN'].replace('2022/06/06 00:00:00+00', '06/06/22')"
   ]
  },
  {
   "cell_type": "code",
   "execution_count": 348,
   "id": "42a3ce44",
   "metadata": {},
   "outputs": [],
   "source": [
    "df['DATE_INCIDENT_BEGAN'] = df['DATE_INCIDENT_BEGAN'].replace('2022/06/05 00:00:00+00', '06/05/22')"
   ]
  },
  {
   "cell_type": "code",
   "execution_count": 349,
   "id": "6af9edc7",
   "metadata": {},
   "outputs": [],
   "source": [
    "df['DATE_INCIDENT_BEGAN'] = df['DATE_INCIDENT_BEGAN'].replace('2022/06/04 00:00:00+00', '06/04/22')"
   ]
  },
  {
   "cell_type": "code",
   "execution_count": 350,
   "id": "844161a3",
   "metadata": {},
   "outputs": [],
   "source": [
    "df['DATE_INCIDENT_BEGAN'] = df['DATE_INCIDENT_BEGAN'].replace('2022/06/03 00:00:00+00', '06/03/22')"
   ]
  },
  {
   "cell_type": "code",
   "execution_count": 351,
   "id": "a2c5e7bd",
   "metadata": {},
   "outputs": [],
   "source": [
    "df['DATE_INCIDENT_BEGAN'] = df['DATE_INCIDENT_BEGAN'].replace('2022/06/02 00:00:00+00', '06/02/22')"
   ]
  },
  {
   "cell_type": "code",
   "execution_count": 352,
   "id": "efe5173b",
   "metadata": {},
   "outputs": [],
   "source": [
    "df['DATE_INCIDENT_BEGAN'] = df['DATE_INCIDENT_BEGAN'].replace('2022/06/01 00:00:00+00', '06/01/22')"
   ]
  },
  {
   "cell_type": "code",
   "execution_count": 353,
   "id": "6644f5b3",
   "metadata": {},
   "outputs": [],
   "source": [
    "df['DATE_INCIDENT_BEGAN'] = df['DATE_INCIDENT_BEGAN'].replace('2022/05/31 00:00:00+00', '05/31/22')"
   ]
  },
  {
   "cell_type": "code",
   "execution_count": 354,
   "id": "5f38e58e",
   "metadata": {},
   "outputs": [],
   "source": [
    "df['DATE_INCIDENT_BEGAN'] = df['DATE_INCIDENT_BEGAN'].replace('2022/05/30 00:00:00+00', '05/30/22')"
   ]
  },
  {
   "cell_type": "code",
   "execution_count": 355,
   "id": "badc8095",
   "metadata": {},
   "outputs": [],
   "source": [
    "df['DATE_INCIDENT_BEGAN'] = df['DATE_INCIDENT_BEGAN'].replace('2022/05/29 00:00:00+00', '05/29/22')"
   ]
  },
  {
   "cell_type": "code",
   "execution_count": 356,
   "id": "6296eebc",
   "metadata": {},
   "outputs": [],
   "source": [
    "df['DATE_INCIDENT_BEGAN'] = df['DATE_INCIDENT_BEGAN'].replace('2022/05/28 00:00:00+00', '05/28/22')"
   ]
  },
  {
   "cell_type": "code",
   "execution_count": 357,
   "id": "e3426e0b",
   "metadata": {},
   "outputs": [],
   "source": [
    "df['DATE_INCIDENT_BEGAN'] = df['DATE_INCIDENT_BEGAN'].replace('2022/05/27 00:00:00+00', '05/27/22')"
   ]
  },
  {
   "cell_type": "code",
   "execution_count": 358,
   "id": "6db6a80c",
   "metadata": {},
   "outputs": [],
   "source": [
    "df['DATE_INCIDENT_BEGAN'] = df['DATE_INCIDENT_BEGAN'].replace('2022/05/26 00:00:00+00', '05/26/22')"
   ]
  },
  {
   "cell_type": "code",
   "execution_count": 359,
   "id": "431cad19",
   "metadata": {},
   "outputs": [],
   "source": [
    "df['DATE_INCIDENT_BEGAN'] = df['DATE_INCIDENT_BEGAN'].replace('2022/05/25 00:00:00+00', '05/25/22')"
   ]
  },
  {
   "cell_type": "code",
   "execution_count": 360,
   "id": "137f2e77",
   "metadata": {},
   "outputs": [],
   "source": [
    "df['DATE_INCIDENT_BEGAN'] = df['DATE_INCIDENT_BEGAN'].replace('2022/05/24 00:00:00+00', '05/24/22')"
   ]
  },
  {
   "cell_type": "code",
   "execution_count": 361,
   "id": "435c1b00",
   "metadata": {},
   "outputs": [],
   "source": [
    "df['DATE_INCIDENT_BEGAN'] = df['DATE_INCIDENT_BEGAN'].replace('2022/05/23 00:00:00+00', '05/23/22')"
   ]
  },
  {
   "cell_type": "code",
   "execution_count": 362,
   "id": "1407d119",
   "metadata": {},
   "outputs": [],
   "source": [
    "df['DATE_INCIDENT_BEGAN'] = df['DATE_INCIDENT_BEGAN'].replace('2022/05/22 00:00:00+00', '05/22/22')"
   ]
  },
  {
   "cell_type": "code",
   "execution_count": 363,
   "id": "11eadb52",
   "metadata": {},
   "outputs": [],
   "source": [
    "df['DATE_INCIDENT_BEGAN'] = df['DATE_INCIDENT_BEGAN'].replace('2022/05/21 00:00:00+00', '05/21/22')"
   ]
  },
  {
   "cell_type": "code",
   "execution_count": 364,
   "id": "dfe3f9f4",
   "metadata": {},
   "outputs": [],
   "source": [
    "df['DATE_INCIDENT_BEGAN'] = df['DATE_INCIDENT_BEGAN'].replace('2022/05/20 00:00:00+00', '05/20/22')"
   ]
  },
  {
   "cell_type": "code",
   "execution_count": 365,
   "id": "1b1b2b2d",
   "metadata": {},
   "outputs": [],
   "source": [
    "df['DATE_INCIDENT_BEGAN'] = df['DATE_INCIDENT_BEGAN'].replace('2022/05/19 00:00:00+00', '05/19/22')"
   ]
  },
  {
   "cell_type": "code",
   "execution_count": 366,
   "id": "092b8494",
   "metadata": {},
   "outputs": [],
   "source": [
    "df['DATE_INCIDENT_BEGAN'] = df['DATE_INCIDENT_BEGAN'].replace('2022/05/18 00:00:00+00', '05/18/22')"
   ]
  },
  {
   "cell_type": "code",
   "execution_count": 367,
   "id": "3cb2b279",
   "metadata": {},
   "outputs": [],
   "source": [
    "df['DATE_INCIDENT_BEGAN'] = df['DATE_INCIDENT_BEGAN'].replace('2022/05/17 00:00:00+00', '05/17/22')"
   ]
  },
  {
   "cell_type": "code",
   "execution_count": 368,
   "id": "14c95294",
   "metadata": {},
   "outputs": [],
   "source": [
    "df['DATE_INCIDENT_BEGAN'] = df['DATE_INCIDENT_BEGAN'].replace('2022/05/16 00:00:00+00', '05/16/22')"
   ]
  },
  {
   "cell_type": "code",
   "execution_count": 369,
   "id": "9d91712b",
   "metadata": {},
   "outputs": [],
   "source": [
    "df['DATE_INCIDENT_BEGAN'] = df['DATE_INCIDENT_BEGAN'].replace('2022/05/15 00:00:00+00', '05/15/22')"
   ]
  },
  {
   "cell_type": "code",
   "execution_count": 370,
   "id": "080da6b2",
   "metadata": {},
   "outputs": [],
   "source": [
    "df['DATE_INCIDENT_BEGAN'] = df['DATE_INCIDENT_BEGAN'].replace('2022/05/14 00:00:00+00', '05/14/22')"
   ]
  },
  {
   "cell_type": "code",
   "execution_count": 371,
   "id": "ccccb0a9",
   "metadata": {},
   "outputs": [],
   "source": [
    "df['DATE_INCIDENT_BEGAN'] = df['DATE_INCIDENT_BEGAN'].replace('2022/05/13 00:00:00+00', '05/13/22')"
   ]
  },
  {
   "cell_type": "code",
   "execution_count": 372,
   "id": "70323990",
   "metadata": {},
   "outputs": [],
   "source": [
    "df['DATE_INCIDENT_BEGAN'] = df['DATE_INCIDENT_BEGAN'].replace('2022/05/12 00:00:00+00', '05/12/22')"
   ]
  },
  {
   "cell_type": "code",
   "execution_count": 373,
   "id": "709d084d",
   "metadata": {},
   "outputs": [],
   "source": [
    "df['DATE_INCIDENT_BEGAN'] = df['DATE_INCIDENT_BEGAN'].replace('2022/05/11 00:00:00+00', '05/11/22')"
   ]
  },
  {
   "cell_type": "code",
   "execution_count": 374,
   "id": "e9d7d604",
   "metadata": {},
   "outputs": [],
   "source": [
    "df['DATE_INCIDENT_BEGAN'] = df['DATE_INCIDENT_BEGAN'].replace('2022/05/10 00:00:00+00', '05/10/22')"
   ]
  },
  {
   "cell_type": "code",
   "execution_count": 375,
   "id": "6e853ecb",
   "metadata": {},
   "outputs": [],
   "source": [
    "df['DATE_INCIDENT_BEGAN'] = df['DATE_INCIDENT_BEGAN'].replace('2022/05/09 00:00:00+00', '05/09/22')"
   ]
  },
  {
   "cell_type": "code",
   "execution_count": 377,
   "id": "828241d5",
   "metadata": {},
   "outputs": [],
   "source": [
    "df['DATE_INCIDENT_BEGAN'] = df['DATE_INCIDENT_BEGAN'].replace('2022/05/08 00:00:00+00', '05/08/22')"
   ]
  },
  {
   "cell_type": "code",
   "execution_count": 378,
   "id": "9ce40e4f",
   "metadata": {},
   "outputs": [],
   "source": [
    "df['DATE_INCIDENT_BEGAN'] = df['DATE_INCIDENT_BEGAN'].replace('2022/05/07 00:00:00+00', '05/07/22')"
   ]
  },
  {
   "cell_type": "code",
   "execution_count": 379,
   "id": "75e18d49",
   "metadata": {},
   "outputs": [],
   "source": [
    "df['DATE_INCIDENT_BEGAN'] = df['DATE_INCIDENT_BEGAN'].replace('2022/05/06 00:00:00+00', '05/06/22')"
   ]
  },
  {
   "cell_type": "code",
   "execution_count": 380,
   "id": "8b273160",
   "metadata": {},
   "outputs": [],
   "source": [
    "df['DATE_INCIDENT_BEGAN'] = df['DATE_INCIDENT_BEGAN'].replace('2022/05/05 00:00:00+00', '05/05/22')"
   ]
  },
  {
   "cell_type": "code",
   "execution_count": 381,
   "id": "2084f38b",
   "metadata": {},
   "outputs": [],
   "source": [
    "df['DATE_INCIDENT_BEGAN'] = df['DATE_INCIDENT_BEGAN'].replace('2022/05/04 00:00:00+00', '05/04/22')"
   ]
  },
  {
   "cell_type": "code",
   "execution_count": 382,
   "id": "df17ac69",
   "metadata": {},
   "outputs": [],
   "source": [
    "df['DATE_INCIDENT_BEGAN'] = df['DATE_INCIDENT_BEGAN'].replace('2022/05/03 00:00:00+00', '05/03/22')"
   ]
  },
  {
   "cell_type": "code",
   "execution_count": 383,
   "id": "85ce96d2",
   "metadata": {},
   "outputs": [],
   "source": [
    "df['DATE_INCIDENT_BEGAN'] = df['DATE_INCIDENT_BEGAN'].replace('2022/05/02 00:00:00+00', '05/02/22')"
   ]
  },
  {
   "cell_type": "code",
   "execution_count": 384,
   "id": "20720176",
   "metadata": {},
   "outputs": [],
   "source": [
    "df['DATE_INCIDENT_BEGAN'] = df['DATE_INCIDENT_BEGAN'].replace('2022/05/01 00:00:00+00', '05/01/22')"
   ]
  },
  {
   "cell_type": "code",
   "execution_count": 385,
   "id": "23dbcf96",
   "metadata": {},
   "outputs": [],
   "source": [
    "df['DATE_INCIDENT_BEGAN'] = df['DATE_INCIDENT_BEGAN'].replace('2022/04/31 00:00:00+00', '04/31/22')"
   ]
  },
  {
   "cell_type": "code",
   "execution_count": 386,
   "id": "1f60bf8e",
   "metadata": {},
   "outputs": [],
   "source": [
    "df['DATE_INCIDENT_BEGAN'] = df['DATE_INCIDENT_BEGAN'].replace('2022/04/30 00:00:00+00', '04/30/22')"
   ]
  },
  {
   "cell_type": "code",
   "execution_count": 387,
   "id": "46fb72fd",
   "metadata": {},
   "outputs": [],
   "source": [
    "df['DATE_INCIDENT_BEGAN'] = df['DATE_INCIDENT_BEGAN'].replace('2022/04/29 00:00:00+00', '04/29/22')"
   ]
  },
  {
   "cell_type": "code",
   "execution_count": 388,
   "id": "d79bd626",
   "metadata": {},
   "outputs": [],
   "source": [
    "df['DATE_INCIDENT_BEGAN'] = df['DATE_INCIDENT_BEGAN'].replace('2022/04/28 00:00:00+00', '04/28/22')"
   ]
  },
  {
   "cell_type": "code",
   "execution_count": 389,
   "id": "87de9cdf",
   "metadata": {},
   "outputs": [],
   "source": [
    "df['DATE_INCIDENT_BEGAN'] = df['DATE_INCIDENT_BEGAN'].replace('2022/04/27 00:00:00+00', '04/27/22')"
   ]
  },
  {
   "cell_type": "code",
   "execution_count": 390,
   "id": "65b8a0de",
   "metadata": {},
   "outputs": [],
   "source": [
    "df['DATE_INCIDENT_BEGAN'] = df['DATE_INCIDENT_BEGAN'].replace('2022/04/26 00:00:00+00', '04/26/22')"
   ]
  },
  {
   "cell_type": "code",
   "execution_count": 391,
   "id": "cbcbc794",
   "metadata": {},
   "outputs": [],
   "source": [
    "df['DATE_INCIDENT_BEGAN'] = df['DATE_INCIDENT_BEGAN'].replace('2022/04/25 00:00:00+00', '04/25/22')"
   ]
  },
  {
   "cell_type": "code",
   "execution_count": 392,
   "id": "f1b6a3cf",
   "metadata": {},
   "outputs": [],
   "source": [
    "df['DATE_INCIDENT_BEGAN'] = df['DATE_INCIDENT_BEGAN'].replace('2022/04/24 00:00:00+00', '04/24/22')"
   ]
  },
  {
   "cell_type": "code",
   "execution_count": 393,
   "id": "45f6a4aa",
   "metadata": {},
   "outputs": [],
   "source": [
    "df['DATE_INCIDENT_BEGAN'] = df['DATE_INCIDENT_BEGAN'].replace('2022/04/23 00:00:00+00', '04/23/22')"
   ]
  },
  {
   "cell_type": "code",
   "execution_count": 394,
   "id": "e3c18122",
   "metadata": {},
   "outputs": [],
   "source": [
    "df['DATE_INCIDENT_BEGAN'] = df['DATE_INCIDENT_BEGAN'].replace('2022/04/22 00:00:00+00', '04/22/22')"
   ]
  },
  {
   "cell_type": "code",
   "execution_count": 395,
   "id": "30f58a92",
   "metadata": {},
   "outputs": [],
   "source": [
    "df['DATE_INCIDENT_BEGAN'] = df['DATE_INCIDENT_BEGAN'].replace('2022/04/21 00:00:00+00', '04/21/22')"
   ]
  },
  {
   "cell_type": "code",
   "execution_count": 396,
   "id": "d207cb85",
   "metadata": {},
   "outputs": [],
   "source": [
    "df['DATE_INCIDENT_BEGAN'] = df['DATE_INCIDENT_BEGAN'].replace('2022/04/20 00:00:00+00', '04/20/22')"
   ]
  },
  {
   "cell_type": "code",
   "execution_count": 397,
   "id": "0948097a",
   "metadata": {},
   "outputs": [],
   "source": [
    "df['DATE_INCIDENT_BEGAN'] = df['DATE_INCIDENT_BEGAN'].replace('2022/04/19 00:00:00+00', '04/19/22')"
   ]
  },
  {
   "cell_type": "code",
   "execution_count": 398,
   "id": "3dfcfeef",
   "metadata": {},
   "outputs": [],
   "source": [
    "df['DATE_INCIDENT_BEGAN'] = df['DATE_INCIDENT_BEGAN'].replace('2022/04/18 00:00:00+00', '04/18/22')"
   ]
  },
  {
   "cell_type": "code",
   "execution_count": 400,
   "id": "7d9b4ea9",
   "metadata": {},
   "outputs": [],
   "source": [
    "df['DATE_INCIDENT_BEGAN'] = df['DATE_INCIDENT_BEGAN'].replace('2022/04/17 00:00:00+00', '04/17/22')"
   ]
  },
  {
   "cell_type": "code",
   "execution_count": 401,
   "id": "4dad94ac",
   "metadata": {},
   "outputs": [],
   "source": [
    "df['DATE_INCIDENT_BEGAN'] = df['DATE_INCIDENT_BEGAN'].replace('2022/04/16 00:00:00+00', '04/16/22')"
   ]
  },
  {
   "cell_type": "code",
   "execution_count": 402,
   "id": "b23fa201",
   "metadata": {},
   "outputs": [],
   "source": [
    "df['DATE_INCIDENT_BEGAN'] = df['DATE_INCIDENT_BEGAN'].replace('2022/04/15 00:00:00+00', '04/15/22')"
   ]
  },
  {
   "cell_type": "code",
   "execution_count": 403,
   "id": "49d5adf3",
   "metadata": {},
   "outputs": [],
   "source": [
    "df['DATE_INCIDENT_BEGAN'] = df['DATE_INCIDENT_BEGAN'].replace('2022/04/14 00:00:00+00', '04/14/22')"
   ]
  },
  {
   "cell_type": "code",
   "execution_count": 404,
   "id": "17656098",
   "metadata": {},
   "outputs": [],
   "source": [
    "df['DATE_INCIDENT_BEGAN'] = df['DATE_INCIDENT_BEGAN'].replace('2022/04/13 00:00:00+00', '04/13/22')"
   ]
  },
  {
   "cell_type": "code",
   "execution_count": 405,
   "id": "4634127d",
   "metadata": {},
   "outputs": [],
   "source": [
    "df['DATE_INCIDENT_BEGAN'] = df['DATE_INCIDENT_BEGAN'].replace('2022/04/12 00:00:00+00', '04/12/22')"
   ]
  },
  {
   "cell_type": "code",
   "execution_count": 406,
   "id": "d447ffb2",
   "metadata": {},
   "outputs": [],
   "source": [
    "df['DATE_INCIDENT_BEGAN'] = df['DATE_INCIDENT_BEGAN'].replace('2022/04/11 00:00:00+00', '04/11/22')"
   ]
  },
  {
   "cell_type": "code",
   "execution_count": 407,
   "id": "1e68badf",
   "metadata": {},
   "outputs": [],
   "source": [
    "df['DATE_INCIDENT_BEGAN'] = df['DATE_INCIDENT_BEGAN'].replace('2022/04/10 00:00:00+00', '04/10/22')"
   ]
  },
  {
   "cell_type": "code",
   "execution_count": 408,
   "id": "c0a509f8",
   "metadata": {},
   "outputs": [],
   "source": [
    "df['DATE_INCIDENT_BEGAN'] = df['DATE_INCIDENT_BEGAN'].replace('2022/04/09 00:00:00+00', '04/09/22')"
   ]
  },
  {
   "cell_type": "code",
   "execution_count": 409,
   "id": "767de4cc",
   "metadata": {},
   "outputs": [],
   "source": [
    "df['DATE_INCIDENT_BEGAN'] = df['DATE_INCIDENT_BEGAN'].replace('2022/04/08 00:00:00+00', '04/08/22')"
   ]
  },
  {
   "cell_type": "code",
   "execution_count": 410,
   "id": "7d745af5",
   "metadata": {},
   "outputs": [],
   "source": [
    "df['DATE_INCIDENT_BEGAN'] = df['DATE_INCIDENT_BEGAN'].replace('2022/04/07 00:00:00+00', '04/07/22')"
   ]
  },
  {
   "cell_type": "code",
   "execution_count": 411,
   "id": "4bcb3967",
   "metadata": {},
   "outputs": [],
   "source": [
    "df['DATE_INCIDENT_BEGAN'] = df['DATE_INCIDENT_BEGAN'].replace('2022/04/06 00:00:00+00', '04/06/22')"
   ]
  },
  {
   "cell_type": "code",
   "execution_count": 412,
   "id": "c140bb98",
   "metadata": {},
   "outputs": [],
   "source": [
    "df['DATE_INCIDENT_BEGAN'] = df['DATE_INCIDENT_BEGAN'].replace('2022/04/05 00:00:00+00', '04/05/22')"
   ]
  },
  {
   "cell_type": "code",
   "execution_count": 413,
   "id": "30b28a39",
   "metadata": {},
   "outputs": [],
   "source": [
    "df['DATE_INCIDENT_BEGAN'] = df['DATE_INCIDENT_BEGAN'].replace('2022/04/04 00:00:00+00', '04/04/22')"
   ]
  },
  {
   "cell_type": "code",
   "execution_count": 414,
   "id": "338cf7c8",
   "metadata": {},
   "outputs": [],
   "source": [
    "df['DATE_INCIDENT_BEGAN'] = df['DATE_INCIDENT_BEGAN'].replace('2022/04/03 00:00:00+00', '04/03/22')"
   ]
  },
  {
   "cell_type": "code",
   "execution_count": 415,
   "id": "e11a49a8",
   "metadata": {},
   "outputs": [],
   "source": [
    "df['DATE_INCIDENT_BEGAN'] = df['DATE_INCIDENT_BEGAN'].replace('2022/04/02 00:00:00+00', '04/02/22')"
   ]
  },
  {
   "cell_type": "code",
   "execution_count": 416,
   "id": "b5b5d93c",
   "metadata": {},
   "outputs": [],
   "source": [
    "df['DATE_INCIDENT_BEGAN'] = df['DATE_INCIDENT_BEGAN'].replace('2022/04/01 00:00:00+00', '04/01/22')"
   ]
  },
  {
   "cell_type": "code",
   "execution_count": 417,
   "id": "78ce5de5",
   "metadata": {},
   "outputs": [],
   "source": [
    "df['DATE_INCIDENT_BEGAN'] = df['DATE_INCIDENT_BEGAN'].replace('2022/03/31 00:00:00+00', '03/31/22')"
   ]
  },
  {
   "cell_type": "code",
   "execution_count": 418,
   "id": "40f8606e",
   "metadata": {},
   "outputs": [],
   "source": [
    "df['DATE_INCIDENT_BEGAN'] = df['DATE_INCIDENT_BEGAN'].replace('2022/03/30 00:00:00+00', '03/30/22')"
   ]
  },
  {
   "cell_type": "code",
   "execution_count": 419,
   "id": "5955b956",
   "metadata": {},
   "outputs": [],
   "source": [
    "df['DATE_INCIDENT_BEGAN'] = df['DATE_INCIDENT_BEGAN'].replace('2022/03/29 00:00:00+00', '03/29/22')"
   ]
  },
  {
   "cell_type": "code",
   "execution_count": 420,
   "id": "7d93b3fb",
   "metadata": {},
   "outputs": [],
   "source": [
    "df['DATE_INCIDENT_BEGAN'] = df['DATE_INCIDENT_BEGAN'].replace('2022/03/28 00:00:00+00', '03/28/22')"
   ]
  },
  {
   "cell_type": "code",
   "execution_count": 421,
   "id": "5ad007c5",
   "metadata": {},
   "outputs": [],
   "source": [
    "df['DATE_INCIDENT_BEGAN'] = df['DATE_INCIDENT_BEGAN'].replace('2022/03/27 00:00:00+00', '03/27/22')"
   ]
  },
  {
   "cell_type": "code",
   "execution_count": 422,
   "id": "6568cf01",
   "metadata": {},
   "outputs": [],
   "source": [
    "df['DATE_INCIDENT_BEGAN'] = df['DATE_INCIDENT_BEGAN'].replace('2022/03/26 00:00:00+00', '03/26/22')"
   ]
  },
  {
   "cell_type": "code",
   "execution_count": 423,
   "id": "18cb5756",
   "metadata": {},
   "outputs": [],
   "source": [
    "df['DATE_INCIDENT_BEGAN'] = df['DATE_INCIDENT_BEGAN'].replace('2022/03/25 00:00:00+00', '03/25/22')"
   ]
  },
  {
   "cell_type": "code",
   "execution_count": 424,
   "id": "c92136f0",
   "metadata": {},
   "outputs": [],
   "source": [
    "df['DATE_INCIDENT_BEGAN'] = df['DATE_INCIDENT_BEGAN'].replace('2022/03/24 00:00:00+00', '03/24/22')"
   ]
  },
  {
   "cell_type": "code",
   "execution_count": 425,
   "id": "381b9789",
   "metadata": {},
   "outputs": [],
   "source": [
    "df['DATE_INCIDENT_BEGAN'] = df['DATE_INCIDENT_BEGAN'].replace('2022/03/23 00:00:00+00', '03/23/22')"
   ]
  },
  {
   "cell_type": "code",
   "execution_count": 426,
   "id": "19380136",
   "metadata": {},
   "outputs": [],
   "source": [
    "df['DATE_INCIDENT_BEGAN'] = df['DATE_INCIDENT_BEGAN'].replace('2022/03/22 00:00:00+00', '03/22/22')"
   ]
  },
  {
   "cell_type": "code",
   "execution_count": 427,
   "id": "836ad07e",
   "metadata": {},
   "outputs": [],
   "source": [
    "df['DATE_INCIDENT_BEGAN'] = df['DATE_INCIDENT_BEGAN'].replace('2022/03/21 00:00:00+00', '03/21/22')"
   ]
  },
  {
   "cell_type": "code",
   "execution_count": 428,
   "id": "11179e4f",
   "metadata": {},
   "outputs": [],
   "source": [
    "df['DATE_INCIDENT_BEGAN'] = df['DATE_INCIDENT_BEGAN'].replace('2022/03/20 00:00:00+00', '03/20/22')"
   ]
  },
  {
   "cell_type": "code",
   "execution_count": 429,
   "id": "ca3ee531",
   "metadata": {},
   "outputs": [],
   "source": [
    "df['DATE_INCIDENT_BEGAN'] = df['DATE_INCIDENT_BEGAN'].replace('2022/03/19 00:00:00+00', '03/19/22')"
   ]
  },
  {
   "cell_type": "code",
   "execution_count": 430,
   "id": "1e08064a",
   "metadata": {},
   "outputs": [],
   "source": [
    "df['DATE_INCIDENT_BEGAN'] = df['DATE_INCIDENT_BEGAN'].replace('2022/03/18 00:00:00+00', '03/18/22')"
   ]
  },
  {
   "cell_type": "code",
   "execution_count": 431,
   "id": "60d806f4",
   "metadata": {},
   "outputs": [],
   "source": [
    "df['DATE_INCIDENT_BEGAN'] = df['DATE_INCIDENT_BEGAN'].replace('2022/03/17 00:00:00+00', '03/17/22')"
   ]
  },
  {
   "cell_type": "code",
   "execution_count": 432,
   "id": "0b99692a",
   "metadata": {},
   "outputs": [],
   "source": [
    "df['DATE_INCIDENT_BEGAN'] = df['DATE_INCIDENT_BEGAN'].replace('2022/03/16 00:00:00+00', '03/16/22')"
   ]
  },
  {
   "cell_type": "code",
   "execution_count": 433,
   "id": "203876cf",
   "metadata": {},
   "outputs": [],
   "source": [
    "df['DATE_INCIDENT_BEGAN'] = df['DATE_INCIDENT_BEGAN'].replace('2022/03/15 00:00:00+00', '03/15/22')"
   ]
  },
  {
   "cell_type": "code",
   "execution_count": 434,
   "id": "bdbb94ed",
   "metadata": {},
   "outputs": [],
   "source": [
    "df['DATE_INCIDENT_BEGAN'] = df['DATE_INCIDENT_BEGAN'].replace('2022/03/14 00:00:00+00', '03/14/22')"
   ]
  },
  {
   "cell_type": "code",
   "execution_count": 435,
   "id": "97fb7d6c",
   "metadata": {},
   "outputs": [],
   "source": [
    "df['DATE_INCIDENT_BEGAN'] = df['DATE_INCIDENT_BEGAN'].replace('2022/03/13 00:00:00+00', '03/13/22')"
   ]
  },
  {
   "cell_type": "code",
   "execution_count": 436,
   "id": "ac0ffd7b",
   "metadata": {},
   "outputs": [],
   "source": [
    "df['DATE_INCIDENT_BEGAN'] = df['DATE_INCIDENT_BEGAN'].replace('2022/03/12 00:00:00+00', '03/12/22')"
   ]
  },
  {
   "cell_type": "code",
   "execution_count": 437,
   "id": "b0ddeb1b",
   "metadata": {},
   "outputs": [],
   "source": [
    "df['DATE_INCIDENT_BEGAN'] = df['DATE_INCIDENT_BEGAN'].replace('2022/03/11 00:00:00+00', '03/11/22')"
   ]
  },
  {
   "cell_type": "code",
   "execution_count": 438,
   "id": "406f05d3",
   "metadata": {},
   "outputs": [],
   "source": [
    "df['DATE_INCIDENT_BEGAN'] = df['DATE_INCIDENT_BEGAN'].replace('2022/03/10 00:00:00+00', '03/10/22')"
   ]
  },
  {
   "cell_type": "code",
   "execution_count": 439,
   "id": "4a8a7930",
   "metadata": {},
   "outputs": [],
   "source": [
    "df['DATE_INCIDENT_BEGAN'] = df['DATE_INCIDENT_BEGAN'].replace('2022/03/09 00:00:00+00', '03/09/22')"
   ]
  },
  {
   "cell_type": "code",
   "execution_count": 440,
   "id": "8d5d2df6",
   "metadata": {},
   "outputs": [],
   "source": [
    "df['DATE_INCIDENT_BEGAN'] = df['DATE_INCIDENT_BEGAN'].replace('2022/03/08 00:00:00+00', '03/08/22')"
   ]
  },
  {
   "cell_type": "code",
   "execution_count": 441,
   "id": "5c3f743c",
   "metadata": {},
   "outputs": [],
   "source": [
    "df['DATE_INCIDENT_BEGAN'] = df['DATE_INCIDENT_BEGAN'].replace('2022/03/07 00:00:00+00', '03/07/22')"
   ]
  },
  {
   "cell_type": "code",
   "execution_count": 442,
   "id": "ff320332",
   "metadata": {},
   "outputs": [],
   "source": [
    "df['DATE_INCIDENT_BEGAN'] = df['DATE_INCIDENT_BEGAN'].replace('2022/03/06 00:00:00+00', '03/06/22')"
   ]
  },
  {
   "cell_type": "code",
   "execution_count": 443,
   "id": "8070a4a8",
   "metadata": {},
   "outputs": [],
   "source": [
    "df['DATE_INCIDENT_BEGAN'] = df['DATE_INCIDENT_BEGAN'].replace('2022/03/05 00:00:00+00', '03/05/22')"
   ]
  },
  {
   "cell_type": "code",
   "execution_count": 444,
   "id": "2c0fecf5",
   "metadata": {},
   "outputs": [],
   "source": [
    "df['DATE_INCIDENT_BEGAN'] = df['DATE_INCIDENT_BEGAN'].replace('2022/03/04 00:00:00+00', '03/04/22')"
   ]
  },
  {
   "cell_type": "code",
   "execution_count": 445,
   "id": "74203a82",
   "metadata": {},
   "outputs": [],
   "source": [
    "df['DATE_INCIDENT_BEGAN'] = df['DATE_INCIDENT_BEGAN'].replace('2022/03/03 00:00:00+00', '03/03/22')"
   ]
  },
  {
   "cell_type": "code",
   "execution_count": 446,
   "id": "050522e4",
   "metadata": {},
   "outputs": [],
   "source": [
    "df['DATE_INCIDENT_BEGAN'] = df['DATE_INCIDENT_BEGAN'].replace('2022/03/02 00:00:00+00', '03/02/22')"
   ]
  },
  {
   "cell_type": "code",
   "execution_count": 447,
   "id": "45ba5e88",
   "metadata": {},
   "outputs": [],
   "source": [
    "df['DATE_INCIDENT_BEGAN'] = df['DATE_INCIDENT_BEGAN'].replace('2022/03/01 00:00:00+00', '03/01/22')"
   ]
  },
  {
   "cell_type": "code",
   "execution_count": 448,
   "id": "2a59de3f",
   "metadata": {},
   "outputs": [],
   "source": [
    "df['DATE_INCIDENT_BEGAN'] = df['DATE_INCIDENT_BEGAN'].replace('2022/02/31 00:00:00+00', '02/31/22')"
   ]
  },
  {
   "cell_type": "code",
   "execution_count": 449,
   "id": "3558f8d3",
   "metadata": {},
   "outputs": [],
   "source": [
    "df['DATE_INCIDENT_BEGAN'] = df['DATE_INCIDENT_BEGAN'].replace('2022/02/30 00:00:00+00', '02/30/22')"
   ]
  },
  {
   "cell_type": "code",
   "execution_count": 450,
   "id": "5f50b164",
   "metadata": {},
   "outputs": [],
   "source": [
    "df['DATE_INCIDENT_BEGAN'] = df['DATE_INCIDENT_BEGAN'].replace('2022/02/29 00:00:00+00', '02/29/22')"
   ]
  },
  {
   "cell_type": "code",
   "execution_count": 451,
   "id": "97d1bd2c",
   "metadata": {},
   "outputs": [],
   "source": [
    "df['DATE_INCIDENT_BEGAN'] = df['DATE_INCIDENT_BEGAN'].replace('2022/02/28 00:00:00+00', '02/28/22')"
   ]
  },
  {
   "cell_type": "code",
   "execution_count": 452,
   "id": "642c09bd",
   "metadata": {},
   "outputs": [],
   "source": [
    "df['DATE_INCIDENT_BEGAN'] = df['DATE_INCIDENT_BEGAN'].replace('2022/02/27 00:00:00+00', '02/27/22')"
   ]
  },
  {
   "cell_type": "code",
   "execution_count": 453,
   "id": "4d148f4d",
   "metadata": {},
   "outputs": [],
   "source": [
    "df['DATE_INCIDENT_BEGAN'] = df['DATE_INCIDENT_BEGAN'].replace('2022/02/26 00:00:00+00', '02/26/22')"
   ]
  },
  {
   "cell_type": "code",
   "execution_count": 454,
   "id": "e51cb988",
   "metadata": {},
   "outputs": [],
   "source": [
    "df['DATE_INCIDENT_BEGAN'] = df['DATE_INCIDENT_BEGAN'].replace('2022/02/25 00:00:00+00', '02/25/22')"
   ]
  },
  {
   "cell_type": "code",
   "execution_count": 455,
   "id": "0ed8782b",
   "metadata": {},
   "outputs": [],
   "source": [
    "df['DATE_INCIDENT_BEGAN'] = df['DATE_INCIDENT_BEGAN'].replace('2022/02/24 00:00:00+00', '02/24/22')"
   ]
  },
  {
   "cell_type": "code",
   "execution_count": 456,
   "id": "7f761333",
   "metadata": {},
   "outputs": [],
   "source": [
    "df['DATE_INCIDENT_BEGAN'] = df['DATE_INCIDENT_BEGAN'].replace('2022/02/23 00:00:00+00', '02/23/22')"
   ]
  },
  {
   "cell_type": "code",
   "execution_count": 457,
   "id": "3ed06a71",
   "metadata": {},
   "outputs": [],
   "source": [
    "df['DATE_INCIDENT_BEGAN'] = df['DATE_INCIDENT_BEGAN'].replace('2022/02/22 00:00:00+00', '02/22/22')"
   ]
  },
  {
   "cell_type": "code",
   "execution_count": 458,
   "id": "bf43ae77",
   "metadata": {},
   "outputs": [],
   "source": [
    "df['DATE_INCIDENT_BEGAN'] = df['DATE_INCIDENT_BEGAN'].replace('2022/02/21 00:00:00+00', '02/21/22')"
   ]
  },
  {
   "cell_type": "code",
   "execution_count": 459,
   "id": "1c372e1a",
   "metadata": {},
   "outputs": [],
   "source": [
    "df['DATE_INCIDENT_BEGAN'] = df['DATE_INCIDENT_BEGAN'].replace('2022/02/20 00:00:00+00', '02/20/22')"
   ]
  },
  {
   "cell_type": "code",
   "execution_count": 460,
   "id": "a47e3508",
   "metadata": {},
   "outputs": [],
   "source": [
    "df['DATE_INCIDENT_BEGAN'] = df['DATE_INCIDENT_BEGAN'].replace('2022/02/19 00:00:00+00', '02/19/22')"
   ]
  },
  {
   "cell_type": "code",
   "execution_count": 461,
   "id": "f45389c6",
   "metadata": {},
   "outputs": [],
   "source": [
    "df['DATE_INCIDENT_BEGAN'] = df['DATE_INCIDENT_BEGAN'].replace('2022/02/18 00:00:00+00', '02/18/22')"
   ]
  },
  {
   "cell_type": "code",
   "execution_count": 462,
   "id": "072781a1",
   "metadata": {},
   "outputs": [],
   "source": [
    "df['DATE_INCIDENT_BEGAN'] = df['DATE_INCIDENT_BEGAN'].replace('2022/02/17 00:00:00+00', '02/17/22')"
   ]
  },
  {
   "cell_type": "code",
   "execution_count": 463,
   "id": "ff6f9c0e",
   "metadata": {},
   "outputs": [],
   "source": [
    "df['DATE_INCIDENT_BEGAN'] = df['DATE_INCIDENT_BEGAN'].replace('2022/02/16 00:00:00+00', '02/16/22')"
   ]
  },
  {
   "cell_type": "code",
   "execution_count": 464,
   "id": "888462dc",
   "metadata": {},
   "outputs": [],
   "source": [
    "df['DATE_INCIDENT_BEGAN'] = df['DATE_INCIDENT_BEGAN'].replace('2022/02/15 00:00:00+00', '02/15/22')"
   ]
  },
  {
   "cell_type": "code",
   "execution_count": 466,
   "id": "850bec2f",
   "metadata": {},
   "outputs": [],
   "source": [
    "df['DATE_INCIDENT_BEGAN'] = df['DATE_INCIDENT_BEGAN'].replace('2022/02/14 00:00:00+00', '02/14/22')"
   ]
  },
  {
   "cell_type": "markdown",
   "id": "5408a378",
   "metadata": {},
   "source": [
    "df['DATE_INCIDENT_BEGAN'] = df['DATE_INCIDENT_BEGAN'].replace('2022/02/13 00:00:00+00', '02/13/22')"
   ]
  },
  {
   "cell_type": "code",
   "execution_count": null,
   "id": "22b97624",
   "metadata": {},
   "outputs": [],
   "source": []
  },
  {
   "cell_type": "code",
   "execution_count": 467,
   "id": "c44ac707",
   "metadata": {},
   "outputs": [],
   "source": [
    "df['DATE_INCIDENT_BEGAN'] = df['DATE_INCIDENT_BEGAN'].replace('2022/02/13 00:00:00+00', '02/13/22')"
   ]
  },
  {
   "cell_type": "code",
   "execution_count": 468,
   "id": "c1ad29f0",
   "metadata": {},
   "outputs": [],
   "source": [
    "df['DATE_INCIDENT_BEGAN'] = df['DATE_INCIDENT_BEGAN'].replace('2022/02/12 00:00:00+00', '02/12/22')"
   ]
  },
  {
   "cell_type": "code",
   "execution_count": 469,
   "id": "68e7f9a4",
   "metadata": {},
   "outputs": [],
   "source": [
    "df['DATE_INCIDENT_BEGAN'] = df['DATE_INCIDENT_BEGAN'].replace('2022/02/11 00:00:00+00', '02/11/22')"
   ]
  },
  {
   "cell_type": "code",
   "execution_count": 470,
   "id": "42b05ca9",
   "metadata": {},
   "outputs": [],
   "source": [
    "df['DATE_INCIDENT_BEGAN'] = df['DATE_INCIDENT_BEGAN'].replace('2022/02/10 00:00:00+00', '02/10/22')"
   ]
  },
  {
   "cell_type": "code",
   "execution_count": 471,
   "id": "27d8808f",
   "metadata": {},
   "outputs": [],
   "source": [
    "df['DATE_INCIDENT_BEGAN'] = df['DATE_INCIDENT_BEGAN'].replace('2022/02/09 00:00:00+00', '02/09/22')"
   ]
  },
  {
   "cell_type": "code",
   "execution_count": 472,
   "id": "60dcb293",
   "metadata": {},
   "outputs": [],
   "source": [
    "df['DATE_INCIDENT_BEGAN'] = df['DATE_INCIDENT_BEGAN'].replace('2022/02/08 00:00:00+00', '02/08/22')"
   ]
  },
  {
   "cell_type": "code",
   "execution_count": 473,
   "id": "7e7e793c",
   "metadata": {},
   "outputs": [],
   "source": [
    "df['DATE_INCIDENT_BEGAN'] = df['DATE_INCIDENT_BEGAN'].replace('2022/02/07 00:00:00+00', '02/07/22')"
   ]
  },
  {
   "cell_type": "code",
   "execution_count": 474,
   "id": "cdcb18c4",
   "metadata": {},
   "outputs": [],
   "source": [
    "df['DATE_INCIDENT_BEGAN'] = df['DATE_INCIDENT_BEGAN'].replace('2022/02/06 00:00:00+00', '02/06/22')"
   ]
  },
  {
   "cell_type": "code",
   "execution_count": 475,
   "id": "7cd5d610",
   "metadata": {},
   "outputs": [],
   "source": [
    "df['DATE_INCIDENT_BEGAN'] = df['DATE_INCIDENT_BEGAN'].replace('2022/02/05 00:00:00+00', '02/05/22')"
   ]
  },
  {
   "cell_type": "code",
   "execution_count": 476,
   "id": "db01c9fd",
   "metadata": {},
   "outputs": [],
   "source": [
    "df['DATE_INCIDENT_BEGAN'] = df['DATE_INCIDENT_BEGAN'].replace('2022/02/04 00:00:00+00', '02/04/22')"
   ]
  },
  {
   "cell_type": "code",
   "execution_count": 478,
   "id": "eafc0966",
   "metadata": {},
   "outputs": [],
   "source": [
    "df['DATE_INCIDENT_BEGAN'] = df['DATE_INCIDENT_BEGAN'].replace('2022/02/03 00:00:00+00', '02/03/22')"
   ]
  },
  {
   "cell_type": "code",
   "execution_count": 479,
   "id": "0542c985",
   "metadata": {},
   "outputs": [],
   "source": [
    "df['DATE_INCIDENT_BEGAN'] = df['DATE_INCIDENT_BEGAN'].replace('2022/02/02 00:00:00+00', '02/02/22')"
   ]
  },
  {
   "cell_type": "code",
   "execution_count": 480,
   "id": "7d871b34",
   "metadata": {},
   "outputs": [],
   "source": [
    "df['DATE_INCIDENT_BEGAN'] = df['DATE_INCIDENT_BEGAN'].replace('2022/02/01 00:00:00+00', '02/01/22')"
   ]
  },
  {
   "cell_type": "code",
   "execution_count": 481,
   "id": "22f71ff1",
   "metadata": {},
   "outputs": [],
   "source": [
    "df['DATE_INCIDENT_BEGAN'] = df['DATE_INCIDENT_BEGAN'].replace('2022/01/31 00:00:00+00', '01/31/22')"
   ]
  },
  {
   "cell_type": "code",
   "execution_count": 482,
   "id": "126fb866",
   "metadata": {},
   "outputs": [],
   "source": [
    "df['DATE_INCIDENT_BEGAN'] = df['DATE_INCIDENT_BEGAN'].replace('2022/01/30 00:00:00+00', '01/30/22')"
   ]
  },
  {
   "cell_type": "code",
   "execution_count": 483,
   "id": "b6bcbb8e",
   "metadata": {},
   "outputs": [],
   "source": [
    "df['DATE_INCIDENT_BEGAN'] = df['DATE_INCIDENT_BEGAN'].replace('2022/01/29 00:00:00+00', '01/29/22')"
   ]
  },
  {
   "cell_type": "code",
   "execution_count": 484,
   "id": "69e0fa7e",
   "metadata": {},
   "outputs": [],
   "source": [
    "df['DATE_INCIDENT_BEGAN'] = df['DATE_INCIDENT_BEGAN'].replace('2022/01/28 00:00:00+00', '01/28/22')"
   ]
  },
  {
   "cell_type": "code",
   "execution_count": 485,
   "id": "384767d9",
   "metadata": {},
   "outputs": [],
   "source": [
    "df['DATE_INCIDENT_BEGAN'] = df['DATE_INCIDENT_BEGAN'].replace('2022/01/27 00:00:00+00', '01/27/22')"
   ]
  },
  {
   "cell_type": "code",
   "execution_count": 486,
   "id": "6e22b34f",
   "metadata": {},
   "outputs": [],
   "source": [
    "df['DATE_INCIDENT_BEGAN'] = df['DATE_INCIDENT_BEGAN'].replace('2022/01/26 00:00:00+00', '01/26/22')"
   ]
  },
  {
   "cell_type": "code",
   "execution_count": 487,
   "id": "6da1f363",
   "metadata": {},
   "outputs": [],
   "source": [
    "df['DATE_INCIDENT_BEGAN'] = df['DATE_INCIDENT_BEGAN'].replace('2022/01/25 00:00:00+00', '01/25/22')"
   ]
  },
  {
   "cell_type": "code",
   "execution_count": 488,
   "id": "acf366ad",
   "metadata": {},
   "outputs": [],
   "source": [
    "df['DATE_INCIDENT_BEGAN'] = df['DATE_INCIDENT_BEGAN'].replace('2022/01/24 00:00:00+00', '01/24/22')"
   ]
  },
  {
   "cell_type": "code",
   "execution_count": 490,
   "id": "63a69b56",
   "metadata": {},
   "outputs": [],
   "source": [
    "df['DATE_INCIDENT_BEGAN'] = df['DATE_INCIDENT_BEGAN'].replace('2022/01/23 00:00:00+00', '01/23/22')"
   ]
  },
  {
   "cell_type": "code",
   "execution_count": 491,
   "id": "8e752658",
   "metadata": {},
   "outputs": [],
   "source": [
    "df['DATE_INCIDENT_BEGAN'] = df['DATE_INCIDENT_BEGAN'].replace('2022/01/22 00:00:00+00', '01/22/22')"
   ]
  },
  {
   "cell_type": "code",
   "execution_count": 492,
   "id": "03b6f20c",
   "metadata": {},
   "outputs": [],
   "source": [
    "df['DATE_INCIDENT_BEGAN'] = df['DATE_INCIDENT_BEGAN'].replace('2022/01/21 00:00:00+00', '01/21/22')"
   ]
  },
  {
   "cell_type": "code",
   "execution_count": 493,
   "id": "08f273b2",
   "metadata": {},
   "outputs": [],
   "source": [
    "df['DATE_INCIDENT_BEGAN'] = df['DATE_INCIDENT_BEGAN'].replace('2022/01/20 00:00:00+00', '01/20/22')"
   ]
  },
  {
   "cell_type": "code",
   "execution_count": 494,
   "id": "21f4b235",
   "metadata": {},
   "outputs": [],
   "source": [
    "df['DATE_INCIDENT_BEGAN'] = df['DATE_INCIDENT_BEGAN'].replace('2022/01/19 00:00:00+00', '01/19/22')"
   ]
  },
  {
   "cell_type": "code",
   "execution_count": 495,
   "id": "650d656d",
   "metadata": {},
   "outputs": [],
   "source": [
    "df['DATE_INCIDENT_BEGAN'] = df['DATE_INCIDENT_BEGAN'].replace('2022/01/18 00:00:00+00', '01/18/22')"
   ]
  },
  {
   "cell_type": "code",
   "execution_count": 496,
   "id": "b2640b1d",
   "metadata": {},
   "outputs": [],
   "source": [
    "df['DATE_INCIDENT_BEGAN'] = df['DATE_INCIDENT_BEGAN'].replace('2022/01/17 00:00:00+00', '01/17/22')"
   ]
  },
  {
   "cell_type": "code",
   "execution_count": 497,
   "id": "8d9d5b90",
   "metadata": {},
   "outputs": [],
   "source": [
    "df['DATE_INCIDENT_BEGAN'] = df['DATE_INCIDENT_BEGAN'].replace('2022/01/16 00:00:00+00', '01/16/22')"
   ]
  },
  {
   "cell_type": "code",
   "execution_count": 498,
   "id": "19415824",
   "metadata": {},
   "outputs": [],
   "source": [
    "df['DATE_INCIDENT_BEGAN'] = df['DATE_INCIDENT_BEGAN'].replace('2022/01/15 00:00:00+00', '01/15/22')"
   ]
  },
  {
   "cell_type": "code",
   "execution_count": 499,
   "id": "fbbba0d3",
   "metadata": {},
   "outputs": [],
   "source": [
    "df['DATE_INCIDENT_BEGAN'] = df['DATE_INCIDENT_BEGAN'].replace('2022/01/14 00:00:00+00', '01/14/22')"
   ]
  },
  {
   "cell_type": "code",
   "execution_count": 500,
   "id": "5ebd12b5",
   "metadata": {},
   "outputs": [],
   "source": [
    "df['DATE_INCIDENT_BEGAN'] = df['DATE_INCIDENT_BEGAN'].replace('2022/01/13 00:00:00+00', '01/13/22')"
   ]
  },
  {
   "cell_type": "code",
   "execution_count": 501,
   "id": "8ddfe999",
   "metadata": {},
   "outputs": [],
   "source": [
    "df['DATE_INCIDENT_BEGAN'] = df['DATE_INCIDENT_BEGAN'].replace('2022/01/12 00:00:00+00', '01/12/22')"
   ]
  },
  {
   "cell_type": "code",
   "execution_count": 502,
   "id": "19607bd8",
   "metadata": {},
   "outputs": [],
   "source": [
    "df['DATE_INCIDENT_BEGAN'] = df['DATE_INCIDENT_BEGAN'].replace('2022/01/11 00:00:00+00', '01/11/22')"
   ]
  },
  {
   "cell_type": "code",
   "execution_count": 503,
   "id": "e26b98cc",
   "metadata": {},
   "outputs": [],
   "source": [
    "df['DATE_INCIDENT_BEGAN'] = df['DATE_INCIDENT_BEGAN'].replace('2022/01/10 00:00:00+00', '01/10/22')"
   ]
  },
  {
   "cell_type": "code",
   "execution_count": 504,
   "id": "37b1853b",
   "metadata": {},
   "outputs": [],
   "source": [
    "df['DATE_INCIDENT_BEGAN'] = df['DATE_INCIDENT_BEGAN'].replace('2022/01/09 00:00:00+00', '01/09/22')"
   ]
  },
  {
   "cell_type": "code",
   "execution_count": 505,
   "id": "a10cdf5c",
   "metadata": {},
   "outputs": [],
   "source": [
    "df['DATE_INCIDENT_BEGAN'] = df['DATE_INCIDENT_BEGAN'].replace('2022/01/08 00:00:00+00', '01/08/22')"
   ]
  },
  {
   "cell_type": "code",
   "execution_count": 506,
   "id": "88e6feb3",
   "metadata": {},
   "outputs": [],
   "source": [
    "df['DATE_INCIDENT_BEGAN'] = df['DATE_INCIDENT_BEGAN'].replace('2022/01/07 00:00:00+00', '01/07/22')"
   ]
  },
  {
   "cell_type": "code",
   "execution_count": 507,
   "id": "6269b2cb",
   "metadata": {},
   "outputs": [],
   "source": [
    "df['DATE_INCIDENT_BEGAN'] = df['DATE_INCIDENT_BEGAN'].replace('2022/01/06 00:00:00+00', '01/06/22')"
   ]
  },
  {
   "cell_type": "code",
   "execution_count": 508,
   "id": "be2f6e08",
   "metadata": {},
   "outputs": [],
   "source": [
    "df['DATE_INCIDENT_BEGAN'] = df['DATE_INCIDENT_BEGAN'].replace('2022/01/05 00:00:00+00', '01/05/22')"
   ]
  },
  {
   "cell_type": "code",
   "execution_count": 509,
   "id": "b5fddab9",
   "metadata": {},
   "outputs": [],
   "source": [
    "df['DATE_INCIDENT_BEGAN'] = df['DATE_INCIDENT_BEGAN'].replace('2022/01/04 00:00:00+00', '01/04/22')"
   ]
  },
  {
   "cell_type": "code",
   "execution_count": 510,
   "id": "0d37662c",
   "metadata": {},
   "outputs": [],
   "source": [
    "df['DATE_INCIDENT_BEGAN'] = df['DATE_INCIDENT_BEGAN'].replace('2022/01/03 00:00:00+00', '01/03/22')"
   ]
  },
  {
   "cell_type": "code",
   "execution_count": 511,
   "id": "8ee648fd",
   "metadata": {},
   "outputs": [],
   "source": [
    "df['DATE_INCIDENT_BEGAN'] = df['DATE_INCIDENT_BEGAN'].replace('2022/01/02 00:00:00+00', '01/02/22')"
   ]
  },
  {
   "cell_type": "code",
   "execution_count": 512,
   "id": "97bd34e8",
   "metadata": {},
   "outputs": [],
   "source": [
    "df['DATE_INCIDENT_BEGAN'] = df['DATE_INCIDENT_BEGAN'].replace('2022/01/01 00:00:00+00', '01/01/22')"
   ]
  },
  {
   "cell_type": "code",
   "execution_count": 513,
   "id": "47b8980e",
   "metadata": {},
   "outputs": [],
   "source": [
    "df['DATE_INCIDENT_BEGAN'] = df['DATE_INCIDENT_BEGAN'].replace('2021/12/31 00:00:00+00', '12/31/21')"
   ]
  },
  {
   "cell_type": "code",
   "execution_count": 514,
   "id": "e96981bd",
   "metadata": {},
   "outputs": [],
   "source": [
    "df['DATE_INCIDENT_BEGAN'] = df['DATE_INCIDENT_BEGAN'].replace('2021/12/30 00:00:00+00', '12/30/21')"
   ]
  },
  {
   "cell_type": "code",
   "execution_count": 515,
   "id": "4ecae2c0",
   "metadata": {},
   "outputs": [],
   "source": [
    "df['DATE_INCIDENT_BEGAN'] = df['DATE_INCIDENT_BEGAN'].replace('2021/12/29 00:00:00+00', '12/29/21')"
   ]
  },
  {
   "cell_type": "code",
   "execution_count": 516,
   "id": "a11de27f",
   "metadata": {},
   "outputs": [],
   "source": [
    "df['DATE_INCIDENT_BEGAN'] = df['DATE_INCIDENT_BEGAN'].replace('2021/12/28 00:00:00+00', '12/28/21')"
   ]
  },
  {
   "cell_type": "code",
   "execution_count": 517,
   "id": "544c30d2",
   "metadata": {},
   "outputs": [],
   "source": [
    "df['DATE_INCIDENT_BEGAN'] = df['DATE_INCIDENT_BEGAN'].replace('2021/12/27 00:00:00+00', '12/27/21')"
   ]
  },
  {
   "cell_type": "code",
   "execution_count": 518,
   "id": "7a285edc",
   "metadata": {},
   "outputs": [],
   "source": [
    "df['DATE_INCIDENT_BEGAN'] = df['DATE_INCIDENT_BEGAN'].replace('2021/12/26 00:00:00+00', '12/26/21')"
   ]
  },
  {
   "cell_type": "code",
   "execution_count": 519,
   "id": "280c26b0",
   "metadata": {},
   "outputs": [],
   "source": [
    "df['DATE_INCIDENT_BEGAN'] = df['DATE_INCIDENT_BEGAN'].replace('2021/12/25 00:00:00+00', '12/25/21')"
   ]
  },
  {
   "cell_type": "code",
   "execution_count": 520,
   "id": "7340afc5",
   "metadata": {},
   "outputs": [],
   "source": [
    "df['DATE_INCIDENT_BEGAN'] = df['DATE_INCIDENT_BEGAN'].replace('2021/12/24 00:00:00+00', '12/24/21')"
   ]
  },
  {
   "cell_type": "code",
   "execution_count": 521,
   "id": "87658703",
   "metadata": {},
   "outputs": [],
   "source": [
    "df['DATE_INCIDENT_BEGAN'] = df['DATE_INCIDENT_BEGAN'].replace('2021/12/23 00:00:00+00', '12/23/21')"
   ]
  },
  {
   "cell_type": "code",
   "execution_count": 522,
   "id": "a0b0edb4",
   "metadata": {},
   "outputs": [],
   "source": [
    "df['DATE_INCIDENT_BEGAN'] = df['DATE_INCIDENT_BEGAN'].replace('2021/12/22 00:00:00+00', '12/22/21')"
   ]
  },
  {
   "cell_type": "code",
   "execution_count": 523,
   "id": "7ee3feb6",
   "metadata": {},
   "outputs": [],
   "source": [
    "df['DATE_INCIDENT_BEGAN'] = df['DATE_INCIDENT_BEGAN'].replace('2021/12/21 00:00:00+00', '12/21/21')"
   ]
  },
  {
   "cell_type": "code",
   "execution_count": 524,
   "id": "8579b41a",
   "metadata": {},
   "outputs": [],
   "source": [
    "df['DATE_INCIDENT_BEGAN'] = df['DATE_INCIDENT_BEGAN'].replace('2021/12/20 00:00:00+00', '12/20/21')"
   ]
  },
  {
   "cell_type": "code",
   "execution_count": 525,
   "id": "7a8f5ab7",
   "metadata": {},
   "outputs": [],
   "source": [
    "df['DATE_INCIDENT_BEGAN'] = df['DATE_INCIDENT_BEGAN'].replace('2021/12/19 00:00:00+00', '12/19/21')"
   ]
  },
  {
   "cell_type": "code",
   "execution_count": 526,
   "id": "087807fd",
   "metadata": {},
   "outputs": [],
   "source": [
    "df['DATE_INCIDENT_BEGAN'] = df['DATE_INCIDENT_BEGAN'].replace('2021/12/18 00:00:00+00', '12/18/21')"
   ]
  },
  {
   "cell_type": "code",
   "execution_count": 528,
   "id": "281d4696",
   "metadata": {},
   "outputs": [],
   "source": [
    "df['DATE_INCIDENT_BEGAN'] = df['DATE_INCIDENT_BEGAN'].replace('12/19/21 00:00:00+00', '12/17/21')"
   ]
  },
  {
   "cell_type": "code",
   "execution_count": 529,
   "id": "a652d6d5",
   "metadata": {},
   "outputs": [],
   "source": [
    "df['DATE_INCIDENT_BEGAN'] = df['DATE_INCIDENT_BEGAN'].replace('2021/12/16 00:00:00+00', '12/16/21')"
   ]
  },
  {
   "cell_type": "code",
   "execution_count": 530,
   "id": "93e6a334",
   "metadata": {},
   "outputs": [],
   "source": [
    "df['DATE_INCIDENT_BEGAN'] = df['DATE_INCIDENT_BEGAN'].replace('2021/12/15 00:00:00+00', '12/15/21')"
   ]
  },
  {
   "cell_type": "code",
   "execution_count": 531,
   "id": "c3ed11ef",
   "metadata": {},
   "outputs": [],
   "source": [
    "df['DATE_INCIDENT_BEGAN'] = df['DATE_INCIDENT_BEGAN'].replace('2021/12/14 00:00:00+00', '12/14/21')"
   ]
  },
  {
   "cell_type": "code",
   "execution_count": 532,
   "id": "52bd371c",
   "metadata": {},
   "outputs": [],
   "source": [
    "df['DATE_INCIDENT_BEGAN'] = df['DATE_INCIDENT_BEGAN'].replace('2021/12/13 00:00:00+00', '12/13/21')"
   ]
  },
  {
   "cell_type": "code",
   "execution_count": 533,
   "id": "0e06bc40",
   "metadata": {},
   "outputs": [],
   "source": [
    "df['DATE_INCIDENT_BEGAN'] = df['DATE_INCIDENT_BEGAN'].replace('2021/12/12 00:00:00+00', '12/12/21')"
   ]
  },
  {
   "cell_type": "code",
   "execution_count": 534,
   "id": "9cd57e63",
   "metadata": {},
   "outputs": [],
   "source": [
    "df['DATE_INCIDENT_BEGAN'] = df['DATE_INCIDENT_BEGAN'].replace('2021/12/11 00:00:00+00', '12/11/21')"
   ]
  },
  {
   "cell_type": "code",
   "execution_count": 535,
   "id": "8e58bc3b",
   "metadata": {},
   "outputs": [],
   "source": [
    "df['DATE_INCIDENT_BEGAN'] = df['DATE_INCIDENT_BEGAN'].replace('2021/12/10 00:00:00+00', '12/10/21')"
   ]
  },
  {
   "cell_type": "code",
   "execution_count": 536,
   "id": "ae3d4cfd",
   "metadata": {},
   "outputs": [],
   "source": [
    "df['DATE_INCIDENT_BEGAN'] = df['DATE_INCIDENT_BEGAN'].replace('2021/12/09 00:00:00+00', '12/09/21')"
   ]
  },
  {
   "cell_type": "code",
   "execution_count": 537,
   "id": "11f6f2f3",
   "metadata": {},
   "outputs": [],
   "source": [
    "df['DATE_INCIDENT_BEGAN'] = df['DATE_INCIDENT_BEGAN'].replace('2021/12/08 00:00:00+00', '12/08/21')"
   ]
  },
  {
   "cell_type": "code",
   "execution_count": 538,
   "id": "bc0dc107",
   "metadata": {},
   "outputs": [],
   "source": [
    "df['DATE_INCIDENT_BEGAN'] = df['DATE_INCIDENT_BEGAN'].replace('2021/12/07 00:00:00+00', '12/07/21')"
   ]
  },
  {
   "cell_type": "code",
   "execution_count": 539,
   "id": "7e7dd356",
   "metadata": {},
   "outputs": [],
   "source": [
    "df['DATE_INCIDENT_BEGAN'] = df['DATE_INCIDENT_BEGAN'].replace('2021/12/06 00:00:00+00', '12/06/21')"
   ]
  },
  {
   "cell_type": "code",
   "execution_count": 540,
   "id": "16421a0a",
   "metadata": {},
   "outputs": [],
   "source": [
    "df['DATE_INCIDENT_BEGAN'] = df['DATE_INCIDENT_BEGAN'].replace('2021/12/05 00:00:00+00', '12/05/21')"
   ]
  },
  {
   "cell_type": "code",
   "execution_count": 541,
   "id": "182aa4fc",
   "metadata": {},
   "outputs": [],
   "source": [
    "df['DATE_INCIDENT_BEGAN'] = df['DATE_INCIDENT_BEGAN'].replace('2021/12/04 00:00:00+00', '12/04/21')"
   ]
  },
  {
   "cell_type": "code",
   "execution_count": 542,
   "id": "0263c9be",
   "metadata": {},
   "outputs": [],
   "source": [
    "df['DATE_INCIDENT_BEGAN'] = df['DATE_INCIDENT_BEGAN'].replace('2021/12/03 00:00:00+00', '12/03/21')"
   ]
  },
  {
   "cell_type": "code",
   "execution_count": 543,
   "id": "53897c9d",
   "metadata": {},
   "outputs": [],
   "source": [
    "df['DATE_INCIDENT_BEGAN'] = df['DATE_INCIDENT_BEGAN'].replace('2021/12/02 00:00:00+00', '12/02/21')"
   ]
  },
  {
   "cell_type": "code",
   "execution_count": 544,
   "id": "6ea1344e",
   "metadata": {},
   "outputs": [],
   "source": [
    "df['DATE_INCIDENT_BEGAN'] = df['DATE_INCIDENT_BEGAN'].replace('2021/12/01 00:00:00+00', '12/01/21')"
   ]
  },
  {
   "cell_type": "code",
   "execution_count": 545,
   "id": "debd76e3",
   "metadata": {},
   "outputs": [],
   "source": [
    "df['DATE_INCIDENT_BEGAN'] = df['DATE_INCIDENT_BEGAN'].replace('2021/11/31 00:00:00+00', '11/31/21')"
   ]
  },
  {
   "cell_type": "code",
   "execution_count": 546,
   "id": "d48dea47",
   "metadata": {},
   "outputs": [],
   "source": [
    "df['DATE_INCIDENT_BEGAN'] = df['DATE_INCIDENT_BEGAN'].replace('2021/11/30 00:00:00+00', '11/30/21')"
   ]
  },
  {
   "cell_type": "code",
   "execution_count": 547,
   "id": "eacc8ffd",
   "metadata": {},
   "outputs": [],
   "source": [
    "df['DATE_INCIDENT_BEGAN'] = df['DATE_INCIDENT_BEGAN'].replace('2021/11/29 00:00:00+00', '11/29/21')"
   ]
  },
  {
   "cell_type": "code",
   "execution_count": 548,
   "id": "947d9962",
   "metadata": {},
   "outputs": [],
   "source": [
    "df['DATE_INCIDENT_BEGAN'] = df['DATE_INCIDENT_BEGAN'].replace('2021/11/28 00:00:00+00', '11/28/21')"
   ]
  },
  {
   "cell_type": "code",
   "execution_count": 549,
   "id": "c964860e",
   "metadata": {},
   "outputs": [],
   "source": [
    "df['DATE_INCIDENT_BEGAN'] = df['DATE_INCIDENT_BEGAN'].replace('2021/11/27 00:00:00+00', '11/27/21')"
   ]
  },
  {
   "cell_type": "code",
   "execution_count": 550,
   "id": "40e98bbe",
   "metadata": {},
   "outputs": [],
   "source": [
    "df['DATE_INCIDENT_BEGAN'] = df['DATE_INCIDENT_BEGAN'].replace('2021/11/26 00:00:00+00', '11/26/21')"
   ]
  },
  {
   "cell_type": "code",
   "execution_count": 551,
   "id": "455a0b90",
   "metadata": {},
   "outputs": [],
   "source": [
    "df['DATE_INCIDENT_BEGAN'] = df['DATE_INCIDENT_BEGAN'].replace('2021/11/25 00:00:00+00', '11/25/21')"
   ]
  },
  {
   "cell_type": "code",
   "execution_count": 552,
   "id": "ac0b632a",
   "metadata": {},
   "outputs": [],
   "source": [
    "df['DATE_INCIDENT_BEGAN'] = df['DATE_INCIDENT_BEGAN'].replace('2021/11/24 00:00:00+00', '11/24/21')"
   ]
  },
  {
   "cell_type": "code",
   "execution_count": 553,
   "id": "046e89df",
   "metadata": {},
   "outputs": [],
   "source": [
    "df['DATE_INCIDENT_BEGAN'] = df['DATE_INCIDENT_BEGAN'].replace('2021/11/23 00:00:00+00', '11/23/21')"
   ]
  },
  {
   "cell_type": "code",
   "execution_count": 554,
   "id": "f6ff88cc",
   "metadata": {},
   "outputs": [],
   "source": [
    "df['DATE_INCIDENT_BEGAN'] = df['DATE_INCIDENT_BEGAN'].replace('2021/11/22 00:00:00+00', '11/22/21')"
   ]
  },
  {
   "cell_type": "code",
   "execution_count": 555,
   "id": "8f02bc81",
   "metadata": {},
   "outputs": [],
   "source": [
    "df['DATE_INCIDENT_BEGAN'] = df['DATE_INCIDENT_BEGAN'].replace('2021/11/21 00:00:00+00', '11/21/21')"
   ]
  },
  {
   "cell_type": "code",
   "execution_count": 556,
   "id": "e12c90bf",
   "metadata": {},
   "outputs": [],
   "source": [
    "df['DATE_INCIDENT_BEGAN'] = df['DATE_INCIDENT_BEGAN'].replace('2021/11/20 00:00:00+00', '11/20/21')"
   ]
  },
  {
   "cell_type": "code",
   "execution_count": 557,
   "id": "31a95143",
   "metadata": {},
   "outputs": [],
   "source": [
    "df['DATE_INCIDENT_BEGAN'] = df['DATE_INCIDENT_BEGAN'].replace('2021/11/19 00:00:00+00', '11/19/21')"
   ]
  },
  {
   "cell_type": "code",
   "execution_count": 558,
   "id": "93df3651",
   "metadata": {},
   "outputs": [],
   "source": [
    "df['DATE_INCIDENT_BEGAN'] = df['DATE_INCIDENT_BEGAN'].replace('2021/11/18 00:00:00+00', '11/18/21')"
   ]
  },
  {
   "cell_type": "code",
   "execution_count": 559,
   "id": "aff14a54",
   "metadata": {},
   "outputs": [],
   "source": [
    "df['DATE_INCIDENT_BEGAN'] = df['DATE_INCIDENT_BEGAN'].replace('2021/11/17 00:00:00+00', '11/17/21')"
   ]
  },
  {
   "cell_type": "code",
   "execution_count": 560,
   "id": "d6ae1956",
   "metadata": {},
   "outputs": [],
   "source": [
    "df['DATE_INCIDENT_BEGAN'] = df['DATE_INCIDENT_BEGAN'].replace('2021/11/16 00:00:00+00', '11/16/21')"
   ]
  },
  {
   "cell_type": "code",
   "execution_count": 561,
   "id": "b40f29a9",
   "metadata": {},
   "outputs": [],
   "source": [
    "df['DATE_INCIDENT_BEGAN'] = df['DATE_INCIDENT_BEGAN'].replace('2021/11/15 00:00:00+00', '11/15/21')"
   ]
  },
  {
   "cell_type": "code",
   "execution_count": 562,
   "id": "b332c854",
   "metadata": {},
   "outputs": [],
   "source": [
    "df['DATE_INCIDENT_BEGAN'] = df['DATE_INCIDENT_BEGAN'].replace('2021/11/14 00:00:00+00', '11/14/21')"
   ]
  },
  {
   "cell_type": "code",
   "execution_count": 563,
   "id": "ff09925b",
   "metadata": {},
   "outputs": [],
   "source": [
    "df['DATE_INCIDENT_BEGAN'] = df['DATE_INCIDENT_BEGAN'].replace('2021/11/13 00:00:00+00', '11/13/21')"
   ]
  },
  {
   "cell_type": "code",
   "execution_count": 564,
   "id": "ca48351e",
   "metadata": {},
   "outputs": [],
   "source": [
    "df['DATE_INCIDENT_BEGAN'] = df['DATE_INCIDENT_BEGAN'].replace('2021/11/12 00:00:00+00', '11/12/21')"
   ]
  },
  {
   "cell_type": "code",
   "execution_count": 565,
   "id": "5a9c1d77",
   "metadata": {},
   "outputs": [],
   "source": [
    "df['DATE_INCIDENT_BEGAN'] = df['DATE_INCIDENT_BEGAN'].replace('2021/11/11 00:00:00+00', '11/11/21')"
   ]
  },
  {
   "cell_type": "code",
   "execution_count": 566,
   "id": "389d287b",
   "metadata": {},
   "outputs": [],
   "source": [
    "df['DATE_INCIDENT_BEGAN'] = df['DATE_INCIDENT_BEGAN'].replace('2021/11/10 00:00:00+00', '11/10/21')"
   ]
  },
  {
   "cell_type": "code",
   "execution_count": 567,
   "id": "3b525ce9",
   "metadata": {},
   "outputs": [],
   "source": [
    "df['DATE_INCIDENT_BEGAN'] = df['DATE_INCIDENT_BEGAN'].replace('2021/11/09 00:00:00+00', '11/09/21')"
   ]
  },
  {
   "cell_type": "code",
   "execution_count": 568,
   "id": "93ee1a60",
   "metadata": {},
   "outputs": [],
   "source": [
    "df['DATE_INCIDENT_BEGAN'] = df['DATE_INCIDENT_BEGAN'].replace('2021/11/08 00:00:00+00', '11/08/21')"
   ]
  },
  {
   "cell_type": "code",
   "execution_count": 569,
   "id": "c6d83b1e",
   "metadata": {},
   "outputs": [],
   "source": [
    "df['DATE_INCIDENT_BEGAN'] = df['DATE_INCIDENT_BEGAN'].replace('2021/11/07 00:00:00+00', '11/07/21')"
   ]
  },
  {
   "cell_type": "code",
   "execution_count": 570,
   "id": "a14a9aaa",
   "metadata": {},
   "outputs": [],
   "source": [
    "df['DATE_INCIDENT_BEGAN'] = df['DATE_INCIDENT_BEGAN'].replace('2021/11/06 00:00:00+00', '11/06/21')"
   ]
  },
  {
   "cell_type": "code",
   "execution_count": 571,
   "id": "a4bca80d",
   "metadata": {},
   "outputs": [],
   "source": [
    "df['DATE_INCIDENT_BEGAN'] = df['DATE_INCIDENT_BEGAN'].replace('2021/11/05 00:00:00+00', '11/05/21')"
   ]
  },
  {
   "cell_type": "code",
   "execution_count": 572,
   "id": "7f8eeabe",
   "metadata": {},
   "outputs": [],
   "source": [
    "df['DATE_INCIDENT_BEGAN'] = df['DATE_INCIDENT_BEGAN'].replace('2021/11/04 00:00:00+00', '11/04/21')"
   ]
  },
  {
   "cell_type": "code",
   "execution_count": 573,
   "id": "ae38ea5e",
   "metadata": {},
   "outputs": [],
   "source": [
    "df['DATE_INCIDENT_BEGAN'] = df['DATE_INCIDENT_BEGAN'].replace('2021/11/03 00:00:00+00', '11/03/21')"
   ]
  },
  {
   "cell_type": "code",
   "execution_count": 574,
   "id": "23552466",
   "metadata": {},
   "outputs": [],
   "source": [
    "df['DATE_INCIDENT_BEGAN'] = df['DATE_INCIDENT_BEGAN'].replace('2021/11/02 00:00:00+00', '11/02/21')"
   ]
  },
  {
   "cell_type": "code",
   "execution_count": 575,
   "id": "1fc6ee92",
   "metadata": {},
   "outputs": [],
   "source": [
    "df['DATE_INCIDENT_BEGAN'] = df['DATE_INCIDENT_BEGAN'].replace('2021/11/01 00:00:00+00', '11/01/21')"
   ]
  },
  {
   "cell_type": "code",
   "execution_count": 576,
   "id": "18a9eeb1",
   "metadata": {},
   "outputs": [],
   "source": [
    "df['DATE_INCIDENT_BEGAN'] = df['DATE_INCIDENT_BEGAN'].replace('2021/10/31 00:00:00+00', '10/31/21')"
   ]
  },
  {
   "cell_type": "code",
   "execution_count": 577,
   "id": "1a59d385",
   "metadata": {},
   "outputs": [],
   "source": [
    "df['DATE_INCIDENT_BEGAN'] = df['DATE_INCIDENT_BEGAN'].replace('2021/10/30 00:00:00+00', '10/30/21')"
   ]
  },
  {
   "cell_type": "code",
   "execution_count": 578,
   "id": "aefb8d9f",
   "metadata": {},
   "outputs": [],
   "source": [
    "df['DATE_INCIDENT_BEGAN'] = df['DATE_INCIDENT_BEGAN'].replace('2021/10/29 00:00:00+00', '10/29/21')"
   ]
  },
  {
   "cell_type": "code",
   "execution_count": 579,
   "id": "59da72a9",
   "metadata": {},
   "outputs": [],
   "source": [
    "df['DATE_INCIDENT_BEGAN'] = df['DATE_INCIDENT_BEGAN'].replace('2021/10/28 00:00:00+00', '10/28/21')"
   ]
  },
  {
   "cell_type": "code",
   "execution_count": 580,
   "id": "515e9315",
   "metadata": {},
   "outputs": [],
   "source": [
    "df['DATE_INCIDENT_BEGAN'] = df['DATE_INCIDENT_BEGAN'].replace('2021/10/27 00:00:00+00', '10/27/21')"
   ]
  },
  {
   "cell_type": "code",
   "execution_count": 581,
   "id": "486c71b2",
   "metadata": {},
   "outputs": [],
   "source": [
    "df['DATE_INCIDENT_BEGAN'] = df['DATE_INCIDENT_BEGAN'].replace('2021/10/26 00:00:00+00', '10/26/21')"
   ]
  },
  {
   "cell_type": "code",
   "execution_count": 582,
   "id": "0295d200",
   "metadata": {},
   "outputs": [],
   "source": [
    "df['DATE_INCIDENT_BEGAN'] = df['DATE_INCIDENT_BEGAN'].replace('2021/10/25 00:00:00+00', '10/25/21')"
   ]
  },
  {
   "cell_type": "code",
   "execution_count": 584,
   "id": "ee3cf6e6",
   "metadata": {},
   "outputs": [],
   "source": [
    "df['DATE_INCIDENT_BEGAN'] = df['DATE_INCIDENT_BEGAN'].replace('2021/10/24 00:00:00+00', '10/24/21')"
   ]
  },
  {
   "cell_type": "code",
   "execution_count": 585,
   "id": "19a56b8e",
   "metadata": {},
   "outputs": [],
   "source": [
    "df['DATE_INCIDENT_BEGAN'] = df['DATE_INCIDENT_BEGAN'].replace('2021/10/23 00:00:00+00', '10/23/21')"
   ]
  },
  {
   "cell_type": "code",
   "execution_count": 586,
   "id": "a9d297ef",
   "metadata": {},
   "outputs": [],
   "source": [
    "df['DATE_INCIDENT_BEGAN'] = df['DATE_INCIDENT_BEGAN'].replace('2021/10/22 00:00:00+00', '10/22/21')"
   ]
  },
  {
   "cell_type": "code",
   "execution_count": 587,
   "id": "da96b224",
   "metadata": {},
   "outputs": [],
   "source": [
    "df['DATE_INCIDENT_BEGAN'] = df['DATE_INCIDENT_BEGAN'].replace('2021/10/21 00:00:00+00', '10/21/21')"
   ]
  },
  {
   "cell_type": "code",
   "execution_count": 588,
   "id": "6d30ccad",
   "metadata": {},
   "outputs": [],
   "source": [
    "df['DATE_INCIDENT_BEGAN'] = df['DATE_INCIDENT_BEGAN'].replace('2021/10/20 00:00:00+00', '10/20/21')"
   ]
  },
  {
   "cell_type": "code",
   "execution_count": 589,
   "id": "3b068bf8",
   "metadata": {},
   "outputs": [],
   "source": [
    "df['DATE_INCIDENT_BEGAN'] = df['DATE_INCIDENT_BEGAN'].replace('2021/10/19 00:00:00+00', '10/19/21')"
   ]
  },
  {
   "cell_type": "code",
   "execution_count": 590,
   "id": "88693ca7",
   "metadata": {},
   "outputs": [],
   "source": [
    "df['DATE_INCIDENT_BEGAN'] = df['DATE_INCIDENT_BEGAN'].replace('2021/10/18 00:00:00+00', '10/18/21')"
   ]
  },
  {
   "cell_type": "code",
   "execution_count": 591,
   "id": "23983bab",
   "metadata": {},
   "outputs": [],
   "source": [
    "df['DATE_INCIDENT_BEGAN'] = df['DATE_INCIDENT_BEGAN'].replace('2021/10/17 00:00:00+00', '10/17/21')"
   ]
  },
  {
   "cell_type": "code",
   "execution_count": 592,
   "id": "b0772a99",
   "metadata": {},
   "outputs": [],
   "source": [
    "df['DATE_INCIDENT_BEGAN'] = df['DATE_INCIDENT_BEGAN'].replace('2021/10/16 00:00:00+00', '10/16/21')"
   ]
  },
  {
   "cell_type": "code",
   "execution_count": 593,
   "id": "3f4a90ee",
   "metadata": {},
   "outputs": [],
   "source": [
    "df['DATE_INCIDENT_BEGAN'] = df['DATE_INCIDENT_BEGAN'].replace('2021/10/15 00:00:00+00', '10/15/21')"
   ]
  },
  {
   "cell_type": "code",
   "execution_count": 594,
   "id": "cfff4aea",
   "metadata": {},
   "outputs": [],
   "source": [
    "df['DATE_INCIDENT_BEGAN'] = df['DATE_INCIDENT_BEGAN'].replace('2021/10/14 00:00:00+00', '10/14/21')"
   ]
  },
  {
   "cell_type": "code",
   "execution_count": 595,
   "id": "58a0d959",
   "metadata": {},
   "outputs": [],
   "source": [
    "df['DATE_INCIDENT_BEGAN'] = df['DATE_INCIDENT_BEGAN'].replace('2021/10/13 00:00:00+00', '10/13/21')"
   ]
  },
  {
   "cell_type": "code",
   "execution_count": 596,
   "id": "73c859d7",
   "metadata": {},
   "outputs": [],
   "source": [
    "df['DATE_INCIDENT_BEGAN'] = df['DATE_INCIDENT_BEGAN'].replace('2021/10/12 00:00:00+00', '10/12/21')"
   ]
  },
  {
   "cell_type": "code",
   "execution_count": 597,
   "id": "fdf3e237",
   "metadata": {},
   "outputs": [],
   "source": [
    "df['DATE_INCIDENT_BEGAN'] = df['DATE_INCIDENT_BEGAN'].replace('2021/10/11 00:00:00+00', '10/11/21')"
   ]
  },
  {
   "cell_type": "code",
   "execution_count": 598,
   "id": "b313ac7b",
   "metadata": {},
   "outputs": [],
   "source": [
    "df['DATE_INCIDENT_BEGAN'] = df['DATE_INCIDENT_BEGAN'].replace('2021/10/10 00:00:00+00', '10/10/21')"
   ]
  },
  {
   "cell_type": "code",
   "execution_count": 599,
   "id": "85db87e3",
   "metadata": {},
   "outputs": [],
   "source": [
    "df['DATE_INCIDENT_BEGAN'] = df['DATE_INCIDENT_BEGAN'].replace('2021/10/09 00:00:00+00', '10/09/21')"
   ]
  },
  {
   "cell_type": "code",
   "execution_count": 600,
   "id": "82790e27",
   "metadata": {},
   "outputs": [],
   "source": [
    "df['DATE_INCIDENT_BEGAN'] = df['DATE_INCIDENT_BEGAN'].replace('2021/10/08 00:00:00+00', '10/08/21')"
   ]
  },
  {
   "cell_type": "code",
   "execution_count": 601,
   "id": "223a18b2",
   "metadata": {},
   "outputs": [],
   "source": [
    "df['DATE_INCIDENT_BEGAN'] = df['DATE_INCIDENT_BEGAN'].replace('2021/10/07 00:00:00+00', '10/07/21')"
   ]
  },
  {
   "cell_type": "code",
   "execution_count": 602,
   "id": "f3ce6701",
   "metadata": {},
   "outputs": [],
   "source": [
    "df['DATE_INCIDENT_BEGAN'] = df['DATE_INCIDENT_BEGAN'].replace('2021/10/06 00:00:00+00', '10/06/21')"
   ]
  },
  {
   "cell_type": "code",
   "execution_count": 603,
   "id": "e9a54392",
   "metadata": {},
   "outputs": [],
   "source": [
    "df['DATE_INCIDENT_BEGAN'] = df['DATE_INCIDENT_BEGAN'].replace('2021/10/05 00:00:00+00', '10/05/21')"
   ]
  },
  {
   "cell_type": "code",
   "execution_count": 604,
   "id": "243a05ba",
   "metadata": {},
   "outputs": [],
   "source": [
    "df['DATE_INCIDENT_BEGAN'] = df['DATE_INCIDENT_BEGAN'].replace('2021/10/04 00:00:00+00', '10/04/21')"
   ]
  },
  {
   "cell_type": "code",
   "execution_count": 605,
   "id": "fe52dfae",
   "metadata": {},
   "outputs": [],
   "source": [
    "df['DATE_INCIDENT_BEGAN'] = df['DATE_INCIDENT_BEGAN'].replace('2021/10/03 00:00:00+00', '10/03/21')"
   ]
  },
  {
   "cell_type": "code",
   "execution_count": 606,
   "id": "52699d2a",
   "metadata": {},
   "outputs": [],
   "source": [
    "df['DATE_INCIDENT_BEGAN'] = df['DATE_INCIDENT_BEGAN'].replace('2021/10/02 00:00:00+00', '10/02/21')"
   ]
  },
  {
   "cell_type": "code",
   "execution_count": 607,
   "id": "0288582b",
   "metadata": {},
   "outputs": [],
   "source": [
    "df['DATE_INCIDENT_BEGAN'] = df['DATE_INCIDENT_BEGAN'].replace('2021/10/01 00:00:00+00', '10/01/21')"
   ]
  },
  {
   "cell_type": "code",
   "execution_count": 608,
   "id": "2b4d53ca",
   "metadata": {},
   "outputs": [],
   "source": [
    "df['DATE_INCIDENT_BEGAN'] = df['DATE_INCIDENT_BEGAN'].replace('2021/09/31 00:00:00+00', '09/31/21')"
   ]
  },
  {
   "cell_type": "code",
   "execution_count": 609,
   "id": "17e059fa",
   "metadata": {},
   "outputs": [],
   "source": [
    "df['DATE_INCIDENT_BEGAN'] = df['DATE_INCIDENT_BEGAN'].replace('2021/09/30 00:00:00+00', '09/30/21')"
   ]
  },
  {
   "cell_type": "code",
   "execution_count": 610,
   "id": "21cbe162",
   "metadata": {},
   "outputs": [],
   "source": [
    "df['DATE_INCIDENT_BEGAN'] = df['DATE_INCIDENT_BEGAN'].replace('2021/09/29 00:00:00+00', '09/29/21')"
   ]
  },
  {
   "cell_type": "code",
   "execution_count": 611,
   "id": "325006fa",
   "metadata": {},
   "outputs": [],
   "source": [
    "df['DATE_INCIDENT_BEGAN'] = df['DATE_INCIDENT_BEGAN'].replace('2021/09/28 00:00:00+00', '09/28/21')"
   ]
  },
  {
   "cell_type": "code",
   "execution_count": 612,
   "id": "2a8c980d",
   "metadata": {},
   "outputs": [],
   "source": [
    "df['DATE_INCIDENT_BEGAN'] = df['DATE_INCIDENT_BEGAN'].replace('2021/09/27 00:00:00+00', '09/27/21')"
   ]
  },
  {
   "cell_type": "code",
   "execution_count": 613,
   "id": "aa2a535c",
   "metadata": {},
   "outputs": [],
   "source": [
    "df['DATE_INCIDENT_BEGAN'] = df['DATE_INCIDENT_BEGAN'].replace('2021/09/26 00:00:00+00', '09/26/21')"
   ]
  },
  {
   "cell_type": "code",
   "execution_count": 614,
   "id": "a8ebed8d",
   "metadata": {},
   "outputs": [],
   "source": [
    "df['DATE_INCIDENT_BEGAN'] = df['DATE_INCIDENT_BEGAN'].replace('2021/09/25 00:00:00+00', '09/25/21')"
   ]
  },
  {
   "cell_type": "code",
   "execution_count": 615,
   "id": "943d2d6a",
   "metadata": {},
   "outputs": [],
   "source": [
    "df['DATE_INCIDENT_BEGAN'] = df['DATE_INCIDENT_BEGAN'].replace('2021/09/24 00:00:00+00', '09/24/21')"
   ]
  },
  {
   "cell_type": "code",
   "execution_count": 616,
   "id": "0e38d9d9",
   "metadata": {},
   "outputs": [],
   "source": [
    "df['DATE_INCIDENT_BEGAN'] = df['DATE_INCIDENT_BEGAN'].replace('2021/09/23 00:00:00+00', '09/23/21')"
   ]
  },
  {
   "cell_type": "code",
   "execution_count": 617,
   "id": "4bc9dacc",
   "metadata": {},
   "outputs": [],
   "source": [
    "df['DATE_INCIDENT_BEGAN'] = df['DATE_INCIDENT_BEGAN'].replace('2021/09/22 00:00:00+00', '09/22/21')"
   ]
  },
  {
   "cell_type": "code",
   "execution_count": 618,
   "id": "38b7268b",
   "metadata": {},
   "outputs": [],
   "source": [
    "df['DATE_INCIDENT_BEGAN'] = df['DATE_INCIDENT_BEGAN'].replace('2021/09/21 00:00:00+00', '09/21/21')"
   ]
  },
  {
   "cell_type": "code",
   "execution_count": 619,
   "id": "adba9c56",
   "metadata": {},
   "outputs": [],
   "source": [
    "df['DATE_INCIDENT_BEGAN'] = df['DATE_INCIDENT_BEGAN'].replace('2021/09/20 00:00:00+00', '09/20/21')"
   ]
  },
  {
   "cell_type": "code",
   "execution_count": 620,
   "id": "95b8bcae",
   "metadata": {},
   "outputs": [],
   "source": [
    "df['DATE_INCIDENT_BEGAN'] = df['DATE_INCIDENT_BEGAN'].replace('2021/09/19 00:00:00+00', '09/19/21')"
   ]
  },
  {
   "cell_type": "code",
   "execution_count": 621,
   "id": "c6516aff",
   "metadata": {},
   "outputs": [],
   "source": [
    "df['DATE_INCIDENT_BEGAN'] = df['DATE_INCIDENT_BEGAN'].replace('2021/09/18 00:00:00+00', '09/18/21')"
   ]
  },
  {
   "cell_type": "code",
   "execution_count": 622,
   "id": "08126668",
   "metadata": {},
   "outputs": [],
   "source": [
    "df['DATE_INCIDENT_BEGAN'] = df['DATE_INCIDENT_BEGAN'].replace('2021/09/17 00:00:00+00', '09/17/21')"
   ]
  },
  {
   "cell_type": "code",
   "execution_count": 623,
   "id": "ea4616f8",
   "metadata": {},
   "outputs": [],
   "source": [
    "df['DATE_INCIDENT_BEGAN'] = df['DATE_INCIDENT_BEGAN'].replace('2021/09/16 00:00:00+00', '09/16/21')"
   ]
  },
  {
   "cell_type": "code",
   "execution_count": 624,
   "id": "3207c1b0",
   "metadata": {},
   "outputs": [],
   "source": [
    "df['DATE_INCIDENT_BEGAN'] = df['DATE_INCIDENT_BEGAN'].replace('2021/09/15 00:00:00+00', '09/15/21')"
   ]
  },
  {
   "cell_type": "code",
   "execution_count": 625,
   "id": "ab967671",
   "metadata": {},
   "outputs": [],
   "source": [
    "df['DATE_INCIDENT_BEGAN'] = df['DATE_INCIDENT_BEGAN'].replace('2021/09/14 00:00:00+00', '09/14/21')"
   ]
  },
  {
   "cell_type": "code",
   "execution_count": 626,
   "id": "e1e6d104",
   "metadata": {},
   "outputs": [],
   "source": [
    "df['DATE_INCIDENT_BEGAN'] = df['DATE_INCIDENT_BEGAN'].replace('2021/09/13 00:00:00+00', '09/13/21')"
   ]
  },
  {
   "cell_type": "code",
   "execution_count": 627,
   "id": "e5805039",
   "metadata": {},
   "outputs": [],
   "source": [
    "df['DATE_INCIDENT_BEGAN'] = df['DATE_INCIDENT_BEGAN'].replace('2021/09/12 00:00:00+00', '09/12/21')"
   ]
  },
  {
   "cell_type": "code",
   "execution_count": 628,
   "id": "99a6383c",
   "metadata": {},
   "outputs": [],
   "source": [
    "df['DATE_INCIDENT_BEGAN'] = df['DATE_INCIDENT_BEGAN'].replace('2021/09/11 00:00:00+00', '09/11/21')"
   ]
  },
  {
   "cell_type": "code",
   "execution_count": 629,
   "id": "0d258b41",
   "metadata": {},
   "outputs": [],
   "source": [
    "df['DATE_INCIDENT_BEGAN'] = df['DATE_INCIDENT_BEGAN'].replace('2021/09/10 00:00:00+00', '09/10/21')"
   ]
  },
  {
   "cell_type": "code",
   "execution_count": 630,
   "id": "51e5fb42",
   "metadata": {},
   "outputs": [],
   "source": [
    "df['DATE_INCIDENT_BEGAN'] = df['DATE_INCIDENT_BEGAN'].replace('2021/09/09 00:00:00+00', '09/09/21')"
   ]
  },
  {
   "cell_type": "code",
   "execution_count": 631,
   "id": "12d95cd2",
   "metadata": {},
   "outputs": [],
   "source": [
    "df['DATE_INCIDENT_BEGAN'] = df['DATE_INCIDENT_BEGAN'].replace('2021/09/08 00:00:00+00', '09/08/21')"
   ]
  },
  {
   "cell_type": "code",
   "execution_count": 632,
   "id": "873e0014",
   "metadata": {},
   "outputs": [],
   "source": [
    "df['DATE_INCIDENT_BEGAN'] = df['DATE_INCIDENT_BEGAN'].replace('2021/09/07 00:00:00+00', '09/07/21')"
   ]
  },
  {
   "cell_type": "code",
   "execution_count": 633,
   "id": "c59e12f3",
   "metadata": {},
   "outputs": [],
   "source": [
    "df['DATE_INCIDENT_BEGAN'] = df['DATE_INCIDENT_BEGAN'].replace('2021/09/06 00:00:00+00', '09/06/21')"
   ]
  },
  {
   "cell_type": "code",
   "execution_count": 634,
   "id": "4752e5c6",
   "metadata": {},
   "outputs": [],
   "source": [
    "df['DATE_INCIDENT_BEGAN'] = df['DATE_INCIDENT_BEGAN'].replace('2021/09/05 00:00:00+00', '09/05/21')"
   ]
  },
  {
   "cell_type": "code",
   "execution_count": 635,
   "id": "1c754cf4",
   "metadata": {},
   "outputs": [],
   "source": [
    "df['DATE_INCIDENT_BEGAN'] = df['DATE_INCIDENT_BEGAN'].replace('2021/09/04 00:00:00+00', '09/04/21')"
   ]
  },
  {
   "cell_type": "code",
   "execution_count": 636,
   "id": "474e5960",
   "metadata": {},
   "outputs": [],
   "source": [
    "df['DATE_INCIDENT_BEGAN'] = df['DATE_INCIDENT_BEGAN'].replace('2021/09/03 00:00:00+00', '09/03/21')"
   ]
  },
  {
   "cell_type": "code",
   "execution_count": 637,
   "id": "c4dee8ad",
   "metadata": {},
   "outputs": [],
   "source": [
    "df['DATE_INCIDENT_BEGAN'] = df['DATE_INCIDENT_BEGAN'].replace('2021/09/02 00:00:00+00', '09/02/21')"
   ]
  },
  {
   "cell_type": "code",
   "execution_count": 638,
   "id": "3500986a",
   "metadata": {},
   "outputs": [],
   "source": [
    "df['DATE_INCIDENT_BEGAN'] = df['DATE_INCIDENT_BEGAN'].replace('2021/09/01 00:00:00+00', '09/01/21')"
   ]
  },
  {
   "cell_type": "code",
   "execution_count": 906,
   "id": "ab0efd80",
   "metadata": {},
   "outputs": [],
   "source": [
    "df['DATE_INCIDENT_BEGAN'] = df['DATE_INCIDENT_BEGAN'].replace('08/02/21', '08/31/21')"
   ]
  },
  {
   "cell_type": "code",
   "execution_count": 907,
   "id": "5c214d67",
   "metadata": {},
   "outputs": [],
   "source": [
    "df['DATE_INCIDENT_BEGAN'] = df['DATE_INCIDENT_BEGAN'].replace('2021/08/30 00:00:00+00', '08/30/21')"
   ]
  },
  {
   "cell_type": "code",
   "execution_count": 909,
   "id": "7db0b569",
   "metadata": {},
   "outputs": [],
   "source": [
    "df['DATE_INCIDENT_BEGAN'] = df['DATE_INCIDENT_BEGAN'].replace('2021/08/29 00:00:00+00', '08/29/21')"
   ]
  },
  {
   "cell_type": "code",
   "execution_count": 643,
   "id": "4c2604da",
   "metadata": {},
   "outputs": [],
   "source": [
    "df['DATE_INCIDENT_BEGAN'] = df['DATE_INCIDENT_BEGAN'].replace('2021/08/28 00:00:00+00', '08/28/21')"
   ]
  },
  {
   "cell_type": "code",
   "execution_count": 910,
   "id": "1928a63f",
   "metadata": {},
   "outputs": [],
   "source": [
    "df['DATE_INCIDENT_BEGAN'] = df['DATE_INCIDENT_BEGAN'].replace('2021/08/27 00:00:00+00', '08/27/21')"
   ]
  },
  {
   "cell_type": "code",
   "execution_count": 645,
   "id": "cea532f3",
   "metadata": {},
   "outputs": [],
   "source": [
    "df['DATE_INCIDENT_BEGAN'] = df['DATE_INCIDENT_BEGAN'].replace('08/27/21 00:00:00+00', '08/27/21')"
   ]
  },
  {
   "cell_type": "code",
   "execution_count": 646,
   "id": "8c6ffe26",
   "metadata": {},
   "outputs": [],
   "source": [
    "df['DATE_INCIDENT_BEGAN'] = df['DATE_INCIDENT_BEGAN'].replace('08/26/21 00:00:00+00', '08/26/21')"
   ]
  },
  {
   "cell_type": "code",
   "execution_count": 647,
   "id": "303957d2",
   "metadata": {},
   "outputs": [],
   "source": [
    "df['DATE_INCIDENT_BEGAN'] = df['DATE_INCIDENT_BEGAN'].replace('08/25/21 00:00:00+00', '08/25/21')"
   ]
  },
  {
   "cell_type": "code",
   "execution_count": 648,
   "id": "f6963d29",
   "metadata": {},
   "outputs": [],
   "source": [
    "df['DATE_INCIDENT_BEGAN'] = df['DATE_INCIDENT_BEGAN'].replace('08/24/21 00:00:00+00', '08/24/21')"
   ]
  },
  {
   "cell_type": "code",
   "execution_count": 649,
   "id": "4a3d705a",
   "metadata": {},
   "outputs": [],
   "source": [
    "df['DATE_INCIDENT_BEGAN'] = df['DATE_INCIDENT_BEGAN'].replace('08/23/21 00:00:00+00', '08/23/21')"
   ]
  },
  {
   "cell_type": "code",
   "execution_count": 650,
   "id": "cafb5cee",
   "metadata": {},
   "outputs": [],
   "source": [
    "df['DATE_INCIDENT_BEGAN'] = df['DATE_INCIDENT_BEGAN'].replace('08/22/21 00:00:00+00', '08/22/21')"
   ]
  },
  {
   "cell_type": "code",
   "execution_count": 651,
   "id": "d837d2f2",
   "metadata": {},
   "outputs": [],
   "source": [
    "df['DATE_INCIDENT_BEGAN'] = df['DATE_INCIDENT_BEGAN'].replace('08/21/21 00:00:00+00', '08/21/21')"
   ]
  },
  {
   "cell_type": "code",
   "execution_count": 652,
   "id": "0be78ff9",
   "metadata": {},
   "outputs": [],
   "source": [
    "df['DATE_INCIDENT_BEGAN'] = df['DATE_INCIDENT_BEGAN'].replace('08/20/21 00:00:00+00', '08/20/21')"
   ]
  },
  {
   "cell_type": "code",
   "execution_count": 653,
   "id": "51ca4028",
   "metadata": {},
   "outputs": [],
   "source": [
    "df['DATE_INCIDENT_BEGAN'] = df['DATE_INCIDENT_BEGAN'].replace('08/19/21 00:00:00+00', '08/19/21')"
   ]
  },
  {
   "cell_type": "code",
   "execution_count": 654,
   "id": "750d4e74",
   "metadata": {},
   "outputs": [],
   "source": [
    "df['DATE_INCIDENT_BEGAN'] = df['DATE_INCIDENT_BEGAN'].replace('08/18/21 00:00:00+00', '08/18/21')"
   ]
  },
  {
   "cell_type": "code",
   "execution_count": 655,
   "id": "e0f116cb",
   "metadata": {},
   "outputs": [],
   "source": [
    "df['DATE_INCIDENT_BEGAN'] = df['DATE_INCIDENT_BEGAN'].replace('08/17/21 00:00:00+00', '08/17/21')"
   ]
  },
  {
   "cell_type": "code",
   "execution_count": 656,
   "id": "bfa6af6e",
   "metadata": {},
   "outputs": [],
   "source": [
    "df['DATE_INCIDENT_BEGAN'] = df['DATE_INCIDENT_BEGAN'].replace('08/16/21 00:00:00+00', '08/16/21')"
   ]
  },
  {
   "cell_type": "code",
   "execution_count": 657,
   "id": "6d0a11dc",
   "metadata": {},
   "outputs": [],
   "source": [
    "df['DATE_INCIDENT_BEGAN'] = df['DATE_INCIDENT_BEGAN'].replace('08/15/21 00:00:00+00', '08/15/21')"
   ]
  },
  {
   "cell_type": "code",
   "execution_count": 658,
   "id": "37be27b3",
   "metadata": {},
   "outputs": [],
   "source": [
    "df['DATE_INCIDENT_BEGAN'] = df['DATE_INCIDENT_BEGAN'].replace('08/14/21 00:00:00+00', '08/14/21')"
   ]
  },
  {
   "cell_type": "code",
   "execution_count": 659,
   "id": "cc084cad",
   "metadata": {},
   "outputs": [],
   "source": [
    "df['DATE_INCIDENT_BEGAN'] = df['DATE_INCIDENT_BEGAN'].replace('08/13/21 00:00:00+00', '08/13/21')"
   ]
  },
  {
   "cell_type": "code",
   "execution_count": 660,
   "id": "da3d0461",
   "metadata": {},
   "outputs": [],
   "source": [
    "df['DATE_INCIDENT_BEGAN'] = df['DATE_INCIDENT_BEGAN'].replace('08/12/21 00:00:00+00', '08/12/21')"
   ]
  },
  {
   "cell_type": "code",
   "execution_count": 661,
   "id": "47220454",
   "metadata": {},
   "outputs": [],
   "source": [
    "df['DATE_INCIDENT_BEGAN'] = df['DATE_INCIDENT_BEGAN'].replace('08/11/21 00:00:00+00', '08/11/21')"
   ]
  },
  {
   "cell_type": "code",
   "execution_count": 662,
   "id": "7e9d4724",
   "metadata": {},
   "outputs": [],
   "source": [
    "df['DATE_INCIDENT_BEGAN'] = df['DATE_INCIDENT_BEGAN'].replace('08/10/21 00:00:00+00', '08/10/21')"
   ]
  },
  {
   "cell_type": "code",
   "execution_count": 663,
   "id": "5b473689",
   "metadata": {},
   "outputs": [],
   "source": [
    "df['DATE_INCIDENT_BEGAN'] = df['DATE_INCIDENT_BEGAN'].replace('08/09/21 00:00:00+00', '08/09/21')"
   ]
  },
  {
   "cell_type": "code",
   "execution_count": 664,
   "id": "6127a4be",
   "metadata": {},
   "outputs": [],
   "source": [
    "df['DATE_INCIDENT_BEGAN'] = df['DATE_INCIDENT_BEGAN'].replace('08/08/21 00:00:00+00', '08/08/21')"
   ]
  },
  {
   "cell_type": "code",
   "execution_count": 665,
   "id": "605f41af",
   "metadata": {},
   "outputs": [],
   "source": [
    "df['DATE_INCIDENT_BEGAN'] = df['DATE_INCIDENT_BEGAN'].replace('08/07/21 00:00:00+00', '08/07/21')"
   ]
  },
  {
   "cell_type": "code",
   "execution_count": 666,
   "id": "87b03f59",
   "metadata": {},
   "outputs": [],
   "source": [
    "df['DATE_INCIDENT_BEGAN'] = df['DATE_INCIDENT_BEGAN'].replace('08/06/21 00:00:00+00', '08/06/21')"
   ]
  },
  {
   "cell_type": "code",
   "execution_count": 667,
   "id": "85852cca",
   "metadata": {},
   "outputs": [],
   "source": [
    "df['DATE_INCIDENT_BEGAN'] = df['DATE_INCIDENT_BEGAN'].replace('08/05/21 00:00:00+00', '08/05/21')"
   ]
  },
  {
   "cell_type": "code",
   "execution_count": 668,
   "id": "af6974d4",
   "metadata": {},
   "outputs": [],
   "source": [
    "df['DATE_INCIDENT_BEGAN'] = df['DATE_INCIDENT_BEGAN'].replace('08/04/21 00:00:00+00', '08/04/21')"
   ]
  },
  {
   "cell_type": "code",
   "execution_count": 669,
   "id": "8bc64511",
   "metadata": {},
   "outputs": [],
   "source": [
    "df['DATE_INCIDENT_BEGAN'] = df['DATE_INCIDENT_BEGAN'].replace('08/03/21 00:00:00+00', '08/03/21')"
   ]
  },
  {
   "cell_type": "code",
   "execution_count": 670,
   "id": "881b46f1",
   "metadata": {},
   "outputs": [],
   "source": [
    "df['DATE_INCIDENT_BEGAN'] = df['DATE_INCIDENT_BEGAN'].replace('08/02/21 00:00:00+00', '08/02/21')"
   ]
  },
  {
   "cell_type": "code",
   "execution_count": 671,
   "id": "4b72ba99",
   "metadata": {},
   "outputs": [],
   "source": [
    "df['DATE_INCIDENT_BEGAN'] = df['DATE_INCIDENT_BEGAN'].replace('08/01/21 00:00:00+00', '08/01/21')"
   ]
  },
  {
   "cell_type": "code",
   "execution_count": 672,
   "id": "1e705fca",
   "metadata": {},
   "outputs": [],
   "source": [
    "df['DATE_INCIDENT_BEGAN'] = df['DATE_INCIDENT_BEGAN'].replace('07/31/21 00:00:00+00', '07/31/21')"
   ]
  },
  {
   "cell_type": "code",
   "execution_count": 673,
   "id": "c08fb4f3",
   "metadata": {},
   "outputs": [],
   "source": [
    "df['DATE_INCIDENT_BEGAN'] = df['DATE_INCIDENT_BEGAN'].replace('07/30/21 00:00:00+00', '07/30/21')"
   ]
  },
  {
   "cell_type": "code",
   "execution_count": 674,
   "id": "c7428b0b",
   "metadata": {},
   "outputs": [],
   "source": [
    "df['DATE_INCIDENT_BEGAN'] = df['DATE_INCIDENT_BEGAN'].replace('07/29/21 00:00:00+00', '07/29/21')"
   ]
  },
  {
   "cell_type": "code",
   "execution_count": 675,
   "id": "48d111f6",
   "metadata": {},
   "outputs": [],
   "source": [
    "df['DATE_INCIDENT_BEGAN'] = df['DATE_INCIDENT_BEGAN'].replace('07/28/21 00:00:00+00', '07/28/21')"
   ]
  },
  {
   "cell_type": "code",
   "execution_count": 676,
   "id": "fe9c0115",
   "metadata": {},
   "outputs": [],
   "source": [
    "df['DATE_INCIDENT_BEGAN'] = df['DATE_INCIDENT_BEGAN'].replace('07/27/21 00:00:00+00', '07/27/21')"
   ]
  },
  {
   "cell_type": "code",
   "execution_count": 677,
   "id": "282b6b40",
   "metadata": {},
   "outputs": [],
   "source": [
    "df['DATE_INCIDENT_BEGAN'] = df['DATE_INCIDENT_BEGAN'].replace('07/26/21 00:00:00+00', '07/26/21')"
   ]
  },
  {
   "cell_type": "code",
   "execution_count": 678,
   "id": "9f5e93c5",
   "metadata": {},
   "outputs": [],
   "source": [
    "df['DATE_INCIDENT_BEGAN'] = df['DATE_INCIDENT_BEGAN'].replace('07/25/21 00:00:00+00', '07/25/21')"
   ]
  },
  {
   "cell_type": "code",
   "execution_count": 679,
   "id": "942c7581",
   "metadata": {},
   "outputs": [],
   "source": [
    "df['DATE_INCIDENT_BEGAN'] = df['DATE_INCIDENT_BEGAN'].replace('07/24/21 00:00:00+00', '07/24/21')"
   ]
  },
  {
   "cell_type": "code",
   "execution_count": 680,
   "id": "1a9ce7fc",
   "metadata": {},
   "outputs": [],
   "source": [
    "df['DATE_INCIDENT_BEGAN'] = df['DATE_INCIDENT_BEGAN'].replace('07/23/21 00:00:00+00', '07/23/21')"
   ]
  },
  {
   "cell_type": "code",
   "execution_count": 681,
   "id": "4dcbc4a8",
   "metadata": {},
   "outputs": [],
   "source": [
    "df['DATE_INCIDENT_BEGAN'] = df['DATE_INCIDENT_BEGAN'].replace('07/22/21 00:00:00+00', '07/22/21')"
   ]
  },
  {
   "cell_type": "code",
   "execution_count": 682,
   "id": "ada358dc",
   "metadata": {},
   "outputs": [],
   "source": [
    "df['DATE_INCIDENT_BEGAN'] = df['DATE_INCIDENT_BEGAN'].replace('07/21/21 00:00:00+00', '07/21/21')"
   ]
  },
  {
   "cell_type": "code",
   "execution_count": 683,
   "id": "a43e0536",
   "metadata": {},
   "outputs": [],
   "source": [
    "df['DATE_INCIDENT_BEGAN'] = df['DATE_INCIDENT_BEGAN'].replace('07/20/21 00:00:00+00', '07/20/21')"
   ]
  },
  {
   "cell_type": "code",
   "execution_count": 684,
   "id": "f555e920",
   "metadata": {},
   "outputs": [],
   "source": [
    "df['DATE_INCIDENT_BEGAN'] = df['DATE_INCIDENT_BEGAN'].replace('07/19/21 00:00:00+00', '07/19/21')"
   ]
  },
  {
   "cell_type": "code",
   "execution_count": 685,
   "id": "434a5359",
   "metadata": {},
   "outputs": [],
   "source": [
    "df['DATE_INCIDENT_BEGAN'] = df['DATE_INCIDENT_BEGAN'].replace('07/18/21 00:00:00+00', '07/18/21')"
   ]
  },
  {
   "cell_type": "code",
   "execution_count": 686,
   "id": "e86dc80a",
   "metadata": {},
   "outputs": [],
   "source": [
    "df['DATE_INCIDENT_BEGAN'] = df['DATE_INCIDENT_BEGAN'].replace('07/17/21 00:00:00+00', '07/17/21')"
   ]
  },
  {
   "cell_type": "code",
   "execution_count": 687,
   "id": "7574c997",
   "metadata": {},
   "outputs": [],
   "source": [
    "df['DATE_INCIDENT_BEGAN'] = df['DATE_INCIDENT_BEGAN'].replace('07/16/21 00:00:00+00', '07/16/21')"
   ]
  },
  {
   "cell_type": "code",
   "execution_count": 688,
   "id": "14426901",
   "metadata": {},
   "outputs": [],
   "source": [
    "df['DATE_INCIDENT_BEGAN'] = df['DATE_INCIDENT_BEGAN'].replace('07/15/21 00:00:00+00', '07/15/21')"
   ]
  },
  {
   "cell_type": "code",
   "execution_count": 689,
   "id": "bf12c767",
   "metadata": {},
   "outputs": [],
   "source": [
    "df['DATE_INCIDENT_BEGAN'] = df['DATE_INCIDENT_BEGAN'].replace('07/14/21 00:00:00+00', '07/14/21')"
   ]
  },
  {
   "cell_type": "code",
   "execution_count": 690,
   "id": "8d70c3e6",
   "metadata": {},
   "outputs": [],
   "source": [
    "df['DATE_INCIDENT_BEGAN'] = df['DATE_INCIDENT_BEGAN'].replace('07/13/21 00:00:00+00', '07/13/21')"
   ]
  },
  {
   "cell_type": "code",
   "execution_count": 691,
   "id": "335ab2e2",
   "metadata": {},
   "outputs": [],
   "source": [
    "df['DATE_INCIDENT_BEGAN'] = df['DATE_INCIDENT_BEGAN'].replace('07/12/21 00:00:00+00', '07/12/21')"
   ]
  },
  {
   "cell_type": "code",
   "execution_count": 692,
   "id": "b0fd7a66",
   "metadata": {},
   "outputs": [],
   "source": [
    "df['DATE_INCIDENT_BEGAN'] = df['DATE_INCIDENT_BEGAN'].replace('07/11/21 00:00:00+00', '07/11/21')"
   ]
  },
  {
   "cell_type": "code",
   "execution_count": 693,
   "id": "7c4e927b",
   "metadata": {},
   "outputs": [],
   "source": [
    "df['DATE_INCIDENT_BEGAN'] = df['DATE_INCIDENT_BEGAN'].replace('07/10/21 00:00:00+00', '07/10/21')"
   ]
  },
  {
   "cell_type": "code",
   "execution_count": 694,
   "id": "992e8282",
   "metadata": {},
   "outputs": [],
   "source": [
    "df['DATE_INCIDENT_BEGAN'] = df['DATE_INCIDENT_BEGAN'].replace('07/09/21 00:00:00+00', '07/09/21')"
   ]
  },
  {
   "cell_type": "code",
   "execution_count": 695,
   "id": "f6b01a99",
   "metadata": {},
   "outputs": [],
   "source": [
    "df['DATE_INCIDENT_BEGAN'] = df['DATE_INCIDENT_BEGAN'].replace('07/08/21 00:00:00+00', '07/08/21')"
   ]
  },
  {
   "cell_type": "code",
   "execution_count": 696,
   "id": "eb9c4be4",
   "metadata": {},
   "outputs": [],
   "source": [
    "df['DATE_INCIDENT_BEGAN'] = df['DATE_INCIDENT_BEGAN'].replace('07/07/21 00:00:00+00', '07/07/21')"
   ]
  },
  {
   "cell_type": "code",
   "execution_count": 697,
   "id": "23352d02",
   "metadata": {},
   "outputs": [],
   "source": [
    "df['DATE_INCIDENT_BEGAN'] = df['DATE_INCIDENT_BEGAN'].replace('07/06/21 00:00:00+00', '07/06/21')"
   ]
  },
  {
   "cell_type": "code",
   "execution_count": 698,
   "id": "30a8f93c",
   "metadata": {},
   "outputs": [],
   "source": [
    "df['DATE_INCIDENT_BEGAN'] = df['DATE_INCIDENT_BEGAN'].replace('07/05/21 00:00:00+00', '07/05/21')"
   ]
  },
  {
   "cell_type": "code",
   "execution_count": 699,
   "id": "bacb5dba",
   "metadata": {},
   "outputs": [],
   "source": [
    "df['DATE_INCIDENT_BEGAN'] = df['DATE_INCIDENT_BEGAN'].replace('07/04/21 00:00:00+00', '07/04/21')"
   ]
  },
  {
   "cell_type": "code",
   "execution_count": 700,
   "id": "2236e131",
   "metadata": {},
   "outputs": [],
   "source": [
    "df['DATE_INCIDENT_BEGAN'] = df['DATE_INCIDENT_BEGAN'].replace('07/03/21 00:00:00+00', '07/03/21')"
   ]
  },
  {
   "cell_type": "code",
   "execution_count": 701,
   "id": "f992c67e",
   "metadata": {},
   "outputs": [],
   "source": [
    "df['DATE_INCIDENT_BEGAN'] = df['DATE_INCIDENT_BEGAN'].replace('07/02/21 00:00:00+00', '07/02/21')"
   ]
  },
  {
   "cell_type": "code",
   "execution_count": 702,
   "id": "ecbd0b02",
   "metadata": {},
   "outputs": [],
   "source": [
    "df['DATE_INCIDENT_BEGAN'] = df['DATE_INCIDENT_BEGAN'].replace('07/01/21 00:00:00+00', '07/01/21')"
   ]
  },
  {
   "cell_type": "code",
   "execution_count": 703,
   "id": "baa1be00",
   "metadata": {},
   "outputs": [],
   "source": [
    "df['DATE_INCIDENT_BEGAN'] = df['DATE_INCIDENT_BEGAN'].replace('06/31/21 00:00:00+00', '06/31/21')"
   ]
  },
  {
   "cell_type": "code",
   "execution_count": 704,
   "id": "a9ebac7d",
   "metadata": {},
   "outputs": [],
   "source": [
    "df['DATE_INCIDENT_BEGAN'] = df['DATE_INCIDENT_BEGAN'].replace('06/30/21 00:00:00+00', '06/30/21')"
   ]
  },
  {
   "cell_type": "code",
   "execution_count": 705,
   "id": "43139fc3",
   "metadata": {},
   "outputs": [],
   "source": [
    "df['DATE_INCIDENT_BEGAN'] = df['DATE_INCIDENT_BEGAN'].replace('06/29/21 00:00:00+00', '06/29/21')"
   ]
  },
  {
   "cell_type": "code",
   "execution_count": 706,
   "id": "9e976c9f",
   "metadata": {},
   "outputs": [],
   "source": [
    "df['DATE_INCIDENT_BEGAN'] = df['DATE_INCIDENT_BEGAN'].replace('06/28/21 00:00:00+00', '06/28/21')"
   ]
  },
  {
   "cell_type": "code",
   "execution_count": 707,
   "id": "faa2f33d",
   "metadata": {},
   "outputs": [],
   "source": [
    "df['DATE_INCIDENT_BEGAN'] = df['DATE_INCIDENT_BEGAN'].replace('06/27/21 00:00:00+00', '06/27/21')"
   ]
  },
  {
   "cell_type": "code",
   "execution_count": 708,
   "id": "ff170850",
   "metadata": {},
   "outputs": [],
   "source": [
    "df['DATE_INCIDENT_BEGAN'] = df['DATE_INCIDENT_BEGAN'].replace('06/26/21 00:00:00+00', '06/26/21')"
   ]
  },
  {
   "cell_type": "code",
   "execution_count": 709,
   "id": "5d4e2f99",
   "metadata": {},
   "outputs": [],
   "source": [
    "df['DATE_INCIDENT_BEGAN'] = df['DATE_INCIDENT_BEGAN'].replace('06/25/21 00:00:00+00', '06/25/21')"
   ]
  },
  {
   "cell_type": "code",
   "execution_count": 710,
   "id": "15190cb4",
   "metadata": {},
   "outputs": [],
   "source": [
    "df['DATE_INCIDENT_BEGAN'] = df['DATE_INCIDENT_BEGAN'].replace('06/24/21 00:00:00+00', '06/24/21')"
   ]
  },
  {
   "cell_type": "code",
   "execution_count": 711,
   "id": "37703c45",
   "metadata": {},
   "outputs": [],
   "source": [
    "df['DATE_INCIDENT_BEGAN'] = df['DATE_INCIDENT_BEGAN'].replace('06/23/21 00:00:00+00', '06/23/21')"
   ]
  },
  {
   "cell_type": "code",
   "execution_count": 712,
   "id": "66fd9cb8",
   "metadata": {},
   "outputs": [],
   "source": [
    "df['DATE_INCIDENT_BEGAN'] = df['DATE_INCIDENT_BEGAN'].replace('06/22/21 00:00:00+00', '06/22/21')"
   ]
  },
  {
   "cell_type": "code",
   "execution_count": 713,
   "id": "25f2142a",
   "metadata": {},
   "outputs": [],
   "source": [
    "df['DATE_INCIDENT_BEGAN'] = df['DATE_INCIDENT_BEGAN'].replace('06/21/21 00:00:00+00', '06/21/21')"
   ]
  },
  {
   "cell_type": "code",
   "execution_count": 714,
   "id": "740c9fce",
   "metadata": {},
   "outputs": [],
   "source": [
    "df['DATE_INCIDENT_BEGAN'] = df['DATE_INCIDENT_BEGAN'].replace('06/20/21 00:00:00+00', '06/20/21')"
   ]
  },
  {
   "cell_type": "code",
   "execution_count": 715,
   "id": "e9c3d619",
   "metadata": {},
   "outputs": [],
   "source": [
    "df['DATE_INCIDENT_BEGAN'] = df['DATE_INCIDENT_BEGAN'].replace('06/19/21 00:00:00+00', '06/19/21')"
   ]
  },
  {
   "cell_type": "code",
   "execution_count": 716,
   "id": "5c17843f",
   "metadata": {},
   "outputs": [],
   "source": [
    "df['DATE_INCIDENT_BEGAN'] = df['DATE_INCIDENT_BEGAN'].replace('06/18/21 00:00:00+00', '06/18/21')"
   ]
  },
  {
   "cell_type": "code",
   "execution_count": 717,
   "id": "c3b23a78",
   "metadata": {},
   "outputs": [],
   "source": [
    "df['DATE_INCIDENT_BEGAN'] = df['DATE_INCIDENT_BEGAN'].replace('06/17/21 00:00:00+00', '06/17/21')"
   ]
  },
  {
   "cell_type": "code",
   "execution_count": 718,
   "id": "7f607c99",
   "metadata": {},
   "outputs": [],
   "source": [
    "df['DATE_INCIDENT_BEGAN'] = df['DATE_INCIDENT_BEGAN'].replace('06/16/21 00:00:00+00', '06/16/21')"
   ]
  },
  {
   "cell_type": "code",
   "execution_count": 719,
   "id": "f5cb8448",
   "metadata": {},
   "outputs": [],
   "source": [
    "df['DATE_INCIDENT_BEGAN'] = df['DATE_INCIDENT_BEGAN'].replace('06/15/21 00:00:00+00', '06/15/21')"
   ]
  },
  {
   "cell_type": "code",
   "execution_count": 720,
   "id": "bc47b792",
   "metadata": {},
   "outputs": [],
   "source": [
    "df['DATE_INCIDENT_BEGAN'] = df['DATE_INCIDENT_BEGAN'].replace('06/14/21 00:00:00+00', '06/14/21')"
   ]
  },
  {
   "cell_type": "code",
   "execution_count": 721,
   "id": "e353361c",
   "metadata": {},
   "outputs": [],
   "source": [
    "df['DATE_INCIDENT_BEGAN'] = df['DATE_INCIDENT_BEGAN'].replace('06/13/21 00:00:00+00', '06/13/21')"
   ]
  },
  {
   "cell_type": "code",
   "execution_count": 722,
   "id": "3c0ed53d",
   "metadata": {},
   "outputs": [],
   "source": [
    "df['DATE_INCIDENT_BEGAN'] = df['DATE_INCIDENT_BEGAN'].replace('06/12/21 00:00:00+00', '06/12/21')"
   ]
  },
  {
   "cell_type": "code",
   "execution_count": 723,
   "id": "6f42adae",
   "metadata": {},
   "outputs": [],
   "source": [
    "df['DATE_INCIDENT_BEGAN'] = df['DATE_INCIDENT_BEGAN'].replace('06/11/21 00:00:00+00', '06/11/21')"
   ]
  },
  {
   "cell_type": "code",
   "execution_count": 724,
   "id": "4e04cd32",
   "metadata": {},
   "outputs": [],
   "source": [
    "df['DATE_INCIDENT_BEGAN'] = df['DATE_INCIDENT_BEGAN'].replace('06/10/21 00:00:00+00', '06/10/21')"
   ]
  },
  {
   "cell_type": "code",
   "execution_count": 725,
   "id": "62faa1ff",
   "metadata": {},
   "outputs": [],
   "source": [
    "df['DATE_INCIDENT_BEGAN'] = df['DATE_INCIDENT_BEGAN'].replace('06/09/21 00:00:00+00', '06/09/21')"
   ]
  },
  {
   "cell_type": "code",
   "execution_count": 726,
   "id": "e6e03962",
   "metadata": {},
   "outputs": [],
   "source": [
    "df['DATE_INCIDENT_BEGAN'] = df['DATE_INCIDENT_BEGAN'].replace('06/08/21 00:00:00+00', '06/08/21')"
   ]
  },
  {
   "cell_type": "code",
   "execution_count": 727,
   "id": "909fa4d8",
   "metadata": {},
   "outputs": [],
   "source": [
    "df['DATE_INCIDENT_BEGAN'] = df['DATE_INCIDENT_BEGAN'].replace('06/07/21 00:00:00+00', '06/07/21')"
   ]
  },
  {
   "cell_type": "code",
   "execution_count": 728,
   "id": "34095c02",
   "metadata": {},
   "outputs": [],
   "source": [
    "df['DATE_INCIDENT_BEGAN'] = df['DATE_INCIDENT_BEGAN'].replace('06/06/21 00:00:00+00', '06/06/21')"
   ]
  },
  {
   "cell_type": "code",
   "execution_count": 729,
   "id": "2c922c21",
   "metadata": {},
   "outputs": [],
   "source": [
    "df['DATE_INCIDENT_BEGAN'] = df['DATE_INCIDENT_BEGAN'].replace('06/05/21 00:00:00+00', '06/05/21')"
   ]
  },
  {
   "cell_type": "code",
   "execution_count": 730,
   "id": "a5893754",
   "metadata": {},
   "outputs": [],
   "source": [
    "df['DATE_INCIDENT_BEGAN'] = df['DATE_INCIDENT_BEGAN'].replace('06/04/21 00:00:00+00', '06/04/21')"
   ]
  },
  {
   "cell_type": "code",
   "execution_count": 731,
   "id": "a5ac6317",
   "metadata": {},
   "outputs": [],
   "source": [
    "df['DATE_INCIDENT_BEGAN'] = df['DATE_INCIDENT_BEGAN'].replace('06/03/21 00:00:00+00', '06/03/21')"
   ]
  },
  {
   "cell_type": "code",
   "execution_count": 732,
   "id": "89f50f01",
   "metadata": {},
   "outputs": [],
   "source": [
    "df['DATE_INCIDENT_BEGAN'] = df['DATE_INCIDENT_BEGAN'].replace('06/02/21 00:00:00+00', '06/02/21')"
   ]
  },
  {
   "cell_type": "code",
   "execution_count": 733,
   "id": "442fa446",
   "metadata": {},
   "outputs": [],
   "source": [
    "df['DATE_INCIDENT_BEGAN'] = df['DATE_INCIDENT_BEGAN'].replace('06/01/21 00:00:00+00', '06/01/21')"
   ]
  },
  {
   "cell_type": "code",
   "execution_count": 734,
   "id": "c82ba0da",
   "metadata": {},
   "outputs": [],
   "source": [
    "df['DATE_INCIDENT_BEGAN'] = df['DATE_INCIDENT_BEGAN'].replace('05/31/21 00:00:00+00', '05/31/21')"
   ]
  },
  {
   "cell_type": "code",
   "execution_count": 735,
   "id": "74d37ee4",
   "metadata": {},
   "outputs": [],
   "source": [
    "df['DATE_INCIDENT_BEGAN'] = df['DATE_INCIDENT_BEGAN'].replace('05/30/21 00:00:00+00', '05/30/21')"
   ]
  },
  {
   "cell_type": "code",
   "execution_count": 736,
   "id": "6c74617a",
   "metadata": {},
   "outputs": [],
   "source": [
    "df['DATE_INCIDENT_BEGAN'] = df['DATE_INCIDENT_BEGAN'].replace('05/29/21 00:00:00+00', '05/29/21')"
   ]
  },
  {
   "cell_type": "code",
   "execution_count": 737,
   "id": "6b64a356",
   "metadata": {},
   "outputs": [],
   "source": [
    "df['DATE_INCIDENT_BEGAN'] = df['DATE_INCIDENT_BEGAN'].replace('05/28/21 00:00:00+00', '05/28/21')"
   ]
  },
  {
   "cell_type": "code",
   "execution_count": 738,
   "id": "d72da4df",
   "metadata": {},
   "outputs": [],
   "source": [
    "df['DATE_INCIDENT_BEGAN'] = df['DATE_INCIDENT_BEGAN'].replace('05/27/21 00:00:00+00', '05/27/21')"
   ]
  },
  {
   "cell_type": "code",
   "execution_count": 739,
   "id": "8717268f",
   "metadata": {},
   "outputs": [],
   "source": [
    "df['DATE_INCIDENT_BEGAN'] = df['DATE_INCIDENT_BEGAN'].replace('05/26/21 00:00:00+00', '05/26/21')"
   ]
  },
  {
   "cell_type": "code",
   "execution_count": 740,
   "id": "f3b7c3ef",
   "metadata": {},
   "outputs": [],
   "source": [
    "df['DATE_INCIDENT_BEGAN'] = df['DATE_INCIDENT_BEGAN'].replace('05/25/21 00:00:00+00', '05/25/21')"
   ]
  },
  {
   "cell_type": "code",
   "execution_count": 741,
   "id": "1beddc35",
   "metadata": {},
   "outputs": [],
   "source": [
    "df['DATE_INCIDENT_BEGAN'] = df['DATE_INCIDENT_BEGAN'].replace('05/24/21 00:00:00+00', '05/24/21')"
   ]
  },
  {
   "cell_type": "code",
   "execution_count": 742,
   "id": "7d106bcc",
   "metadata": {},
   "outputs": [],
   "source": [
    "df['DATE_INCIDENT_BEGAN'] = df['DATE_INCIDENT_BEGAN'].replace('05/23/21 00:00:00+00', '05/23/21')"
   ]
  },
  {
   "cell_type": "code",
   "execution_count": 743,
   "id": "1e6cf1ce",
   "metadata": {},
   "outputs": [],
   "source": [
    "df['DATE_INCIDENT_BEGAN'] = df['DATE_INCIDENT_BEGAN'].replace('05/22/21 00:00:00+00', '05/22/21')"
   ]
  },
  {
   "cell_type": "code",
   "execution_count": 744,
   "id": "c9326b14",
   "metadata": {},
   "outputs": [],
   "source": [
    "df['DATE_INCIDENT_BEGAN'] = df['DATE_INCIDENT_BEGAN'].replace('05/21/21 00:00:00+00', '05/21/21')"
   ]
  },
  {
   "cell_type": "code",
   "execution_count": 745,
   "id": "90a064c7",
   "metadata": {},
   "outputs": [],
   "source": [
    "df['DATE_INCIDENT_BEGAN'] = df['DATE_INCIDENT_BEGAN'].replace('05/20/21 00:00:00+00', '05/20/21')"
   ]
  },
  {
   "cell_type": "code",
   "execution_count": 746,
   "id": "91018c72",
   "metadata": {},
   "outputs": [],
   "source": [
    "df['DATE_INCIDENT_BEGAN'] = df['DATE_INCIDENT_BEGAN'].replace('05/19/21 00:00:00+00', '05/19/21')"
   ]
  },
  {
   "cell_type": "code",
   "execution_count": 747,
   "id": "99bf0229",
   "metadata": {},
   "outputs": [],
   "source": [
    "df['DATE_INCIDENT_BEGAN'] = df['DATE_INCIDENT_BEGAN'].replace('05/18/21 00:00:00+00', '05/18/21')"
   ]
  },
  {
   "cell_type": "code",
   "execution_count": 748,
   "id": "6df40171",
   "metadata": {},
   "outputs": [],
   "source": [
    "df['DATE_INCIDENT_BEGAN'] = df['DATE_INCIDENT_BEGAN'].replace('05/17/21 00:00:00+00', '05/17/21')"
   ]
  },
  {
   "cell_type": "code",
   "execution_count": 749,
   "id": "c1bbb1be",
   "metadata": {},
   "outputs": [],
   "source": [
    "df['DATE_INCIDENT_BEGAN'] = df['DATE_INCIDENT_BEGAN'].replace('05/16/21 00:00:00+00', '05/16/21')"
   ]
  },
  {
   "cell_type": "code",
   "execution_count": 750,
   "id": "b5b6919e",
   "metadata": {},
   "outputs": [],
   "source": [
    "df['DATE_INCIDENT_BEGAN'] = df['DATE_INCIDENT_BEGAN'].replace('05/15/21 00:00:00+00', '05/15/21')"
   ]
  },
  {
   "cell_type": "code",
   "execution_count": 751,
   "id": "33c2421d",
   "metadata": {},
   "outputs": [],
   "source": [
    "df['DATE_INCIDENT_BEGAN'] = df['DATE_INCIDENT_BEGAN'].replace('05/14/21 00:00:00+00', '05/14/21')"
   ]
  },
  {
   "cell_type": "code",
   "execution_count": 752,
   "id": "b6c1dc69",
   "metadata": {},
   "outputs": [],
   "source": [
    "df['DATE_INCIDENT_BEGAN'] = df['DATE_INCIDENT_BEGAN'].replace('05/13/21 00:00:00+00', '05/13/21')"
   ]
  },
  {
   "cell_type": "code",
   "execution_count": 753,
   "id": "a69dda0c",
   "metadata": {},
   "outputs": [],
   "source": [
    "df['DATE_INCIDENT_BEGAN'] = df['DATE_INCIDENT_BEGAN'].replace('05/12/21 00:00:00+00', '05/12/21')"
   ]
  },
  {
   "cell_type": "code",
   "execution_count": 754,
   "id": "bf4163c3",
   "metadata": {},
   "outputs": [],
   "source": [
    "df['DATE_INCIDENT_BEGAN'] = df['DATE_INCIDENT_BEGAN'].replace('05/13/21 00:00:00+00', '05/13/21')"
   ]
  },
  {
   "cell_type": "code",
   "execution_count": 755,
   "id": "3eab9776",
   "metadata": {},
   "outputs": [],
   "source": [
    "df['DATE_INCIDENT_BEGAN'] = df['DATE_INCIDENT_BEGAN'].replace('05/12/21 00:00:00+00', '05/12/21')"
   ]
  },
  {
   "cell_type": "code",
   "execution_count": 756,
   "id": "c5515b93",
   "metadata": {},
   "outputs": [],
   "source": [
    "df['DATE_INCIDENT_BEGAN'] = df['DATE_INCIDENT_BEGAN'].replace('05/11/21 00:00:00+00', '05/11/21')"
   ]
  },
  {
   "cell_type": "code",
   "execution_count": 758,
   "id": "da22a34c",
   "metadata": {},
   "outputs": [],
   "source": [
    "df['DATE_INCIDENT_BEGAN'] = df['DATE_INCIDENT_BEGAN'].replace('05/10/21 00:00:00+00', '05/10/21')"
   ]
  },
  {
   "cell_type": "code",
   "execution_count": 759,
   "id": "f6b3177c",
   "metadata": {},
   "outputs": [],
   "source": [
    "df['DATE_INCIDENT_BEGAN'] = df['DATE_INCIDENT_BEGAN'].replace('05/09/21 00:00:00+00', '05/09/21')"
   ]
  },
  {
   "cell_type": "code",
   "execution_count": 760,
   "id": "19cf4fa0",
   "metadata": {},
   "outputs": [],
   "source": [
    "df['DATE_INCIDENT_BEGAN'] = df['DATE_INCIDENT_BEGAN'].replace('05/08/21 00:00:00+00', '05/08/21')"
   ]
  },
  {
   "cell_type": "code",
   "execution_count": 761,
   "id": "40eeb6c4",
   "metadata": {},
   "outputs": [],
   "source": [
    "df['DATE_INCIDENT_BEGAN'] = df['DATE_INCIDENT_BEGAN'].replace('05/07/21 00:00:00+00', '05/07/21')"
   ]
  },
  {
   "cell_type": "code",
   "execution_count": 762,
   "id": "d7ff8b14",
   "metadata": {},
   "outputs": [],
   "source": [
    "df['DATE_INCIDENT_BEGAN'] = df['DATE_INCIDENT_BEGAN'].replace('05/06/21 00:00:00+00', '05/06/21')"
   ]
  },
  {
   "cell_type": "code",
   "execution_count": 763,
   "id": "5d29d95e",
   "metadata": {},
   "outputs": [],
   "source": [
    "df['DATE_INCIDENT_BEGAN'] = df['DATE_INCIDENT_BEGAN'].replace('05/05/21 00:00:00+00', '05/05/21')"
   ]
  },
  {
   "cell_type": "code",
   "execution_count": 764,
   "id": "808fc794",
   "metadata": {},
   "outputs": [],
   "source": [
    "df['DATE_INCIDENT_BEGAN'] = df['DATE_INCIDENT_BEGAN'].replace('05/04/21 00:00:00+00', '05/04/21')"
   ]
  },
  {
   "cell_type": "code",
   "execution_count": 765,
   "id": "e0bdc348",
   "metadata": {},
   "outputs": [],
   "source": [
    "df['DATE_INCIDENT_BEGAN'] = df['DATE_INCIDENT_BEGAN'].replace('05/03/21 00:00:00+00', '05/03/21')"
   ]
  },
  {
   "cell_type": "code",
   "execution_count": 766,
   "id": "b30e40d8",
   "metadata": {},
   "outputs": [],
   "source": [
    "df['DATE_INCIDENT_BEGAN'] = df['DATE_INCIDENT_BEGAN'].replace('05/02/21 00:00:00+00', '05/02/21')"
   ]
  },
  {
   "cell_type": "code",
   "execution_count": 767,
   "id": "799deebd",
   "metadata": {},
   "outputs": [],
   "source": [
    "df['DATE_INCIDENT_BEGAN'] = df['DATE_INCIDENT_BEGAN'].replace('05/01/21 00:00:00+00', '05/01/21')"
   ]
  },
  {
   "cell_type": "code",
   "execution_count": 768,
   "id": "e53e5763",
   "metadata": {},
   "outputs": [],
   "source": [
    "df['DATE_INCIDENT_BEGAN'] = df['DATE_INCIDENT_BEGAN'].replace('04/31/21 00:00:00+00', '04/31/21')"
   ]
  },
  {
   "cell_type": "code",
   "execution_count": 772,
   "id": "54a8d440",
   "metadata": {},
   "outputs": [],
   "source": [
    "df['DATE_INCIDENT_BEGAN'] = df['DATE_INCIDENT_BEGAN'].replace('04/30/21 00:00:00+00', '04/30/21')\n"
   ]
  },
  {
   "cell_type": "code",
   "execution_count": 773,
   "id": "0bc06948",
   "metadata": {},
   "outputs": [],
   "source": [
    "df['DATE_INCIDENT_BEGAN'] = df['DATE_INCIDENT_BEGAN'].replace('04/29/21 00:00:00+00', '04/29/21')\n"
   ]
  },
  {
   "cell_type": "code",
   "execution_count": 774,
   "id": "b687f45f",
   "metadata": {},
   "outputs": [],
   "source": [
    "df['DATE_INCIDENT_BEGAN'] = df['DATE_INCIDENT_BEGAN'].replace('04/28/21 00:00:00+00', '04/28/21')"
   ]
  },
  {
   "cell_type": "code",
   "execution_count": 775,
   "id": "e594a6de",
   "metadata": {},
   "outputs": [],
   "source": [
    "df['DATE_INCIDENT_BEGAN'] = df['DATE_INCIDENT_BEGAN'].replace('04/27/21 00:00:00+00', '04/27/21')"
   ]
  },
  {
   "cell_type": "code",
   "execution_count": 776,
   "id": "cc6f793c",
   "metadata": {},
   "outputs": [],
   "source": [
    "df['DATE_INCIDENT_BEGAN'] = df['DATE_INCIDENT_BEGAN'].replace('04/26/21 00:00:00+00', '04/26/21')"
   ]
  },
  {
   "cell_type": "code",
   "execution_count": 778,
   "id": "08b2ca56",
   "metadata": {},
   "outputs": [],
   "source": [
    "df['DATE_INCIDENT_BEGAN'] = df['DATE_INCIDENT_BEGAN'].replace('04/25/21 00:00:00+00', '04/25/21')"
   ]
  },
  {
   "cell_type": "code",
   "execution_count": 779,
   "id": "f63ab072",
   "metadata": {},
   "outputs": [],
   "source": [
    "df['DATE_INCIDENT_BEGAN'] = df['DATE_INCIDENT_BEGAN'].replace('04/24/21 00:00:00+00', '04/24/21')"
   ]
  },
  {
   "cell_type": "code",
   "execution_count": 780,
   "id": "6a052f4a",
   "metadata": {},
   "outputs": [],
   "source": [
    "df['DATE_INCIDENT_BEGAN'] = df['DATE_INCIDENT_BEGAN'].replace('04/23/21 00:00:00+00', '04/23/21')"
   ]
  },
  {
   "cell_type": "code",
   "execution_count": 781,
   "id": "d43ae0a2",
   "metadata": {},
   "outputs": [],
   "source": [
    "df['DATE_INCIDENT_BEGAN'] = df['DATE_INCIDENT_BEGAN'].replace('04/22/21 00:00:00+00', '04/22/21')"
   ]
  },
  {
   "cell_type": "code",
   "execution_count": 782,
   "id": "3774b9b2",
   "metadata": {},
   "outputs": [],
   "source": [
    "df['DATE_INCIDENT_BEGAN'] = df['DATE_INCIDENT_BEGAN'].replace('04/21/21 00:00:00+00', '04/21/21')"
   ]
  },
  {
   "cell_type": "code",
   "execution_count": 783,
   "id": "6ebb7ca5",
   "metadata": {},
   "outputs": [],
   "source": [
    "df['DATE_INCIDENT_BEGAN'] = df['DATE_INCIDENT_BEGAN'].replace('04/20/21 00:00:00+00', '04/20/21')"
   ]
  },
  {
   "cell_type": "code",
   "execution_count": 784,
   "id": "749504ca",
   "metadata": {},
   "outputs": [],
   "source": [
    "df['DATE_INCIDENT_BEGAN'] = df['DATE_INCIDENT_BEGAN'].replace('04/19/21 00:00:00+00', '04/19/21')"
   ]
  },
  {
   "cell_type": "code",
   "execution_count": 785,
   "id": "00a91d24",
   "metadata": {},
   "outputs": [],
   "source": [
    "df['DATE_INCIDENT_BEGAN'] = df['DATE_INCIDENT_BEGAN'].replace('04/18/21 00:00:00+00', '04/18/21')"
   ]
  },
  {
   "cell_type": "code",
   "execution_count": 786,
   "id": "0233a06f",
   "metadata": {},
   "outputs": [],
   "source": [
    "df['DATE_INCIDENT_BEGAN'] = df['DATE_INCIDENT_BEGAN'].replace('04/17/21 00:00:00+00', '04/17/21')"
   ]
  },
  {
   "cell_type": "code",
   "execution_count": 787,
   "id": "be96cf9c",
   "metadata": {},
   "outputs": [],
   "source": [
    "df['DATE_INCIDENT_BEGAN'] = df['DATE_INCIDENT_BEGAN'].replace('04/16/21 00:00:00+00', '04/16/21')"
   ]
  },
  {
   "cell_type": "code",
   "execution_count": 788,
   "id": "669faa43",
   "metadata": {},
   "outputs": [],
   "source": [
    "df['DATE_INCIDENT_BEGAN'] = df['DATE_INCIDENT_BEGAN'].replace('04/15/21 00:00:00+00', '04/15/21')"
   ]
  },
  {
   "cell_type": "code",
   "execution_count": 789,
   "id": "70b09734",
   "metadata": {},
   "outputs": [],
   "source": [
    "df['DATE_INCIDENT_BEGAN'] = df['DATE_INCIDENT_BEGAN'].replace('04/14/21 00:00:00+00', '04/14/21')"
   ]
  },
  {
   "cell_type": "code",
   "execution_count": 790,
   "id": "92a7ef18",
   "metadata": {},
   "outputs": [],
   "source": [
    "df['DATE_INCIDENT_BEGAN'] = df['DATE_INCIDENT_BEGAN'].replace('04/13/21 00:00:00+00', '04/13/21')"
   ]
  },
  {
   "cell_type": "code",
   "execution_count": 791,
   "id": "3b003d6c",
   "metadata": {},
   "outputs": [],
   "source": [
    "df['DATE_INCIDENT_BEGAN'] = df['DATE_INCIDENT_BEGAN'].replace('04/12/21 00:00:00+00', '04/12/21')"
   ]
  },
  {
   "cell_type": "code",
   "execution_count": 792,
   "id": "49188d8f",
   "metadata": {},
   "outputs": [],
   "source": [
    "df['DATE_INCIDENT_BEGAN'] = df['DATE_INCIDENT_BEGAN'].replace('04/11/21 00:00:00+00', '04/11/21')"
   ]
  },
  {
   "cell_type": "code",
   "execution_count": 793,
   "id": "8392a0a8",
   "metadata": {},
   "outputs": [],
   "source": [
    "df['DATE_INCIDENT_BEGAN'] = df['DATE_INCIDENT_BEGAN'].replace('04/10/21 00:00:00+00', '04/10/21')"
   ]
  },
  {
   "cell_type": "code",
   "execution_count": 794,
   "id": "d16bd3f2",
   "metadata": {},
   "outputs": [],
   "source": [
    "df['DATE_INCIDENT_BEGAN'] = df['DATE_INCIDENT_BEGAN'].replace('04/09/21 00:00:00+00', '04/09/21')"
   ]
  },
  {
   "cell_type": "code",
   "execution_count": 795,
   "id": "c458acc6",
   "metadata": {},
   "outputs": [],
   "source": [
    "df['DATE_INCIDENT_BEGAN'] = df['DATE_INCIDENT_BEGAN'].replace('04/08/21 00:00:00+00', '04/08/21')"
   ]
  },
  {
   "cell_type": "code",
   "execution_count": 796,
   "id": "c9e954ba",
   "metadata": {},
   "outputs": [],
   "source": [
    "df['DATE_INCIDENT_BEGAN'] = df['DATE_INCIDENT_BEGAN'].replace('04/07/21 00:00:00+00', '04/07/21')"
   ]
  },
  {
   "cell_type": "code",
   "execution_count": 797,
   "id": "017782da",
   "metadata": {},
   "outputs": [],
   "source": [
    "df['DATE_INCIDENT_BEGAN'] = df['DATE_INCIDENT_BEGAN'].replace('04/06/21 00:00:00+00', '04/06/21')"
   ]
  },
  {
   "cell_type": "code",
   "execution_count": 798,
   "id": "90c2ada4",
   "metadata": {},
   "outputs": [],
   "source": [
    "df['DATE_INCIDENT_BEGAN'] = df['DATE_INCIDENT_BEGAN'].replace('04/05/21 00:00:00+00', '04/05/21')"
   ]
  },
  {
   "cell_type": "code",
   "execution_count": 799,
   "id": "60e99480",
   "metadata": {},
   "outputs": [],
   "source": [
    "df['DATE_INCIDENT_BEGAN'] = df['DATE_INCIDENT_BEGAN'].replace('04/04/21 00:00:00+00', '04/04/21')"
   ]
  },
  {
   "cell_type": "code",
   "execution_count": 801,
   "id": "810e4f7a",
   "metadata": {},
   "outputs": [],
   "source": [
    "df['DATE_INCIDENT_BEGAN'] = df['DATE_INCIDENT_BEGAN'].replace('04/03/21 00:00:00+00', '04/03/21')"
   ]
  },
  {
   "cell_type": "code",
   "execution_count": 802,
   "id": "ab367250",
   "metadata": {},
   "outputs": [],
   "source": [
    "df['DATE_INCIDENT_BEGAN'] = df['DATE_INCIDENT_BEGAN'].replace('04/02/21 00:00:00+00', '04/02/21')"
   ]
  },
  {
   "cell_type": "code",
   "execution_count": 803,
   "id": "68cc72fe",
   "metadata": {},
   "outputs": [],
   "source": [
    "df['DATE_INCIDENT_BEGAN'] = df['DATE_INCIDENT_BEGAN'].replace('04/01/21 00:00:00+00', '04/01/21')"
   ]
  },
  {
   "cell_type": "code",
   "execution_count": 805,
   "id": "9e0ac78f",
   "metadata": {},
   "outputs": [],
   "source": [
    "df['DATE_INCIDENT_BEGAN'] = df['DATE_INCIDENT_BEGAN'].replace('03/31/21 00:00:00+00', '03/31/21')"
   ]
  },
  {
   "cell_type": "code",
   "execution_count": 806,
   "id": "d011b103",
   "metadata": {},
   "outputs": [],
   "source": [
    "df['DATE_INCIDENT_BEGAN'] = df['DATE_INCIDENT_BEGAN'].replace('03/30/21 00:00:00+00', '03/30/21')"
   ]
  },
  {
   "cell_type": "code",
   "execution_count": 807,
   "id": "e12bc9c2",
   "metadata": {},
   "outputs": [],
   "source": [
    "df['DATE_INCIDENT_BEGAN'] = df['DATE_INCIDENT_BEGAN'].replace('03/29/21 00:00:00+00', '03/29/21')"
   ]
  },
  {
   "cell_type": "code",
   "execution_count": 808,
   "id": "98324291",
   "metadata": {},
   "outputs": [],
   "source": [
    "df['DATE_INCIDENT_BEGAN'] = df['DATE_INCIDENT_BEGAN'].replace('03/28/21 00:00:00+00', '03/28/21')"
   ]
  },
  {
   "cell_type": "code",
   "execution_count": 809,
   "id": "490e9922",
   "metadata": {},
   "outputs": [],
   "source": [
    "df['DATE_INCIDENT_BEGAN'] = df['DATE_INCIDENT_BEGAN'].replace('03/27/21 00:00:00+00', '03/27/21')"
   ]
  },
  {
   "cell_type": "code",
   "execution_count": 810,
   "id": "2ec96e90",
   "metadata": {},
   "outputs": [],
   "source": [
    "df['DATE_INCIDENT_BEGAN'] = df['DATE_INCIDENT_BEGAN'].replace('03/26/21 00:00:00+00', '03/26/21')"
   ]
  },
  {
   "cell_type": "code",
   "execution_count": 811,
   "id": "415002eb",
   "metadata": {},
   "outputs": [],
   "source": [
    "df['DATE_INCIDENT_BEGAN'] = df['DATE_INCIDENT_BEGAN'].replace('03/25/21 00:00:00+00', '03/25/21')"
   ]
  },
  {
   "cell_type": "code",
   "execution_count": 812,
   "id": "0c6d3e19",
   "metadata": {},
   "outputs": [],
   "source": [
    "df['DATE_INCIDENT_BEGAN'] = df['DATE_INCIDENT_BEGAN'].replace('03/24/21 00:00:00+00', '03/24/21')"
   ]
  },
  {
   "cell_type": "code",
   "execution_count": 813,
   "id": "acc724cb",
   "metadata": {},
   "outputs": [],
   "source": [
    "df['DATE_INCIDENT_BEGAN'] = df['DATE_INCIDENT_BEGAN'].replace('03/23/21 00:00:00+00', '03/23/21')"
   ]
  },
  {
   "cell_type": "code",
   "execution_count": 814,
   "id": "d1f98b9a",
   "metadata": {},
   "outputs": [],
   "source": [
    "df['DATE_INCIDENT_BEGAN'] = df['DATE_INCIDENT_BEGAN'].replace('03/22/21 00:00:00+00', '03/22/21')"
   ]
  },
  {
   "cell_type": "code",
   "execution_count": 815,
   "id": "1d6cccba",
   "metadata": {},
   "outputs": [],
   "source": [
    "df['DATE_INCIDENT_BEGAN'] = df['DATE_INCIDENT_BEGAN'].replace('03/21/21 00:00:00+00', '03/21/21')"
   ]
  },
  {
   "cell_type": "code",
   "execution_count": 816,
   "id": "d350f939",
   "metadata": {},
   "outputs": [],
   "source": [
    "df['DATE_INCIDENT_BEGAN'] = df['DATE_INCIDENT_BEGAN'].replace('03/20/21 00:00:00+00', '03/20/21')"
   ]
  },
  {
   "cell_type": "code",
   "execution_count": 817,
   "id": "1c44cede",
   "metadata": {},
   "outputs": [],
   "source": [
    "df['DATE_INCIDENT_BEGAN'] = df['DATE_INCIDENT_BEGAN'].replace('03/19/21 00:00:00+00', '03/19/21')"
   ]
  },
  {
   "cell_type": "code",
   "execution_count": 818,
   "id": "7170017f",
   "metadata": {},
   "outputs": [],
   "source": [
    "df['DATE_INCIDENT_BEGAN'] = df['DATE_INCIDENT_BEGAN'].replace('03/18/21 00:00:00+00', '03/18/21')"
   ]
  },
  {
   "cell_type": "code",
   "execution_count": 819,
   "id": "54280ae3",
   "metadata": {},
   "outputs": [],
   "source": [
    "df['DATE_INCIDENT_BEGAN'] = df['DATE_INCIDENT_BEGAN'].replace('03/17/21 00:00:00+00', '03/17/21')"
   ]
  },
  {
   "cell_type": "code",
   "execution_count": 820,
   "id": "09144118",
   "metadata": {},
   "outputs": [],
   "source": [
    "df['DATE_INCIDENT_BEGAN'] = df['DATE_INCIDENT_BEGAN'].replace('03/16/21 00:00:00+00', '03/16/21')"
   ]
  },
  {
   "cell_type": "code",
   "execution_count": 821,
   "id": "6cee1adb",
   "metadata": {},
   "outputs": [],
   "source": [
    "df['DATE_INCIDENT_BEGAN'] = df['DATE_INCIDENT_BEGAN'].replace('03/15/21 00:00:00+00', '03/15/21')"
   ]
  },
  {
   "cell_type": "raw",
   "id": "140840a7",
   "metadata": {},
   "source": [
    "df['DATE_INCIDENT_BEGAN'] = df['DATE_INCIDENT_BEGAN'].replace('03/14/21 00:00:00+00', '03/14/21')"
   ]
  },
  {
   "cell_type": "code",
   "execution_count": 822,
   "id": "acaf7962",
   "metadata": {},
   "outputs": [],
   "source": [
    "df['DATE_INCIDENT_BEGAN'] = df['DATE_INCIDENT_BEGAN'].replace('03/14/21 00:00:00+00', '03/14/21')"
   ]
  },
  {
   "cell_type": "code",
   "execution_count": 823,
   "id": "1804e9cc",
   "metadata": {},
   "outputs": [],
   "source": [
    "df['DATE_INCIDENT_BEGAN'] = df['DATE_INCIDENT_BEGAN'].replace('03/13/21 00:00:00+00', '03/13/21')"
   ]
  },
  {
   "cell_type": "code",
   "execution_count": 824,
   "id": "ec48fe99",
   "metadata": {},
   "outputs": [],
   "source": [
    "df['DATE_INCIDENT_BEGAN'] = df['DATE_INCIDENT_BEGAN'].replace('03/12/21 00:00:00+00', '03/12/21')"
   ]
  },
  {
   "cell_type": "code",
   "execution_count": 825,
   "id": "6494297e",
   "metadata": {},
   "outputs": [],
   "source": [
    "df['DATE_INCIDENT_BEGAN'] = df['DATE_INCIDENT_BEGAN'].replace('03/11/21 00:00:00+00', '03/11/21')"
   ]
  },
  {
   "cell_type": "code",
   "execution_count": 826,
   "id": "ecb36079",
   "metadata": {},
   "outputs": [],
   "source": [
    "df['DATE_INCIDENT_BEGAN'] = df['DATE_INCIDENT_BEGAN'].replace('03/10/21 00:00:00+00', '03/10/21')"
   ]
  },
  {
   "cell_type": "code",
   "execution_count": 827,
   "id": "8f310c2f",
   "metadata": {},
   "outputs": [],
   "source": [
    "df['DATE_INCIDENT_BEGAN'] = df['DATE_INCIDENT_BEGAN'].replace('03/09/21 00:00:00+00', '03/09/21')"
   ]
  },
  {
   "cell_type": "code",
   "execution_count": 828,
   "id": "ec9d79e7",
   "metadata": {},
   "outputs": [],
   "source": [
    "df['DATE_INCIDENT_BEGAN'] = df['DATE_INCIDENT_BEGAN'].replace('03/08/21 00:00:00+00', '03/08/21')"
   ]
  },
  {
   "cell_type": "code",
   "execution_count": 829,
   "id": "df13f2f0",
   "metadata": {},
   "outputs": [],
   "source": [
    "df['DATE_INCIDENT_BEGAN'] = df['DATE_INCIDENT_BEGAN'].replace('03/07/21 00:00:00+00', '03/07/21')"
   ]
  },
  {
   "cell_type": "code",
   "execution_count": 830,
   "id": "be2a6875",
   "metadata": {},
   "outputs": [],
   "source": [
    "df['DATE_INCIDENT_BEGAN'] = df['DATE_INCIDENT_BEGAN'].replace('03/06/21 00:00:00+00', '03/06/21')"
   ]
  },
  {
   "cell_type": "code",
   "execution_count": 831,
   "id": "c8cba7ad",
   "metadata": {},
   "outputs": [],
   "source": [
    "df['DATE_INCIDENT_BEGAN'] = df['DATE_INCIDENT_BEGAN'].replace('03/05/21 00:00:00+00', '03/05/21')"
   ]
  },
  {
   "cell_type": "code",
   "execution_count": 832,
   "id": "27f53d9e",
   "metadata": {},
   "outputs": [],
   "source": [
    "df['DATE_INCIDENT_BEGAN'] = df['DATE_INCIDENT_BEGAN'].replace('03/04/21 00:00:00+00', '03/04/21')"
   ]
  },
  {
   "cell_type": "code",
   "execution_count": 833,
   "id": "c6ae10b8",
   "metadata": {},
   "outputs": [],
   "source": [
    "df['DATE_INCIDENT_BEGAN'] = df['DATE_INCIDENT_BEGAN'].replace('03/03/21 00:00:00+00', '03/03/21')"
   ]
  },
  {
   "cell_type": "code",
   "execution_count": 834,
   "id": "68102b95",
   "metadata": {},
   "outputs": [],
   "source": [
    "df['DATE_INCIDENT_BEGAN'] = df['DATE_INCIDENT_BEGAN'].replace('03/02/21 00:00:00+00', '03/02/21')"
   ]
  },
  {
   "cell_type": "code",
   "execution_count": 835,
   "id": "2a7fbf30",
   "metadata": {},
   "outputs": [],
   "source": [
    "df['DATE_INCIDENT_BEGAN'] = df['DATE_INCIDENT_BEGAN'].replace('03/01/21 00:00:00+00', '03/01/21')"
   ]
  },
  {
   "cell_type": "code",
   "execution_count": 836,
   "id": "c6f8b047",
   "metadata": {},
   "outputs": [],
   "source": [
    "df['DATE_INCIDENT_BEGAN'] = df['DATE_INCIDENT_BEGAN'].replace('02/31/21 00:00:00+00', '02/31/21')"
   ]
  },
  {
   "cell_type": "code",
   "execution_count": 837,
   "id": "50eebee4",
   "metadata": {},
   "outputs": [],
   "source": [
    "df['DATE_INCIDENT_BEGAN'] = df['DATE_INCIDENT_BEGAN'].replace('02/30/21 00:00:00+00', '02/30/21')"
   ]
  },
  {
   "cell_type": "code",
   "execution_count": 838,
   "id": "11762c99",
   "metadata": {},
   "outputs": [],
   "source": [
    "df['DATE_INCIDENT_BEGAN'] = df['DATE_INCIDENT_BEGAN'].replace('02/29/21 00:00:00+00', '02/29/21')"
   ]
  },
  {
   "cell_type": "code",
   "execution_count": 839,
   "id": "9dabe19e",
   "metadata": {},
   "outputs": [],
   "source": [
    "df['DATE_INCIDENT_BEGAN'] = df['DATE_INCIDENT_BEGAN'].replace('02/28/21 00:00:00+00', '02/28/21')"
   ]
  },
  {
   "cell_type": "code",
   "execution_count": 840,
   "id": "870f0756",
   "metadata": {},
   "outputs": [],
   "source": [
    "df['DATE_INCIDENT_BEGAN'] = df['DATE_INCIDENT_BEGAN'].replace('02/27/21 00:00:00+00', '02/27/21')"
   ]
  },
  {
   "cell_type": "code",
   "execution_count": 841,
   "id": "4ef51e04",
   "metadata": {},
   "outputs": [],
   "source": [
    "df['DATE_INCIDENT_BEGAN'] = df['DATE_INCIDENT_BEGAN'].replace('02/26/21 00:00:00+00', '02/26/21')"
   ]
  },
  {
   "cell_type": "code",
   "execution_count": 842,
   "id": "a10335c6",
   "metadata": {},
   "outputs": [],
   "source": [
    "df['DATE_INCIDENT_BEGAN'] = df['DATE_INCIDENT_BEGAN'].replace('02/25/21 00:00:00+00', '02/25/21')"
   ]
  },
  {
   "cell_type": "code",
   "execution_count": 843,
   "id": "84fe6312",
   "metadata": {},
   "outputs": [],
   "source": [
    "df['DATE_INCIDENT_BEGAN'] = df['DATE_INCIDENT_BEGAN'].replace('02/24/21 00:00:00+00', '02/24/21')"
   ]
  },
  {
   "cell_type": "code",
   "execution_count": 844,
   "id": "c169e6f2",
   "metadata": {},
   "outputs": [],
   "source": [
    "df['DATE_INCIDENT_BEGAN'] = df['DATE_INCIDENT_BEGAN'].replace('02/23/21 00:00:00+00', '02/23/21')"
   ]
  },
  {
   "cell_type": "code",
   "execution_count": 845,
   "id": "3014f706",
   "metadata": {},
   "outputs": [],
   "source": [
    "df['DATE_INCIDENT_BEGAN'] = df['DATE_INCIDENT_BEGAN'].replace('02/22/21 00:00:00+00', '02/22/21')"
   ]
  },
  {
   "cell_type": "code",
   "execution_count": 846,
   "id": "3eef3427",
   "metadata": {},
   "outputs": [],
   "source": [
    "df['DATE_INCIDENT_BEGAN'] = df['DATE_INCIDENT_BEGAN'].replace('02/21/21 00:00:00+00', '02/21/21')"
   ]
  },
  {
   "cell_type": "code",
   "execution_count": 847,
   "id": "9d53ad1b",
   "metadata": {},
   "outputs": [],
   "source": [
    "df['DATE_INCIDENT_BEGAN'] = df['DATE_INCIDENT_BEGAN'].replace('02/20/21 00:00:00+00', '02/20/21')"
   ]
  },
  {
   "cell_type": "code",
   "execution_count": 848,
   "id": "6d731ff5",
   "metadata": {},
   "outputs": [],
   "source": [
    "df['DATE_INCIDENT_BEGAN'] = df['DATE_INCIDENT_BEGAN'].replace('02/19/21 00:00:00+00', '02/19/21')"
   ]
  },
  {
   "cell_type": "code",
   "execution_count": 849,
   "id": "9f6c68fd",
   "metadata": {},
   "outputs": [],
   "source": [
    "df['DATE_INCIDENT_BEGAN'] = df['DATE_INCIDENT_BEGAN'].replace('02/18/21 00:00:00+00', '02/18/21')"
   ]
  },
  {
   "cell_type": "code",
   "execution_count": 850,
   "id": "179323e3",
   "metadata": {},
   "outputs": [],
   "source": [
    "df['DATE_INCIDENT_BEGAN'] = df['DATE_INCIDENT_BEGAN'].replace('02/17/21 00:00:00+00', '02/17/21')"
   ]
  },
  {
   "cell_type": "code",
   "execution_count": 851,
   "id": "1bf10c95",
   "metadata": {},
   "outputs": [],
   "source": [
    "df['DATE_INCIDENT_BEGAN'] = df['DATE_INCIDENT_BEGAN'].replace('02/16/21 00:00:00+00', '02/16/21')"
   ]
  },
  {
   "cell_type": "code",
   "execution_count": 852,
   "id": "f563dfe5",
   "metadata": {},
   "outputs": [],
   "source": [
    "df['DATE_INCIDENT_BEGAN'] = df['DATE_INCIDENT_BEGAN'].replace('02/15/21 00:00:00+00', '02/15/21')"
   ]
  },
  {
   "cell_type": "code",
   "execution_count": 853,
   "id": "1ae54aa2",
   "metadata": {},
   "outputs": [],
   "source": [
    "df['DATE_INCIDENT_BEGAN'] = df['DATE_INCIDENT_BEGAN'].replace('02/14/21 00:00:00+00', '02/14/21')"
   ]
  },
  {
   "cell_type": "code",
   "execution_count": 854,
   "id": "5e448eb2",
   "metadata": {},
   "outputs": [],
   "source": [
    "df['DATE_INCIDENT_BEGAN'] = df['DATE_INCIDENT_BEGAN'].replace('02/13/21 00:00:00+00', '02/13/21')"
   ]
  },
  {
   "cell_type": "code",
   "execution_count": 855,
   "id": "4a03cd5b",
   "metadata": {},
   "outputs": [],
   "source": [
    "df['DATE_INCIDENT_BEGAN'] = df['DATE_INCIDENT_BEGAN'].replace('02/12/21 00:00:00+00', '02/12/21')"
   ]
  },
  {
   "cell_type": "code",
   "execution_count": 856,
   "id": "c41fddf7",
   "metadata": {},
   "outputs": [],
   "source": [
    "df['DATE_INCIDENT_BEGAN'] = df['DATE_INCIDENT_BEGAN'].replace('02/11/21 00:00:00+00', '02/11/21')"
   ]
  },
  {
   "cell_type": "code",
   "execution_count": 857,
   "id": "69c8d6db",
   "metadata": {},
   "outputs": [],
   "source": [
    "df['DATE_INCIDENT_BEGAN'] = df['DATE_INCIDENT_BEGAN'].replace('02/10/21 00:00:00+00', '02/10/21')"
   ]
  },
  {
   "cell_type": "code",
   "execution_count": 858,
   "id": "bf87961e",
   "metadata": {},
   "outputs": [],
   "source": [
    "df['DATE_INCIDENT_BEGAN'] = df['DATE_INCIDENT_BEGAN'].replace('02/09/21 00:00:00+00', '02/09/21')"
   ]
  },
  {
   "cell_type": "code",
   "execution_count": 859,
   "id": "d04d53f9",
   "metadata": {},
   "outputs": [],
   "source": [
    "df['DATE_INCIDENT_BEGAN'] = df['DATE_INCIDENT_BEGAN'].replace('02/08/21 00:00:00+00', '02/08/21')"
   ]
  },
  {
   "cell_type": "code",
   "execution_count": 860,
   "id": "55c52064",
   "metadata": {},
   "outputs": [],
   "source": [
    "df['DATE_INCIDENT_BEGAN'] = df['DATE_INCIDENT_BEGAN'].replace('02/07/21 00:00:00+00', '02/07/21')"
   ]
  },
  {
   "cell_type": "code",
   "execution_count": 861,
   "id": "2154fb57",
   "metadata": {},
   "outputs": [],
   "source": [
    "df['DATE_INCIDENT_BEGAN'] = df['DATE_INCIDENT_BEGAN'].replace('02/06/21 00:00:00+00', '02/06/21')"
   ]
  },
  {
   "cell_type": "code",
   "execution_count": 862,
   "id": "87ba46e3",
   "metadata": {},
   "outputs": [],
   "source": [
    "df['DATE_INCIDENT_BEGAN'] = df['DATE_INCIDENT_BEGAN'].replace('02/05/21 00:00:00+00', '02/05/21')"
   ]
  },
  {
   "cell_type": "code",
   "execution_count": 863,
   "id": "17ec5df4",
   "metadata": {},
   "outputs": [],
   "source": [
    "df['DATE_INCIDENT_BEGAN'] = df['DATE_INCIDENT_BEGAN'].replace('02/04/21 00:00:00+00', '02/04/21')"
   ]
  },
  {
   "cell_type": "code",
   "execution_count": 864,
   "id": "ef759d5c",
   "metadata": {},
   "outputs": [],
   "source": [
    "df['DATE_INCIDENT_BEGAN'] = df['DATE_INCIDENT_BEGAN'].replace('02/03/21 00:00:00+00', '02/03/21')"
   ]
  },
  {
   "cell_type": "code",
   "execution_count": 865,
   "id": "c895734a",
   "metadata": {},
   "outputs": [],
   "source": [
    "df['DATE_INCIDENT_BEGAN'] = df['DATE_INCIDENT_BEGAN'].replace('02/02/21 00:00:00+00', '02/02/21')"
   ]
  },
  {
   "cell_type": "code",
   "execution_count": 866,
   "id": "17bc5edb",
   "metadata": {},
   "outputs": [],
   "source": [
    "df['DATE_INCIDENT_BEGAN'] = df['DATE_INCIDENT_BEGAN'].replace('02/01/21 00:00:00+00', '02/01/21')"
   ]
  },
  {
   "cell_type": "code",
   "execution_count": 867,
   "id": "6d8ad535",
   "metadata": {},
   "outputs": [],
   "source": [
    "df['DATE_INCIDENT_BEGAN'] = df['DATE_INCIDENT_BEGAN'].replace('01/31/21 00:00:00+00', '01/31/21')"
   ]
  },
  {
   "cell_type": "code",
   "execution_count": 868,
   "id": "6659f495",
   "metadata": {},
   "outputs": [],
   "source": [
    "df['DATE_INCIDENT_BEGAN'] = df['DATE_INCIDENT_BEGAN'].replace('01/30/21 00:00:00+00', '01/30/21')"
   ]
  },
  {
   "cell_type": "code",
   "execution_count": 869,
   "id": "f9993a35",
   "metadata": {},
   "outputs": [],
   "source": [
    "df['DATE_INCIDENT_BEGAN'] = df['DATE_INCIDENT_BEGAN'].replace('01/29/21 00:00:00+00', '01/29/21')"
   ]
  },
  {
   "cell_type": "code",
   "execution_count": 870,
   "id": "5047b6ef",
   "metadata": {},
   "outputs": [],
   "source": [
    "df['DATE_INCIDENT_BEGAN'] = df['DATE_INCIDENT_BEGAN'].replace('01/28/21 00:00:00+00', '01/28/21')"
   ]
  },
  {
   "cell_type": "code",
   "execution_count": 871,
   "id": "6228d0c2",
   "metadata": {},
   "outputs": [],
   "source": [
    "df['DATE_INCIDENT_BEGAN'] = df['DATE_INCIDENT_BEGAN'].replace('01/27/21 00:00:00+00', '01/27/21')"
   ]
  },
  {
   "cell_type": "code",
   "execution_count": 876,
   "id": "88f2fcdb",
   "metadata": {},
   "outputs": [],
   "source": [
    "df['DATE_INCIDENT_BEGAN'] = df['DATE_INCIDENT_BEGAN'].replace('01/26/21 00:00:00+00', '01/26/21')"
   ]
  },
  {
   "cell_type": "code",
   "execution_count": 877,
   "id": "e74e962f",
   "metadata": {},
   "outputs": [],
   "source": [
    "df['DATE_INCIDENT_BEGAN'] = df['DATE_INCIDENT_BEGAN'].replace('01/25/21 00:00:00+00', '01/25/21')"
   ]
  },
  {
   "cell_type": "code",
   "execution_count": 895,
   "id": "b962734c",
   "metadata": {},
   "outputs": [],
   "source": [
    "df['DATE_INCIDENT_BEGAN'] = df['DATE_INCIDENT_BEGAN'].replace('01/24/21 00:00:00+00', '01/24/21')"
   ]
  },
  {
   "cell_type": "code",
   "execution_count": 879,
   "id": "857ffd91",
   "metadata": {},
   "outputs": [],
   "source": [
    "df['DATE_INCIDENT_BEGAN'] = df['DATE_INCIDENT_BEGAN'].replace('01/23/21 00:00:00+00', '01/23/21')"
   ]
  },
  {
   "cell_type": "code",
   "execution_count": 880,
   "id": "164e9c0a",
   "metadata": {},
   "outputs": [],
   "source": [
    "df['DATE_INCIDENT_BEGAN'] = df['DATE_INCIDENT_BEGAN'].replace('01/22/21 00:00:00+00', '01/22/21')"
   ]
  },
  {
   "cell_type": "code",
   "execution_count": 881,
   "id": "92d7670c",
   "metadata": {},
   "outputs": [],
   "source": [
    "df['DATE_INCIDENT_BEGAN'] = df['DATE_INCIDENT_BEGAN'].replace('01/21/21 00:00:00+00', '01/21/21')"
   ]
  },
  {
   "cell_type": "code",
   "execution_count": 882,
   "id": "60e05d24",
   "metadata": {},
   "outputs": [],
   "source": [
    "df['DATE_INCIDENT_BEGAN'] = df['DATE_INCIDENT_BEGAN'].replace('01/20/21 00:00:00+00', '01/20/21')"
   ]
  },
  {
   "cell_type": "code",
   "execution_count": 883,
   "id": "ce45d456",
   "metadata": {},
   "outputs": [],
   "source": [
    "df['DATE_INCIDENT_BEGAN'] = df['DATE_INCIDENT_BEGAN'].replace('01/19/21 00:00:00+00', '01/19/21')"
   ]
  },
  {
   "cell_type": "code",
   "execution_count": 884,
   "id": "caffc282",
   "metadata": {},
   "outputs": [],
   "source": [
    "df['DATE_INCIDENT_BEGAN'] = df['DATE_INCIDENT_BEGAN'].replace('01/18/21 00:00:00+00', '01/18/21')"
   ]
  },
  {
   "cell_type": "code",
   "execution_count": 885,
   "id": "147d6085",
   "metadata": {},
   "outputs": [],
   "source": [
    "df['DATE_INCIDENT_BEGAN'] = df['DATE_INCIDENT_BEGAN'].replace('01/17/21 00:00:00+00', '01/17/21')"
   ]
  },
  {
   "cell_type": "code",
   "execution_count": 886,
   "id": "98147b5d",
   "metadata": {},
   "outputs": [],
   "source": [
    "df['DATE_INCIDENT_BEGAN'] = df['DATE_INCIDENT_BEGAN'].replace('01/16/21 00:00:00+00', '01/16/21')"
   ]
  },
  {
   "cell_type": "code",
   "execution_count": 887,
   "id": "34dde1ce",
   "metadata": {},
   "outputs": [],
   "source": [
    "df['DATE_INCIDENT_BEGAN'] = df['DATE_INCIDENT_BEGAN'].replace('01/15/21 00:00:00+00', '01/15/21')"
   ]
  },
  {
   "cell_type": "code",
   "execution_count": 888,
   "id": "52c9364a",
   "metadata": {},
   "outputs": [],
   "source": [
    "df['DATE_INCIDENT_BEGAN'] = df['DATE_INCIDENT_BEGAN'].replace('01/14/21 00:00:00+00', '01/14/21')"
   ]
  },
  {
   "cell_type": "code",
   "execution_count": 890,
   "id": "a7109d10",
   "metadata": {},
   "outputs": [],
   "source": [
    "df['DATE_INCIDENT_BEGAN'] = df['DATE_INCIDENT_BEGAN'].replace('01/13/21 00:00:00+00', '01/13/21')"
   ]
  },
  {
   "cell_type": "code",
   "execution_count": 891,
   "id": "c254aae2",
   "metadata": {},
   "outputs": [],
   "source": [
    "df['DATE_INCIDENT_BEGAN'] = df['DATE_INCIDENT_BEGAN'].replace('01/12/21 00:00:00+00', '01/12/21')"
   ]
  },
  {
   "cell_type": "code",
   "execution_count": 892,
   "id": "7b1f7713",
   "metadata": {},
   "outputs": [],
   "source": [
    "df['DATE_INCIDENT_BEGAN'] = df['DATE_INCIDENT_BEGAN'].replace('01/11/21 00:00:00+00', '01/11/21')"
   ]
  },
  {
   "cell_type": "code",
   "execution_count": 893,
   "id": "bb7ef6d8",
   "metadata": {},
   "outputs": [],
   "source": [
    "df['DATE_INCIDENT_BEGAN'] = df['DATE_INCIDENT_BEGAN'].replace('01/10/21 00:00:00+00', '01/10/21')"
   ]
  },
  {
   "cell_type": "code",
   "execution_count": 894,
   "id": "3131e1fc",
   "metadata": {},
   "outputs": [],
   "source": [
    "df['DATE_INCIDENT_BEGAN'] = df['DATE_INCIDENT_BEGAN'].replace('01/09/21 00:00:00+00', '01/09/21')"
   ]
  },
  {
   "cell_type": "code",
   "execution_count": 896,
   "id": "83003288",
   "metadata": {},
   "outputs": [],
   "source": [
    "df['DATE_INCIDENT_BEGAN'] = df['DATE_INCIDENT_BEGAN'].replace('01/08/21 00:00:00+00', '01/08/21')"
   ]
  },
  {
   "cell_type": "code",
   "execution_count": 897,
   "id": "04ebe0c6",
   "metadata": {},
   "outputs": [],
   "source": [
    "df['DATE_INCIDENT_BEGAN'] = df['DATE_INCIDENT_BEGAN'].replace('01/07/21 00:00:00+00', '01/07/21')"
   ]
  },
  {
   "cell_type": "code",
   "execution_count": 898,
   "id": "10325683",
   "metadata": {},
   "outputs": [],
   "source": [
    "df['DATE_INCIDENT_BEGAN'] = df['DATE_INCIDENT_BEGAN'].replace('01/06/21 00:00:00+00', '01/06/21')"
   ]
  },
  {
   "cell_type": "code",
   "execution_count": 899,
   "id": "78785a67",
   "metadata": {},
   "outputs": [],
   "source": [
    "df['DATE_INCIDENT_BEGAN'] = df['DATE_INCIDENT_BEGAN'].replace('01/05/21 00:00:00+00', '01/05/21')"
   ]
  },
  {
   "cell_type": "code",
   "execution_count": 900,
   "id": "2b25025c",
   "metadata": {},
   "outputs": [],
   "source": [
    "df['DATE_INCIDENT_BEGAN'] = df['DATE_INCIDENT_BEGAN'].replace('01/04/21 00:00:00+00', '01/04/21')"
   ]
  },
  {
   "cell_type": "code",
   "execution_count": 901,
   "id": "a90fa89f",
   "metadata": {},
   "outputs": [],
   "source": [
    "df['DATE_INCIDENT_BEGAN'] = df['DATE_INCIDENT_BEGAN'].replace('01/03/21 00:00:00+00', '01/03/21')"
   ]
  },
  {
   "cell_type": "code",
   "execution_count": 902,
   "id": "cb5b2dac",
   "metadata": {},
   "outputs": [],
   "source": [
    "df['DATE_INCIDENT_BEGAN'] = df['DATE_INCIDENT_BEGAN'].replace('01/02/21 00:00:00+00', '01/02/21')"
   ]
  },
  {
   "cell_type": "code",
   "execution_count": 903,
   "id": "a159f4e9",
   "metadata": {},
   "outputs": [],
   "source": [
    "df['DATE_INCIDENT_BEGAN'] = df['DATE_INCIDENT_BEGAN'].replace('01/01/21 00:00:00+00', '01/01/21')"
   ]
  },
  {
   "cell_type": "code",
   "execution_count": null,
   "id": "7841c468",
   "metadata": {},
   "outputs": [],
   "source": [
    "df['DATE_INCIDENT_BEGAN'] = df['DATE_INCIDENT_BEGAN'].replace('12/31/20 00:00:00+00', '12/31/20')"
   ]
  }
 ],
 "metadata": {
  "kernelspec": {
   "display_name": "PythonData",
   "language": "python",
   "name": "pythondata"
  },
  "language_info": {
   "codemirror_mode": {
    "name": "ipython",
    "version": 3
   },
   "file_extension": ".py",
   "mimetype": "text/x-python",
   "name": "python",
   "nbconvert_exporter": "python",
   "pygments_lexer": "ipython3",
   "version": "3.7.13"
  }
 },
 "nbformat": 4,
 "nbformat_minor": 5
}
